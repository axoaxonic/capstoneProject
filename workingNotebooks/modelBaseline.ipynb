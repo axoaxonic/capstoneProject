{
 "cells": [
  {
   "cell_type": "code",
   "execution_count": 1,
   "metadata": {},
   "outputs": [],
   "source": [
    "import pandas as pd\n",
    "import numpy as np\n",
    "# import dask.dataframe as dd # trying out parallelization library dask for saving memory. see: https://www.youtube.com/watch?v=CVL8sTXT714\n",
    "import pywt\n",
    "import nolds\n",
    "import scipy\n",
    "import meegkit\n",
    "import time"
   ]
  },
  {
   "cell_type": "code",
   "execution_count": 2,
   "metadata": {},
   "outputs": [],
   "source": [
    "import seaborn as sns\n",
    "import matplotlib.pyplot as plt"
   ]
  },
  {
   "cell_type": "code",
   "execution_count": 12,
   "metadata": {},
   "outputs": [],
   "source": [
    "# import tensorflow as tf\n",
    "# from tensorflow.keras.models import Sequential # do these need to be tf.keras? review why\n",
    "# from tensorflow.keras.layers import Dense, Conv1D, Conv2D \n",
    "# from sklearn.cross_decomposition import CCA "
   ]
  },
  {
   "cell_type": "code",
   "execution_count": 5,
   "metadata": {},
   "outputs": [],
   "source": [
    "from sklearn.model_selection import train_test_split"
   ]
  },
  {
   "cell_type": "markdown",
   "metadata": {},
   "source": [
    "------------\n",
    "## Importing cleaned and curated data\n",
    "------------"
   ]
  },
  {
   "cell_type": "code",
   "execution_count": 2,
   "metadata": {
    "scrolled": false
   },
   "outputs": [
    {
     "name": "stdout",
     "output_type": "stream",
     "text": [
      "               total        used        free      shared  buff/cache   available\r\n",
      "Mem:            15Gi       2.1Gi        10Gi       212Mi       3.0Gi        12Gi\r\n",
      "Swap:          976Mi          0B       976Mi\r\n"
     ]
    }
   ],
   "source": [
    "!free -h"
   ]
  },
  {
   "cell_type": "code",
   "execution_count": 3,
   "metadata": {},
   "outputs": [
    {
     "ename": "FileNotFoundError",
     "evalue": "[Errno 2] No such file or directory: 'baseline.csv'",
     "output_type": "error",
     "traceback": [
      "\u001b[0;31m--------------------------------------------------------------------\u001b[0m",
      "\u001b[0;31mFileNotFoundError\u001b[0m                  Traceback (most recent call last)",
      "\u001b[0;32m<ipython-input-3-1b82024429fe>\u001b[0m in \u001b[0;36m<module>\u001b[0;34m\u001b[0m\n\u001b[0;32m----> 1\u001b[0;31m \u001b[0mbaseline\u001b[0m \u001b[0;34m=\u001b[0m \u001b[0mpd\u001b[0m\u001b[0;34m.\u001b[0m\u001b[0mread_csv\u001b[0m\u001b[0;34m(\u001b[0m\u001b[0;34m'baseline.csv'\u001b[0m\u001b[0;34m)\u001b[0m\u001b[0;34m\u001b[0m\u001b[0;34m\u001b[0m\u001b[0m\n\u001b[0m",
      "\u001b[0;32m~/anaconda3/envs/learn-env/lib/python3.8/site-packages/pandas/io/parsers.py\u001b[0m in \u001b[0;36mread_csv\u001b[0;34m(filepath_or_buffer, sep, delimiter, header, names, index_col, usecols, squeeze, prefix, mangle_dupe_cols, dtype, engine, converters, true_values, false_values, skipinitialspace, skiprows, skipfooter, nrows, na_values, keep_default_na, na_filter, verbose, skip_blank_lines, parse_dates, infer_datetime_format, keep_date_col, date_parser, dayfirst, cache_dates, iterator, chunksize, compression, thousands, decimal, lineterminator, quotechar, quoting, doublequote, escapechar, comment, encoding, dialect, error_bad_lines, warn_bad_lines, delim_whitespace, low_memory, memory_map, float_precision)\u001b[0m\n\u001b[1;32m    684\u001b[0m     )\n\u001b[1;32m    685\u001b[0m \u001b[0;34m\u001b[0m\u001b[0m\n\u001b[0;32m--> 686\u001b[0;31m     \u001b[0;32mreturn\u001b[0m \u001b[0m_read\u001b[0m\u001b[0;34m(\u001b[0m\u001b[0mfilepath_or_buffer\u001b[0m\u001b[0;34m,\u001b[0m \u001b[0mkwds\u001b[0m\u001b[0;34m)\u001b[0m\u001b[0;34m\u001b[0m\u001b[0;34m\u001b[0m\u001b[0m\n\u001b[0m\u001b[1;32m    687\u001b[0m \u001b[0;34m\u001b[0m\u001b[0m\n\u001b[1;32m    688\u001b[0m \u001b[0;34m\u001b[0m\u001b[0m\n",
      "\u001b[0;32m~/anaconda3/envs/learn-env/lib/python3.8/site-packages/pandas/io/parsers.py\u001b[0m in \u001b[0;36m_read\u001b[0;34m(filepath_or_buffer, kwds)\u001b[0m\n\u001b[1;32m    450\u001b[0m \u001b[0;34m\u001b[0m\u001b[0m\n\u001b[1;32m    451\u001b[0m     \u001b[0;31m# Create the parser.\u001b[0m\u001b[0;34m\u001b[0m\u001b[0;34m\u001b[0m\u001b[0;34m\u001b[0m\u001b[0m\n\u001b[0;32m--> 452\u001b[0;31m     \u001b[0mparser\u001b[0m \u001b[0;34m=\u001b[0m \u001b[0mTextFileReader\u001b[0m\u001b[0;34m(\u001b[0m\u001b[0mfp_or_buf\u001b[0m\u001b[0;34m,\u001b[0m \u001b[0;34m**\u001b[0m\u001b[0mkwds\u001b[0m\u001b[0;34m)\u001b[0m\u001b[0;34m\u001b[0m\u001b[0;34m\u001b[0m\u001b[0m\n\u001b[0m\u001b[1;32m    453\u001b[0m \u001b[0;34m\u001b[0m\u001b[0m\n\u001b[1;32m    454\u001b[0m     \u001b[0;32mif\u001b[0m \u001b[0mchunksize\u001b[0m \u001b[0;32mor\u001b[0m \u001b[0miterator\u001b[0m\u001b[0;34m:\u001b[0m\u001b[0;34m\u001b[0m\u001b[0;34m\u001b[0m\u001b[0m\n",
      "\u001b[0;32m~/anaconda3/envs/learn-env/lib/python3.8/site-packages/pandas/io/parsers.py\u001b[0m in \u001b[0;36m__init__\u001b[0;34m(self, f, engine, **kwds)\u001b[0m\n\u001b[1;32m    944\u001b[0m             \u001b[0mself\u001b[0m\u001b[0;34m.\u001b[0m\u001b[0moptions\u001b[0m\u001b[0;34m[\u001b[0m\u001b[0;34m\"has_index_names\"\u001b[0m\u001b[0;34m]\u001b[0m \u001b[0;34m=\u001b[0m \u001b[0mkwds\u001b[0m\u001b[0;34m[\u001b[0m\u001b[0;34m\"has_index_names\"\u001b[0m\u001b[0;34m]\u001b[0m\u001b[0;34m\u001b[0m\u001b[0;34m\u001b[0m\u001b[0m\n\u001b[1;32m    945\u001b[0m \u001b[0;34m\u001b[0m\u001b[0m\n\u001b[0;32m--> 946\u001b[0;31m         \u001b[0mself\u001b[0m\u001b[0;34m.\u001b[0m\u001b[0m_make_engine\u001b[0m\u001b[0;34m(\u001b[0m\u001b[0mself\u001b[0m\u001b[0;34m.\u001b[0m\u001b[0mengine\u001b[0m\u001b[0;34m)\u001b[0m\u001b[0;34m\u001b[0m\u001b[0;34m\u001b[0m\u001b[0m\n\u001b[0m\u001b[1;32m    947\u001b[0m \u001b[0;34m\u001b[0m\u001b[0m\n\u001b[1;32m    948\u001b[0m     \u001b[0;32mdef\u001b[0m \u001b[0mclose\u001b[0m\u001b[0;34m(\u001b[0m\u001b[0mself\u001b[0m\u001b[0;34m)\u001b[0m\u001b[0;34m:\u001b[0m\u001b[0;34m\u001b[0m\u001b[0;34m\u001b[0m\u001b[0m\n",
      "\u001b[0;32m~/anaconda3/envs/learn-env/lib/python3.8/site-packages/pandas/io/parsers.py\u001b[0m in \u001b[0;36m_make_engine\u001b[0;34m(self, engine)\u001b[0m\n\u001b[1;32m   1176\u001b[0m     \u001b[0;32mdef\u001b[0m \u001b[0m_make_engine\u001b[0m\u001b[0;34m(\u001b[0m\u001b[0mself\u001b[0m\u001b[0;34m,\u001b[0m \u001b[0mengine\u001b[0m\u001b[0;34m=\u001b[0m\u001b[0;34m\"c\"\u001b[0m\u001b[0;34m)\u001b[0m\u001b[0;34m:\u001b[0m\u001b[0;34m\u001b[0m\u001b[0;34m\u001b[0m\u001b[0m\n\u001b[1;32m   1177\u001b[0m         \u001b[0;32mif\u001b[0m \u001b[0mengine\u001b[0m \u001b[0;34m==\u001b[0m \u001b[0;34m\"c\"\u001b[0m\u001b[0;34m:\u001b[0m\u001b[0;34m\u001b[0m\u001b[0;34m\u001b[0m\u001b[0m\n\u001b[0;32m-> 1178\u001b[0;31m             \u001b[0mself\u001b[0m\u001b[0;34m.\u001b[0m\u001b[0m_engine\u001b[0m \u001b[0;34m=\u001b[0m \u001b[0mCParserWrapper\u001b[0m\u001b[0;34m(\u001b[0m\u001b[0mself\u001b[0m\u001b[0;34m.\u001b[0m\u001b[0mf\u001b[0m\u001b[0;34m,\u001b[0m \u001b[0;34m**\u001b[0m\u001b[0mself\u001b[0m\u001b[0;34m.\u001b[0m\u001b[0moptions\u001b[0m\u001b[0;34m)\u001b[0m\u001b[0;34m\u001b[0m\u001b[0;34m\u001b[0m\u001b[0m\n\u001b[0m\u001b[1;32m   1179\u001b[0m         \u001b[0;32melse\u001b[0m\u001b[0;34m:\u001b[0m\u001b[0;34m\u001b[0m\u001b[0;34m\u001b[0m\u001b[0m\n\u001b[1;32m   1180\u001b[0m             \u001b[0;32mif\u001b[0m \u001b[0mengine\u001b[0m \u001b[0;34m==\u001b[0m \u001b[0;34m\"python\"\u001b[0m\u001b[0;34m:\u001b[0m\u001b[0;34m\u001b[0m\u001b[0;34m\u001b[0m\u001b[0m\n",
      "\u001b[0;32m~/anaconda3/envs/learn-env/lib/python3.8/site-packages/pandas/io/parsers.py\u001b[0m in \u001b[0;36m__init__\u001b[0;34m(self, src, **kwds)\u001b[0m\n\u001b[1;32m   2006\u001b[0m         \u001b[0mkwds\u001b[0m\u001b[0;34m[\u001b[0m\u001b[0;34m\"usecols\"\u001b[0m\u001b[0;34m]\u001b[0m \u001b[0;34m=\u001b[0m \u001b[0mself\u001b[0m\u001b[0;34m.\u001b[0m\u001b[0musecols\u001b[0m\u001b[0;34m\u001b[0m\u001b[0;34m\u001b[0m\u001b[0m\n\u001b[1;32m   2007\u001b[0m \u001b[0;34m\u001b[0m\u001b[0m\n\u001b[0;32m-> 2008\u001b[0;31m         \u001b[0mself\u001b[0m\u001b[0;34m.\u001b[0m\u001b[0m_reader\u001b[0m \u001b[0;34m=\u001b[0m \u001b[0mparsers\u001b[0m\u001b[0;34m.\u001b[0m\u001b[0mTextReader\u001b[0m\u001b[0;34m(\u001b[0m\u001b[0msrc\u001b[0m\u001b[0;34m,\u001b[0m \u001b[0;34m**\u001b[0m\u001b[0mkwds\u001b[0m\u001b[0;34m)\u001b[0m\u001b[0;34m\u001b[0m\u001b[0;34m\u001b[0m\u001b[0m\n\u001b[0m\u001b[1;32m   2009\u001b[0m         \u001b[0mself\u001b[0m\u001b[0;34m.\u001b[0m\u001b[0munnamed_cols\u001b[0m \u001b[0;34m=\u001b[0m \u001b[0mself\u001b[0m\u001b[0;34m.\u001b[0m\u001b[0m_reader\u001b[0m\u001b[0;34m.\u001b[0m\u001b[0munnamed_cols\u001b[0m\u001b[0;34m\u001b[0m\u001b[0;34m\u001b[0m\u001b[0m\n\u001b[1;32m   2010\u001b[0m \u001b[0;34m\u001b[0m\u001b[0m\n",
      "\u001b[0;32mpandas/_libs/parsers.pyx\u001b[0m in \u001b[0;36mpandas._libs.parsers.TextReader.__cinit__\u001b[0;34m()\u001b[0m\n",
      "\u001b[0;32mpandas/_libs/parsers.pyx\u001b[0m in \u001b[0;36mpandas._libs.parsers.TextReader._setup_parser_source\u001b[0;34m()\u001b[0m\n",
      "\u001b[0;31mFileNotFoundError\u001b[0m: [Errno 2] No such file or directory: 'baseline.csv'"
     ]
    }
   ],
   "source": [
    "baseline = pd.read_csv('baseline.csv')"
   ]
  },
  {
   "cell_type": "code",
   "execution_count": 7,
   "metadata": {},
   "outputs": [
    {
     "name": "stdout",
     "output_type": "stream",
     "text": [
      "               total        used        free      shared  buff/cache   available\r\n",
      "Mem:            15Gi       7.3Gi       4.3Gi       199Mi       3.9Gi       7.7Gi\r\n",
      "Swap:          976Mi          0B       976Mi\r\n"
     ]
    }
   ],
   "source": [
    "!free -h # half my memory :thumbsup:"
   ]
  },
  {
   "cell_type": "code",
   "execution_count": 11,
   "metadata": {
    "scrolled": true
   },
   "outputs": [
    {
     "name": "stdout",
     "output_type": "stream",
     "text": [
      "<class 'pandas.core.frame.DataFrame'>\n",
      "RangeIndex: 50696325 entries, 0 to 50696324\n",
      "Data columns (total 5 columns):\n",
      " #   Column      Dtype \n",
      "---  ------      ----- \n",
      " 0   Unnamed: 0  int64 \n",
      " 1   event       int64 \n",
      " 2   channel     object\n",
      " 3   code        int64 \n",
      " 4   data        object\n",
      "dtypes: int64(3), object(2)\n",
      "memory usage: 1.9+ GB\n"
     ]
    }
   ],
   "source": [
    "baseDF.info()"
   ]
  },
  {
   "cell_type": "code",
   "execution_count": 13,
   "metadata": {},
   "outputs": [],
   "source": [
    "# baseDF['data'].astype('float', copy=False)"
   ]
  },
  {
   "cell_type": "code",
   "execution_count": 8,
   "metadata": {},
   "outputs": [
    {
     "data": {
      "text/html": [
       "<div>\n",
       "<style scoped>\n",
       "    .dataframe tbody tr th:only-of-type {\n",
       "        vertical-align: middle;\n",
       "    }\n",
       "\n",
       "    .dataframe tbody tr th {\n",
       "        vertical-align: top;\n",
       "    }\n",
       "\n",
       "    .dataframe thead th {\n",
       "        text-align: right;\n",
       "    }\n",
       "</style>\n",
       "<table border=\"1\" class=\"dataframe\">\n",
       "  <thead>\n",
       "    <tr style=\"text-align: right;\">\n",
       "      <th></th>\n",
       "      <th>Unnamed: 0</th>\n",
       "      <th>event</th>\n",
       "      <th>channel</th>\n",
       "      <th>code</th>\n",
       "      <th>data</th>\n",
       "    </tr>\n",
       "  </thead>\n",
       "  <tbody>\n",
       "    <tr>\n",
       "      <th>0</th>\n",
       "      <td>0</td>\n",
       "      <td>67635</td>\n",
       "      <td>O1</td>\n",
       "      <td>6</td>\n",
       "      <td>4203.08</td>\n",
       "    </tr>\n",
       "    <tr>\n",
       "      <th>1</th>\n",
       "      <td>1</td>\n",
       "      <td>67635</td>\n",
       "      <td>O1</td>\n",
       "      <td>6</td>\n",
       "      <td>4193.33</td>\n",
       "    </tr>\n",
       "    <tr>\n",
       "      <th>2</th>\n",
       "      <td>2</td>\n",
       "      <td>67635</td>\n",
       "      <td>O1</td>\n",
       "      <td>6</td>\n",
       "      <td>4194.87</td>\n",
       "    </tr>\n",
       "    <tr>\n",
       "      <th>3</th>\n",
       "      <td>3</td>\n",
       "      <td>67635</td>\n",
       "      <td>O1</td>\n",
       "      <td>6</td>\n",
       "      <td>4207.18</td>\n",
       "    </tr>\n",
       "    <tr>\n",
       "      <th>4</th>\n",
       "      <td>4</td>\n",
       "      <td>67635</td>\n",
       "      <td>O1</td>\n",
       "      <td>6</td>\n",
       "      <td>4220.51</td>\n",
       "    </tr>\n",
       "  </tbody>\n",
       "</table>\n",
       "</div>"
      ],
      "text/plain": [
       "   Unnamed: 0  event channel  code     data\n",
       "0           0  67635      O1     6  4203.08\n",
       "1           1  67635      O1     6  4193.33\n",
       "2           2  67635      O1     6  4194.87\n",
       "3           3  67635      O1     6  4207.18\n",
       "4           4  67635      O1     6  4220.51"
      ]
     },
     "execution_count": 8,
     "metadata": {},
     "output_type": "execute_result"
    }
   ],
   "source": [
    "baseDF.head()"
   ]
  },
  {
   "cell_type": "code",
   "execution_count": 13,
   "metadata": {},
   "outputs": [
    {
     "name": "stdout",
     "output_type": "stream",
     "text": [
      "    \"# fef1 = emotiv[(emotiv['channel'] == 'F7')] = fefF7\\n\",\r\n",
      "    \"# fef2 = emotiv[(emotiv['channel'] == 'F8')] = fefF8\\n\",\r\n",
      "    \"# fef3 = emotiv[(emotiv['channel'] == 'FC5')] fefFC5\\n\",\r\n",
      "    \"# fef4 = emotiv[(emotiv['channel'] == 'FC6')] = fefFC6\\n\",\r\n"
     ]
    }
   ],
   "source": [
    "# !grep 'fef[1,2,3,4]\\ =' workingNotebook.ipynb"
   ]
  },
  {
   "cell_type": "code",
   "execution_count": 3,
   "metadata": {
    "scrolled": true
   },
   "outputs": [
    {
     "name": "stdout",
     "output_type": "stream",
     "text": [
      "25.862765550613403\n"
     ]
    }
   ],
   "source": [
    "# occ0 = dd.read_csv('occ0Exp.csv')\n",
    "# occ1 = dd.read_csv('occ1Exp.csv')\n",
    "# fefF3 = dd.read_csv('fefF3Exp.csv' )\n",
    "# fefF4 = dd.read_csv('fefF4Exp.csv' )\n",
    "# fefF7 = dd.read_csv('fef1Exp.csv')\n",
    "# fefF8 = dd.read_csv('fef2Exp.csv')\n",
    "# fefFC5 = dd.read_csv('fef3Exp.csv')\n",
    "# fefFC6 = dd.read_csv('fef4Exp.csv')\n",
    "\n",
    "# for minimum model, O1 O2 F7 and F7 would probably give the most visual only info\n",
    "\n",
    "# t1 = time.time()\n",
    "# occ0 = pd.read_csv('occ0Exp.csv')\n",
    "# t2 = time.time()\n",
    "# print(t2-t1)\n",
    "# t1 = time.time()\n",
    "# occ1 = pd.read_csv('occ1Exp.csv')\n",
    "# t2 = time.time()\n",
    "# print(t2-t1)\n",
    "# t1 = time.time()\n",
    "# fefF3 = pd.read_csv('fefF3Exp.csv' )\n",
    "# t2 = time.time()\n",
    "# print(t2-t1)\n",
    "# t1 = time.time()\n",
    "# fefF4 = pd.read_csv('fefF4Exp.csv' )\n",
    "# t2 = time.time()\n",
    "# print(t2-t1)\n",
    "# t1 = time.time()\n",
    "# fefF7 = pd.read_csv('fef1Exp.csv')\n",
    "# t2 = time.time()\n",
    "# print(t2-t1)\n",
    "# t1 = time.time()\n",
    "# fefF8 = pd.read_csv('fef2Exp.csv')\n",
    "# t2 = time.time()\n",
    "# print(t2-t1)\n",
    "# t1 = time.time()\n",
    "# fefFC5 = pd.read_csv('fef3Exp.csv')\n",
    "# t2 = time.time()\n",
    "# print(t2-t1)\n",
    "# t1 = time.time()\n",
    "# fefFC6 = pd.read_csv('fef4Exp.csv')\n",
    "# t2 = time.time()\n",
    "# print(t2-t1)"
   ]
  },
  {
   "cell_type": "code",
   "execution_count": 5,
   "metadata": {},
   "outputs": [
    {
     "name": "stdout",
     "output_type": "stream",
     "text": [
      "2.6884381771087646\n"
     ]
    }
   ],
   "source": [
    "# t1 = time.time()\n",
    "# baseDF = pd.concat([occ0, occ1, fefF7, fefF8])\n",
    "# t2 = time.time()\n",
    "# print(t2-t1)"
   ]
  },
  {
   "cell_type": "code",
   "execution_count": 10,
   "metadata": {
    "scrolled": true
   },
   "outputs": [
    {
     "name": "stdout",
     "output_type": "stream",
     "text": [
      "               total        used        free      shared  buff/cache   available\r\n",
      "Mem:            15Gi       8.5Gi       3.2Gi       215Mi       3.9Gi       6.5Gi\r\n",
      "Swap:          976Mi          0B       976Mi\r\n"
     ]
    }
   ],
   "source": [
    "!free -h"
   ]
  },
  {
   "cell_type": "code",
   "execution_count": 14,
   "metadata": {},
   "outputs": [
    {
     "data": {
      "text/plain": [
       "Index(['Unnamed: 0', 'id', 'event', 'channel', 'code', 'size', 'data'], dtype='object')"
      ]
     },
     "execution_count": 14,
     "metadata": {},
     "output_type": "execute_result"
    }
   ],
   "source": [
    "# baseDF.columns"
   ]
  },
  {
   "cell_type": "code",
   "execution_count": 7,
   "metadata": {},
   "outputs": [],
   "source": [
    "# baseDF.drop(['Unnamed: 0', 'size', 'id'], axis=1, inplace=True)"
   ]
  },
  {
   "cell_type": "code",
   "execution_count": 8,
   "metadata": {},
   "outputs": [],
   "source": [
    "baseDF.to_csv('baseDF.csv')"
   ]
  },
  {
   "cell_type": "code",
   "execution_count": 16,
   "metadata": {},
   "outputs": [
    {
     "name": "stdout",
     "output_type": "stream",
     "text": [
      "0.07574987411499023\n",
      "0.002901792526245117\n",
      "1.4689276218414307\n"
     ]
    }
   ],
   "source": [
    "# comparing pd and dd speeds for a mean func\n",
    "\n",
    "# t1 = time.time()\n",
    "# pandaocc0['data'].mean()\n",
    "# t2 = time.time()\n",
    "# print(t2-t1)\n",
    "# t1 = time.time()\n",
    "# occ0['data'].mean()\n",
    "# t2 = time.time()\n",
    "# print(t2-t1)\n",
    "# t1 = time.time()\n",
    "# occ0['data'].mean().compute()\n",
    "# t2 = time.time()\n",
    "# print(t2-t1)\n",
    "# dask is way faster but needs a .compute() method which makes it slower?\n",
    "# 0.07574987411499023\n",
    "# 0.002901792526245117\n",
    "# 1.4689276218414307"
   ]
  },
  {
   "cell_type": "code",
   "execution_count": 18,
   "metadata": {},
   "outputs": [
    {
     "data": {
      "text/plain": [
       "(1805849507, 32)"
      ]
     },
     "execution_count": 18,
     "metadata": {},
     "output_type": "execute_result"
    }
   ],
   "source": [
    "# pandaocc0.__sizeof__(), occ0.__sizeof__() # this is the real proof of dask, occ0 is only 32 bytes???"
   ]
  },
  {
   "cell_type": "code",
   "execution_count": 6,
   "metadata": {},
   "outputs": [
    {
     "name": "stdout",
     "output_type": "stream",
     "text": [
      "               total        used        free      shared  buff/cache   available\r\n",
      "Mem:            15Gi       2.6Gi       6.1Gi       352Mi       6.8Gi        12Gi\r\n",
      "Swap:          976Mi       2.0Mi       974Mi\r\n"
     ]
    }
   ],
   "source": [
    "!free -h"
   ]
  },
  {
   "cell_type": "code",
   "execution_count": 6,
   "metadata": {},
   "outputs": [],
   "source": [
    "# fefF3 = dd.read_csv('fefF3Exp.csv' )"
   ]
  },
  {
   "cell_type": "code",
   "execution_count": 8,
   "metadata": {},
   "outputs": [],
   "source": [
    "# !free -h"
   ]
  },
  {
   "cell_type": "code",
   "execution_count": 8,
   "metadata": {},
   "outputs": [],
   "source": [
    "# pandafefF3 = pd.read_csv('fefF3Exp.csv')"
   ]
  },
  {
   "cell_type": "code",
   "execution_count": 7,
   "metadata": {},
   "outputs": [],
   "source": [
    "# !free -h"
   ]
  },
  {
   "cell_type": "code",
   "execution_count": 10,
   "metadata": {},
   "outputs": [
    {
     "data": {
      "text/plain": [
       "(1805849507, 32)"
      ]
     },
     "execution_count": 10,
     "metadata": {},
     "output_type": "execute_result"
    }
   ],
   "source": [
    "pandafefF3.__sizeof__(), fefF3.__sizeof__()"
   ]
  },
  {
   "cell_type": "markdown",
   "metadata": {},
   "source": [
    " Looking at a printout of the original occExp, checking to see if order is the same.\n",
    " Both head() and tail() show the same data order, so setting 'event' as index doesn't change the order of the data. \n",
    "\n",
    "```\n",
    "\n",
    "id\tevent\tchannel\tcode\tsize\tdata\n",
    "6\t67641\t67635\tO1\t6\t260\t4203.076923\n",
    "6\t67641\t67635\tO1\t6\t260\t4193.333333\n",
    "6\t67641\t67635\tO1\t6\t260\t4194.871794\n",
    "6\t67641\t67635\tO1\t6\t260\t4207.179487\n",
    "6\t67641\t67635\tO1\t6\t260\t4220.512820\n",
    "...\t...\t...\t...\t...\t...\t...\n",
    "910469\t978104\t132668\tO2\t-1\t256\t4215.384615\n",
    "910469\t978104\t132668\tO2\t-1\t256\t4218.461538\n",
    "910469\t978104\t132668\tO2\t-1\t256\t4212.820512\n",
    "910469\t978104\t132668\tO2\t-1\t256\t4213.846153\n",
    "910469\t978104\t132668\tO2\t-1\t256\t4222.564102\n",
    "```\n"
   ]
  },
  {
   "cell_type": "code",
   "execution_count": 68,
   "metadata": {},
   "outputs": [],
   "source": [
    "# import matplotlib.font_manager"
   ]
  },
  {
   "cell_type": "code",
   "execution_count": 91,
   "metadata": {},
   "outputs": [
    {
     "data": {
      "text/plain": [
       "65033"
      ]
     },
     "execution_count": 91,
     "metadata": {},
     "output_type": "execute_result"
    }
   ],
   "source": [
    "# max(set(occExp.index)), min(set(occExp.index))\n",
    "(132668 - 67635)"
   ]
  },
  {
   "cell_type": "code",
   "execution_count": 88,
   "metadata": {
    "scrolled": false
   },
   "outputs": [
    {
     "data": {
      "image/png": "[encoded data removed]",
      "text/plain": [
       "<Figure size 936x504 with 1 Axes>"
      ]
     },
     "metadata": {},
     "output_type": "display_data"
    }
   ],
   "source": [
    "# fig, ax = plt.subplots(figsize=(13,7))\n",
    "# sns.lineplot(data=occExp.drop('code', axis=1)[:30000], palette='plasma')\n",
    "# # sns.set_theme(context='notebook', style='ticks', palette='deep', font='Calibri', font_scale=1)\n",
    "# sns.set(rc={'axes.facecolor':'silver', 'figure.facecolor':'silver'})\n",
    "# # "
   ]
  },
  {
   "cell_type": "code",
   "execution_count": 81,
   "metadata": {},
   "outputs": [
    {
     "data": {
      "text/plain": [
       "<AxesSubplot:xlabel='event'>"
      ]
     },
     "execution_count": 81,
     "metadata": {},
     "output_type": "execute_result"
    },
    {
     "data": {
      "image/png": "[encoded data removed]",
      "text/plain": [
       "<Figure size 936x504 with 1 Axes>"
      ]
     },
     "metadata": {},
     "output_type": "display_data"
    }
   ],
   "source": [
    "# # this plot shows how occipital activit is clustered by event\n",
    "# # definite frequency value dips and spikes at certain event codes\n",
    "# fig = plt.subplots(figsize=(13,7))\n",
    "# sns.lineplot(data=occExp.drop('data', axis=1)[:30000], alpha=0.8, palette='plasma')"
   ]
  },
  {
   "cell_type": "code",
   "execution_count": 13,
   "metadata": {},
   "outputs": [
    {
     "data": {
      "text/plain": [
       "0    4203.076923\n",
       "1    4193.333333\n",
       "2    4194.871794\n",
       "3    4207.179487\n",
       "Name: data, dtype: float64"
      ]
     },
     "execution_count": 13,
     "metadata": {},
     "output_type": "execute_result"
    }
   ],
   "source": [
    "# occExp['data'][:4]"
   ]
  },
  {
   "cell_type": "code",
   "execution_count": 16,
   "metadata": {},
   "outputs": [
    {
     "data": {
      "text/plain": [
       "<bound method IndexOpsMixin.value_counts of 0           4203.076923\n",
       "1           4193.333333\n",
       "2           4194.871794\n",
       "3           4207.179487\n",
       "4           4220.512820\n",
       "               ...     \n",
       "33754189    4215.384615\n",
       "33754190    4218.461538\n",
       "33754191    4212.820512\n",
       "33754192    4213.846153\n",
       "33754193    4222.564102\n",
       "Name: data, Length: 33754194, dtype: float64>"
      ]
     },
     "execution_count": 16,
     "metadata": {},
     "output_type": "execute_result"
    }
   ],
   "source": [
    "# looking at the range of amplitudes. FFT or WT gets frequency information from this \n",
    "# occExp['data']"
   ]
  },
  {
   "cell_type": "code",
   "execution_count": 40,
   "metadata": {},
   "outputs": [
    {
     "data": {
      "text/plain": [
       "11"
      ]
     },
     "execution_count": 40,
     "metadata": {},
     "output_type": "execute_result"
    }
   ],
   "source": [
    "# len(set(occExp['code'].values))"
   ]
  },
  {
   "cell_type": "code",
   "execution_count": 58,
   "metadata": {
    "scrolled": true
   },
   "outputs": [
    {
     "data": {
      "text/plain": [
       "<AxesSubplot:>"
      ]
     },
     "execution_count": 58,
     "metadata": {},
     "output_type": "execute_result"
    },
    {
     "data": {
      "image/png": "[encoded data removed]",
      "text/plain": [
       "<Figure size 432x288 with 1 Axes>"
      ]
     },
     "metadata": {},
     "output_type": "display_data"
    }
   ],
   "source": [
    "# sns.lineplot(data=occExp.drop(['event', 'id', 'data'], axis=1)[:30000], palette='plasma')"
   ]
  },
  {
   "cell_type": "code",
   "execution_count": 21,
   "metadata": {
    "scrolled": true
   },
   "outputs": [
    {
     "data": {
      "text/html": [
       "<div>\n",
       "<style scoped>\n",
       "    .dataframe tbody tr th:only-of-type {\n",
       "        vertical-align: middle;\n",
       "    }\n",
       "\n",
       "    .dataframe tbody tr th {\n",
       "        vertical-align: top;\n",
       "    }\n",
       "\n",
       "    .dataframe thead th {\n",
       "        text-align: right;\n",
       "    }\n",
       "</style>\n",
       "<table border=\"1\" class=\"dataframe\">\n",
       "  <thead>\n",
       "    <tr style=\"text-align: right;\">\n",
       "      <th></th>\n",
       "      <th>id</th>\n",
       "      <th>channel</th>\n",
       "      <th>code</th>\n",
       "      <th>data</th>\n",
       "    </tr>\n",
       "    <tr>\n",
       "      <th>event</th>\n",
       "      <th></th>\n",
       "      <th></th>\n",
       "      <th></th>\n",
       "      <th></th>\n",
       "    </tr>\n",
       "  </thead>\n",
       "  <tbody>\n",
       "    <tr>\n",
       "      <th>67635</th>\n",
       "      <td>520</td>\n",
       "      <td>520</td>\n",
       "      <td>520</td>\n",
       "      <td>520</td>\n",
       "    </tr>\n",
       "    <tr>\n",
       "      <th>67636</th>\n",
       "      <td>520</td>\n",
       "      <td>520</td>\n",
       "      <td>520</td>\n",
       "      <td>520</td>\n",
       "    </tr>\n",
       "    <tr>\n",
       "      <th>67637</th>\n",
       "      <td>512</td>\n",
       "      <td>512</td>\n",
       "      <td>512</td>\n",
       "      <td>512</td>\n",
       "    </tr>\n",
       "    <tr>\n",
       "      <th>67638</th>\n",
       "      <td>528</td>\n",
       "      <td>528</td>\n",
       "      <td>528</td>\n",
       "      <td>528</td>\n",
       "    </tr>\n",
       "    <tr>\n",
       "      <th>67639</th>\n",
       "      <td>520</td>\n",
       "      <td>520</td>\n",
       "      <td>520</td>\n",
       "      <td>520</td>\n",
       "    </tr>\n",
       "    <tr>\n",
       "      <th>...</th>\n",
       "      <td>...</td>\n",
       "      <td>...</td>\n",
       "      <td>...</td>\n",
       "      <td>...</td>\n",
       "    </tr>\n",
       "    <tr>\n",
       "      <th>132664</th>\n",
       "      <td>512</td>\n",
       "      <td>512</td>\n",
       "      <td>512</td>\n",
       "      <td>512</td>\n",
       "    </tr>\n",
       "    <tr>\n",
       "      <th>132665</th>\n",
       "      <td>512</td>\n",
       "      <td>512</td>\n",
       "      <td>512</td>\n",
       "      <td>512</td>\n",
       "    </tr>\n",
       "    <tr>\n",
       "      <th>132666</th>\n",
       "      <td>512</td>\n",
       "      <td>512</td>\n",
       "      <td>512</td>\n",
       "      <td>512</td>\n",
       "    </tr>\n",
       "    <tr>\n",
       "      <th>132667</th>\n",
       "      <td>512</td>\n",
       "      <td>512</td>\n",
       "      <td>512</td>\n",
       "      <td>512</td>\n",
       "    </tr>\n",
       "    <tr>\n",
       "      <th>132668</th>\n",
       "      <td>512</td>\n",
       "      <td>512</td>\n",
       "      <td>512</td>\n",
       "      <td>512</td>\n",
       "    </tr>\n",
       "  </tbody>\n",
       "</table>\n",
       "<p>65034 rows × 4 columns</p>\n",
       "</div>"
      ],
      "text/plain": [
       "         id  channel  code  data\n",
       "event                           \n",
       "67635   520      520   520   520\n",
       "67636   520      520   520   520\n",
       "67637   512      512   512   512\n",
       "67638   528      528   528   528\n",
       "67639   520      520   520   520\n",
       "...     ...      ...   ...   ...\n",
       "132664  512      512   512   512\n",
       "132665  512      512   512   512\n",
       "132666  512      512   512   512\n",
       "132667  512      512   512   512\n",
       "132668  512      512   512   512\n",
       "\n",
       "[65034 rows x 4 columns]"
      ]
     },
     "execution_count": 21,
     "metadata": {},
     "output_type": "execute_result"
    }
   ],
   "source": [
    "# occExp.groupby('event').count()"
   ]
  },
  {
   "cell_type": "markdown",
   "metadata": {},
   "source": [
    "---------\n",
    "Combining occ0, occ1, fefF3, fefF4, fefF7, fefF8, fefFC5, fefFC6 into one df\n",
    "\n",
    "---------"
   ]
  },
  {
   "cell_type": "code",
   "execution_count": 5,
   "metadata": {},
   "outputs": [],
   "source": [
    "baseDF = dd.concat([occ0, occ1, fefF3, fefF4, fefF7, fefF8, fefFC5, fefFC6], axis=0 ) # which axis?"
   ]
  },
  {
   "cell_type": "code",
   "execution_count": 22,
   "metadata": {
    "scrolled": true
   },
   "outputs": [
    {
     "data": {
      "text/plain": [
       "0         4203.08\n",
       "1         4193.33\n",
       "2         4194.87\n",
       "3         4207.18\n",
       "4         4220.51\n",
       "           ...   \n",
       "790518    4254.87\n",
       "790519     4264.1\n",
       "790520    4248.21\n",
       "790521     4244.1\n",
       "790522    4255.38\n",
       "Name: data, Length: 118204713, dtype: object"
      ]
     },
     "execution_count": 22,
     "metadata": {},
     "output_type": "execute_result"
    }
   ],
   "source": [
    "# baseDF['data'].compute() # this brings it up to 11G/15.5 ram :(  118,204,713"
   ]
  },
  {
   "cell_type": "code",
   "execution_count": 8,
   "metadata": {},
   "outputs": [],
   "source": [
    "# baseDF = baseDF.drop(['size', 'id'], axis=1) # only .compute is RAM intensive\n",
    "baseDF = baseDF.drop('Unnamed: 0', axis=1)"
   ]
  },
  {
   "cell_type": "code",
   "execution_count": null,
   "metadata": {},
   "outputs": [],
   "source": [
    "# baseDF.set_index('event') #"
   ]
  },
  {
   "cell_type": "markdown",
   "metadata": {},
   "source": [
    "--------------\n",
    "## Baseline Model: Only Occipital, No Preprocessing\n",
    "## Baseline+ : Basline+Preprocessing\n",
    "--------------\n",
    "\n",
    "&nbsp;\n"
   ]
  },
  {
   "cell_type": "code",
   "execution_count": 104,
   "metadata": {},
   "outputs": [],
   "source": [
    "# XTrain, XTest, yTrain, yTest = train_test_split(occExp.drop('code'), occExp['code'] ) # do I need to set index to eventid?\n"
   ]
  },
  {
   "cell_type": "code",
   "execution_count": 100,
   "metadata": {},
   "outputs": [],
   "source": [
    "model = Sequential()\n",
    "\n",
    "# model.add(Conv1D(n, activation='relu'), input_dim=m, ) # or selu\n",
    "# model.add(Conv1D(n, activation='relu'), input_dim=m, )\n",
    "# model.add(Conv1D(n, activation='relu'), input_dim=m, )\n",
    "# model.add(Dense(n, activation='softmax'), input_dim=m, )\n",
    "# model.add(Dense(n, activation='softmax'), input_dim=m, )"
   ]
  },
  {
   "cell_type": "code",
   "execution_count": 102,
   "metadata": {},
   "outputs": [
    {
     "name": "stdout",
     "output_type": "stream",
     "text": [
      "               total        used        free      shared  buff/cache   available\r\n",
      "Mem:            15Gi       5.4Gi       4.6Gi       274Mi       5.5Gi       9.5Gi\r\n",
      "Swap:          976Mi       589Mi       387Mi\r\n"
     ]
    }
   ],
   "source": [
    "!free -h"
   ]
  },
  {
   "cell_type": "markdown",
   "metadata": {},
   "source": [
    "--------------\n",
    "### Preprocessing\n",
    "--------------\n",
    "\n",
    "&nbsp;"
   ]
  },
  {
   "cell_type": "markdown",
   "metadata": {},
   "source": [
    "Wavelet transform is not ideal for neural data because it relies on windows of different sizes (see Mike X Cohen's youtube channel). Hilbert transform might be the better option\n",
    "provide unique analytic signal from real value data, so you can calculate instantaneous properties of your data\" -EstherExplains v=dy4OeAYqSqM \n",
    "\n",
    "\n",
    "HT gives amplitude and phase, so \"energy-frequency-time distribution\"\n",
    "> 1, Fourier Transform real valued signal\n",
    "> 2. Set Fourier coefficients of negative frequencies to zero so they cannot cancel out the imaginary part related to the positive frequencies during the inverse FT\n",
    "> 3. Double the amplitude related to positive frequencies for energy conservation\n",
    "> 4. Inverse Fourier transform to obtain the analytic (complex signal)\n",
    "\n",
    "I think the phase info is in the complex domain though. \n",
    "```\n",
    "Returns xandarray Analytic signal of x, of each 1-D array along axis\n",
    "```"
   ]
  },
  {
   "cell_type": "code",
   "execution_count": null,
   "metadata": {},
   "outputs": [],
   "source": [
    "# testing wavelet transform and ways to parse the data column\n",
    "# pywt.cwt([row.split() for row in emotiv['data']], ) # this one returns array of coefs and an array of freqs \n",
    "# testCWT = scipy.signal.wavelets.cwt(dataColFlatFloat, wavelet=scipy.signal.ricker, widths=np.arange(1, 31) ) # this one just returns an NxM matrix, may lose info but could be easier to work with\n",
    "# type(dataColFlat[3]) # data column is all string encoded, of course, it was one giant string of numbers periods and commas\n",
    "# dataColFlatFloat = [float(i) for i in dataColFlat]\n",
    "# pd.DataFrame(testCWT).plot() #freezes comp; reduce dimensionality first"
   ]
  },
  {
   "cell_type": "code",
   "execution_count": null,
   "metadata": {},
   "outputs": [],
   "source": [
    "# nolds.corr_dim() \n",
    "# nolds.lyap_e() # just the exponents\n",
    "# nolds.lyap_r() # oh here it is"
   ]
  },
  {
   "cell_type": "code",
   "execution_count": null,
   "metadata": {},
   "outputs": [],
   "source": [
    "# with open('IN.txt') as f:\n",
    "#     full = f.read()\n",
    "# full[0:30000] # aahhh\n",
    "# len(set(full)) # way more maneageable. there are 14 channels, 21 unique values\n",
    "# len(full)"
   ]
  },
  {
   "cell_type": "code",
   "execution_count": null,
   "metadata": {},
   "outputs": [],
   "source": [
    "# # full.find('O1') # is it not there?\n",
    "# # full[-1]  # I think this is the mindwave one oops \n",
    "# with open('./EP1.01.txt') as g:\n",
    "#     epoc = g.read() "
   ]
  },
  {
   "cell_type": "code",
   "execution_count": null,
   "metadata": {},
   "outputs": [],
   "source": [
    "# # epoc.find('O1') # yay it's there 18881\n",
    "# # epoc.find('O2') # yay it's there 22025\n",
    "# epoc.split()[:4000] # what's the best way to parse this into a df? loop like fizzbuzz? "
   ]
  },
  {
   "cell_type": "markdown",
   "metadata": {},
   "source": [
    " Power Spectrum Decomposition"
   ]
  },
  {
   "cell_type": "code",
   "execution_count": null,
   "metadata": {},
   "outputs": [],
   "source": [
    "scipy.signal.periodogram()"
   ]
  },
  {
   "cell_type": "markdown",
   "metadata": {},
   "source": [
    "Wavelet transform is not ideal for neural data because it relies on windows of different sizes (see Mike X Cohen's youtube channel). Hilbert transform might be the better option\n",
    "provide unique analytic signal from real value data, so you can calculate instantaneous properties of your data\" -EstherExplains v=dy4OeAYqSqM \n",
    "\n",
    "\n",
    "HT gives amplitude and phase, so \"energy-frequency-time distribution\"\n",
    "> 1, Fourier Transform real valued signal\n",
    "> 2. Set Fourier coefficients of negative frequencies to zero so they cannot cancel out the imaginary part related to the positive frequencies during the inverse FT\n",
    "> 3. Double the amplitude related to positive frequencies for energy conservation\n",
    "> 4. Inverse Fourier transform to obtain the analytic (complex signal)\n",
    "\n",
    "I think the phase info is in the complex domain though. \n",
    "```\n",
    "Returns xandarray Analytic signal of x, of each 1-D array along axis\n",
    "```\n"
   ]
  }
 ],
 "metadata": {
  "kernelspec": {
   "display_name": "Python (learn-env)",
   "language": "python",
   "name": "learn-env"
  },
  "language_info": {
   "codemirror_mode": {
    "name": "ipython",
    "version": 3
   },
   "file_extension": ".py",
   "mimetype": "text/x-python",
   "name": "python",
   "nbconvert_exporter": "python",
   "pygments_lexer": "ipython3",
   "version": "3.8.5"
  }
 },
 "nbformat": 4,
 "nbformat_minor": 4
}
