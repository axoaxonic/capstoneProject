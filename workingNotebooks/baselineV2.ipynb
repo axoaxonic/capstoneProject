{
 "cells": [
  {
   "cell_type": "code",
   "execution_count": 2,
   "metadata": {},
   "outputs": [],
   "source": [
    "import pandas as pd\n",
    "import numpy as np\n",
    "import time\n",
    "# import seaborn as sns\n",
    "# import matplotlib.pyplot as plt\n",
    "# import pywt\n",
    "# import nolds\n",
    "# import scipy|\n",
    "# import meegkit\n",
    "import tensorflow as tf\n",
    "from tensorflow.keras.models import Sequential # do these need to be tf.keras? review why\n",
    "from tensorflow.keras.layers import Dense, Conv2D, GlobalMaxPooling2D, LSTM, MaxPooling2D, Flatten\n",
    "# from sklearn.cross_decomposition import CCA \n",
    "from sklearn.model_selection import train_test_split\n",
    "from sklearn.preprocessing import OneHotEncoder"
   ]
  },
  {
   "cell_type": "code",
   "execution_count": 5,
   "metadata": {},
   "outputs": [
    {
     "name": "stdout",
     "output_type": "stream",
     "text": [
      "               total        used        free      shared  buff/cache   available\r\n",
      "Mem:            15Gi       3.1Gi       7.6Gi       267Mi       4.8Gi        11Gi\r\n",
      "Swap:          976Mi       840Mi       136Mi\r\n"
     ]
    }
   ],
   "source": [
    "!free -h"
   ]
  },
  {
   "cell_type": "code",
   "execution_count": 3,
   "metadata": {
    "scrolled": true
   },
   "outputs": [],
   "source": [
    "# This df will be a row-concatenated version of the same channels\n",
    "# baseline = pd.read_csv('../../baseline.csv', delimiter=',')\n",
    "# baseline.drop('Unnamed: 0', inplace=True, axis=1)"
   ]
  },
  {
   "cell_type": "code",
   "execution_count": 7,
   "metadata": {},
   "outputs": [],
   "source": [
    "occ0 = pd.read_csv('../data/occ0Exp.csv', delimiter=',')\n",
    "occ1 = pd.read_csv('../data/occ1Exp.csv', delimiter=',')\n",
    "fefF3 = pd.read_csv('../data/fefF3Exp.csv', delimiter=',')\n",
    "fefF4 = pd.read_csv('../data/fefF4Exp.csv', delimiter=',')\n",
    "fefF7 = pd.read_csv('../data/fefF7Exp.csv', delimiter=',')\n",
    "fefF8 = pd.read_csv('../data/fefF8Exp.csv', delimiter=',')\n",
    "temT7 = pd.read_csv('../data/temT7Exp.csv', delimiter=',')\n",
    "temT8 = pd.read_csv('../data/temT8Exp.csv', delimiter=',')\n",
    "pfcAF3 = pd.read_csv('../data/pfcAF3Exp.csv', delimiter=',')\n",
    "pfcAF4 = pd.read_csv('../data/pfcAF4Exp.csv', delimiter=',')\n",
    "motFC5 = pd.read_csv('../data/motFC5Exp.csv', delimiter=',')\n",
    "motFC6 = pd.read_csv('../data/motFC6Exp.csv', delimiter=',')\n",
    "parP7 = pd.read_csv('../data/parP7Exp.csv', delimiter=',')\n",
    "parP8 = pd.read_csv('../data/parP8Exp.csv', delimiter=',')\n"
   ]
  },
  {
   "cell_type": "code",
   "execution_count": 9,
   "metadata": {},
   "outputs": [
    {
     "name": "stdout",
     "output_type": "stream",
     "text": [
      "               total        used        free      shared  buff/cache   available\r\n",
      "Mem:            15Gi        11Gi       1.4Gi       249Mi       2.3Gi       3.1Gi\r\n",
      "Swap:          976Mi       842Mi       134Mi\r\n"
     ]
    }
   ],
   "source": [
    "!free -h"
   ]
  },
  {
   "cell_type": "code",
   "execution_count": 10,
   "metadata": {},
   "outputs": [
    {
     "name": "stdout",
     "output_type": "stream",
     "text": [
      "Index(['event', 'channel', 'code', 'data'], dtype='object')\n",
      "Index(['event', 'channel', 'code', 'data'], dtype='object')\n",
      "Index(['event', 'channel', 'code', 'data'], dtype='object')\n",
      "Index(['event', 'channel', 'code', 'data'], dtype='object')\n",
      "Index(['event', 'channel', 'code', 'data'], dtype='object')\n",
      "Index(['event', 'channel', 'code', 'data'], dtype='object')\n",
      "Index(['event', 'channel', 'code', 'data'], dtype='object')\n",
      "Index(['event', 'channel', 'code', 'data'], dtype='object')\n",
      "Index(['event', 'channel', 'code', 'data'], dtype='object')\n",
      "Index(['event', 'channel', 'code', 'data'], dtype='object')\n",
      "Index(['event', 'channel', 'code', 'data'], dtype='object')\n",
      "Index(['event', 'channel', 'code', 'data'], dtype='object')\n",
      "Index(['event', 'channel', 'code', 'data'], dtype='object')\n",
      "Index(['event', 'channel', 'code', 'data'], dtype='object')\n"
     ]
    }
   ],
   "source": [
    "dfs = [occ0, occ1, fefF3, fefF4, fefF7, fefF8, \n",
    "       temT7, temT8, pfcAF3, pfcAF4, motFC5, motFC6, parP7, parP8]\n",
    "for i in dfs:\n",
    "    i.drop('Unnamed: 0', inplace=True, axis=1)\n",
    "    i['data'].astype(float, copy=False)\n",
    "    print(i.columns)\n",
    "#     i = i.groupby('event').mean()\n",
    "#     print(i.columns)"
   ]
  },
  {
   "cell_type": "code",
   "execution_count": 7,
   "metadata": {},
   "outputs": [],
   "source": [
    "# for i in full['fefF7Code']:\n",
    "#     for j in full['fefF8Code']:\n",
    "#         print(i, j)\n",
    "        \n",
    "# it seems the event columns for each channel don't match up, cool.."
   ]
  },
  {
   "cell_type": "code",
   "execution_count": 16,
   "metadata": {},
   "outputs": [],
   "source": [
    "# non loop version of above's last line\n",
    "\n",
    "occ0 = occ0.groupby('event').mean()\n",
    "occ1 = occ1.groupby('event').mean()\n",
    "fefF3 = fefF3.groupby('event').mean()\n",
    "fefF4 = fefF4.groupby('event').mean()\n",
    "fefF7 = fefF7.groupby('event').mean()\n",
    "fefF8 = fefF8.groupby('event').mean()\n",
    "temT7 = temT7.groupby('event').mean()\n",
    "temT8 = temT8.groupby('event').mean()\n",
    "pfcAF3 = pfcAF3.groupby('event').mean()\n",
    "pfcAF4 = pfcAF4.groupby('event').mean()\n",
    "motFC5 = motFC5.groupby('event').mean()\n",
    "motFC6 = motFC6.groupby('event').mean()\n",
    "parP7 = parP7.groupby('event').mean()\n",
    "parP8 = parP8.groupby('event').mean()\n"
   ]
  },
  {
   "cell_type": "code",
   "execution_count": 17,
   "metadata": {},
   "outputs": [
    {
     "name": "stdout",
     "output_type": "stream",
     "text": [
      "16877097\n",
      "16877097\n",
      "16877097\n",
      "16877097\n",
      "16877097\n",
      "16877097\n",
      "16877097\n",
      "16877097\n",
      "16877097\n",
      "16877097\n",
      "16877097\n",
      "16877097\n",
      "16877097\n",
      "16877097\n"
     ]
    }
   ],
   "source": [
    "for i in range(0, len(dfs)):\n",
    "    print(len(dfs[i]))"
   ]
  },
  {
   "cell_type": "code",
   "execution_count": 12,
   "metadata": {
    "scrolled": true
   },
   "outputs": [
    {
     "name": "stdout",
     "output_type": "stream",
     "text": [
      "event      0\n",
      "channel    0\n",
      "code       0\n",
      "data       0\n",
      "dtype: int64\n",
      "event      0\n",
      "channel    0\n",
      "code       0\n",
      "data       0\n",
      "dtype: int64\n",
      "event      0\n",
      "channel    0\n",
      "code       0\n",
      "data       0\n",
      "dtype: int64\n",
      "event      0\n",
      "channel    0\n",
      "code       0\n",
      "data       0\n",
      "dtype: int64\n",
      "event      0\n",
      "channel    0\n",
      "code       0\n",
      "data       0\n",
      "dtype: int64\n",
      "event      0\n",
      "channel    0\n",
      "code       0\n",
      "data       0\n",
      "dtype: int64\n",
      "event      0\n",
      "channel    0\n",
      "code       0\n",
      "data       0\n",
      "dtype: int64\n",
      "event      0\n",
      "channel    0\n",
      "code       0\n",
      "data       0\n",
      "dtype: int64\n",
      "event      0\n",
      "channel    0\n",
      "code       0\n",
      "data       0\n",
      "dtype: int64\n",
      "event      0\n",
      "channel    0\n",
      "code       0\n",
      "data       0\n",
      "dtype: int64\n",
      "event      0\n",
      "channel    0\n",
      "code       0\n",
      "data       0\n",
      "dtype: int64\n",
      "event      0\n",
      "channel    0\n",
      "code       0\n",
      "data       0\n",
      "dtype: int64\n",
      "event      0\n",
      "channel    0\n",
      "code       0\n",
      "data       0\n",
      "dtype: int64\n",
      "event      0\n",
      "channel    0\n",
      "code       0\n",
      "data       0\n",
      "dtype: int64\n"
     ]
    }
   ],
   "source": [
    "for i in dfs:\n",
    "    print(i.isna().sum())"
   ]
  },
  {
   "cell_type": "code",
   "execution_count": 13,
   "metadata": {
    "scrolled": true
   },
   "outputs": [
    {
     "name": "stdout",
     "output_type": "stream",
     "text": [
      "               total        used        free      shared  buff/cache   available\r\n",
      "Mem:            15Gi        10Gi       3.2Gi       239Mi       2.2Gi       5.0Gi\r\n",
      "Swap:          976Mi       840Mi       136Mi\r\n"
     ]
    }
   ],
   "source": [
    "!free -h "
   ]
  },
  {
   "cell_type": "code",
   "execution_count": 15,
   "metadata": {},
   "outputs": [
    {
     "data": {
      "text/plain": [
       "[           event channel  code         data\n",
       " 0          67635      O1     6  4203.076923\n",
       " 1          67635      O1     6  4193.333333\n",
       " 2          67635      O1     6  4194.871794\n",
       " 3          67635      O1     6  4207.179487\n",
       " 4          67635      O1     6  4220.512820\n",
       " ...          ...     ...   ...          ...\n",
       " 16877092  132668      O1    -1  4476.410256\n",
       " 16877093  132668      O1    -1  4482.564102\n",
       " 16877094  132668      O1    -1  4474.358974\n",
       " 16877095  132668      O1    -1  4474.871794\n",
       " 16877096  132668      O1    -1  4488.205128\n",
       " \n",
       " [16877097 rows x 4 columns],\n",
       "            event channel  code         data\n",
       " 0          67635      O2     6  4229.743589\n",
       " 1          67635      O2     6  4216.923076\n",
       " 2          67635      O2     6  4207.179487\n",
       " 3          67635      O2     6  4215.384615\n",
       " 4          67635      O2     6  4234.871794\n",
       " ...          ...     ...   ...          ...\n",
       " 16877092  132668      O2    -1  4215.384615\n",
       " 16877093  132668      O2    -1  4218.461538\n",
       " 16877094  132668      O2    -1  4212.820512\n",
       " 16877095  132668      O2    -1  4213.846153\n",
       " 16877096  132668      O2    -1  4222.564102\n",
       " \n",
       " [16877097 rows x 4 columns],\n",
       "            event channel  code         data\n",
       " 0          67635      F3     6  4538.461538\n",
       " 1          67635      F3     6  4528.717948\n",
       " 2          67635      F3     6  4524.615384\n",
       " 3          67635      F3     6  4526.153846\n",
       " 4          67635      F3     6  4532.307692\n",
       " ...          ...     ...   ...          ...\n",
       " 16877092  132668      F3    -1  4589.230769\n",
       " 16877093  132668      F3    -1  4585.641025\n",
       " 16877094  132668      F3    -1  4574.871794\n",
       " 16877095  132668      F3    -1  4579.487179\n",
       " 16877096  132668      F3    -1  4590.256410\n",
       " \n",
       " [16877097 rows x 4 columns],\n",
       "            event channel  code         data\n",
       " 0          67635      F4     6  4682.051282\n",
       " 1          67635      F4     6  4667.179487\n",
       " 2          67635      F4     6  4662.051282\n",
       " 3          67635      F4     6  4669.230769\n",
       " 4          67635      F4     6  4676.410256\n",
       " ...          ...     ...   ...          ...\n",
       " 16877092  132668      F4    -1  4587.692307\n",
       " 16877093  132668      F4    -1  4592.307692\n",
       " 16877094  132668      F4    -1  4586.153846\n",
       " 16877095  132668      F4    -1  4589.230769\n",
       " 16877096  132668      F4    -1  4596.410256\n",
       " \n",
       " [16877097 rows x 4 columns],\n",
       "            event channel  code         data\n",
       " 0          67635      F7     6  4489.230769\n",
       " 1          67635      F7     6  4475.384615\n",
       " 2          67635      F7     6  4474.358974\n",
       " 3          67635      F7     6  4486.666666\n",
       " 4          67635      F7     6  4498.974358\n",
       " ...          ...     ...   ...          ...\n",
       " 16877092  132668      F7    -1  4464.102564\n",
       " 16877093  132668      F7    -1  4465.128205\n",
       " 16877094  132668      F7    -1  4456.923076\n",
       " 16877095  132668      F7    -1  4461.538461\n",
       " 16877096  132668      F7    -1  4479.487179\n",
       " \n",
       " [16877097 rows x 4 columns],\n",
       "            event channel  code         data\n",
       " 0          67635      F8     6  3989.230770\n",
       " 1          67635      F8     6  3983.589744\n",
       " 2          67635      F8     6  3987.692308\n",
       " 3          67635      F8     6  3991.794872\n",
       " 4          67635      F8     6  3992.307693\n",
       " ...          ...     ...   ...          ...\n",
       " 16877092  132668      F8    -1  3902.051283\n",
       " 16877093  132668      F8    -1  3912.307693\n",
       " 16877094  132668      F8    -1  3906.666667\n",
       " 16877095  132668      F8    -1  3904.615385\n",
       " 16877096  132668      F8    -1  3918.461539\n",
       " \n",
       " [16877097 rows x 4 columns],\n",
       "            event channel  code         data\n",
       " 0          67635      T7     6  4497.948717\n",
       " 1          67635      T7     6  4498.461538\n",
       " 2          67635      T7     6  4494.871794\n",
       " 3          67635      T7     6  4497.948717\n",
       " 4          67635      T7     6  4506.153846\n",
       " ...          ...     ...   ...          ...\n",
       " 16877092  132668      T7    -1  4502.051282\n",
       " 16877093  132668      T7    -1  4494.871794\n",
       " 16877094  132668      T7    -1  4489.743589\n",
       " 16877095  132668      T7    -1  4510.256410\n",
       " 16877096  132668      T7    -1  4523.076923\n",
       " \n",
       " [16877097 rows x 4 columns],\n",
       "            event channel  code         data\n",
       " 0          67635      T8     6  4506.666666\n",
       " 1          67635      T8     6  4501.025641\n",
       " 2          67635      T8     6  4496.923076\n",
       " 3          67635      T8     6  4496.923076\n",
       " 4          67635      T8     6  4504.102564\n",
       " ...          ...     ...   ...          ...\n",
       " 16877092  132668      T8    -1  4514.871794\n",
       " 16877093  132668      T8    -1  4520.000000\n",
       " 16877094  132668      T8    -1  4511.282051\n",
       " 16877095  132668      T8    -1  4513.333333\n",
       " 16877096  132668      T8    -1  4517.435897\n",
       " \n",
       " [16877097 rows x 4 columns],\n",
       "            event channel  code         data\n",
       " 0          67635     AF3     6  4395.384615\n",
       " 1          67635     AF3     6  4382.564102\n",
       " 2          67635     AF3     6  4377.435897\n",
       " 3          67635     AF3     6  4387.179487\n",
       " 4          67635     AF3     6  4395.897435\n",
       " ...          ...     ...   ...          ...\n",
       " 16877092  132668     AF3    -1  4394.358974\n",
       " 16877093  132668     AF3    -1  4394.358974\n",
       " 16877094  132668     AF3    -1  4391.794871\n",
       " 16877095  132668     AF3    -1  4392.820512\n",
       " 16877096  132668     AF3    -1  4400.512820\n",
       " \n",
       " [16877097 rows x 4 columns],\n",
       "            event channel  code         data\n",
       " 0          67635     AF4     6  4078.461538\n",
       " 1          67635     AF4     6  4062.564102\n",
       " 2          67635     AF4     6  4055.897435\n",
       " 3          67635     AF4     6  4065.641025\n",
       " 4          67635     AF4     6  4075.384615\n",
       " ...          ...     ...   ...          ...\n",
       " 16877092  132668     AF4    -1  3928.717949\n",
       " 16877093  132668     AF4    -1  3930.769231\n",
       " 16877094  132668     AF4    -1  3926.153847\n",
       " 16877095  132668     AF4    -1  3930.256411\n",
       " 16877096  132668     AF4    -1  3935.384616\n",
       " \n",
       " [16877097 rows x 4 columns],\n",
       "            event channel  code         data\n",
       " 0          67635     FC5     6  4207.692307\n",
       " 1          67635     FC5     6  4205.641025\n",
       " 2          67635     FC5     6  4200.512820\n",
       " 3          67635     FC5     6  4194.358974\n",
       " 4          67635     FC5     6  4198.461538\n",
       " ...          ...     ...   ...          ...\n",
       " 16877092  132668     FC5    -1  4310.256410\n",
       " 16877093  132668     FC5    -1  4302.051282\n",
       " 16877094  132668     FC5    -1  4295.897435\n",
       " 16877095  132668     FC5    -1  4305.128205\n",
       " 16877096  132668     FC5    -1  4314.358974\n",
       " \n",
       " [16877097 rows x 4 columns],\n",
       "            event channel  code         data\n",
       " 0          67635     FC6     6  4227.692307\n",
       " 1          67635     FC6     6  4215.384615\n",
       " 2          67635     FC6     6  4210.769230\n",
       " 3          67635     FC6     6  4221.025641\n",
       " 4          67635     FC6     6  4228.205128\n",
       " ...          ...     ...   ...          ...\n",
       " 16877092  132668     FC6    -1  4254.871794\n",
       " 16877093  132668     FC6    -1  4264.102564\n",
       " 16877094  132668     FC6    -1  4248.205128\n",
       " 16877095  132668     FC6    -1  4244.102564\n",
       " 16877096  132668     FC6    -1  4255.384615\n",
       " \n",
       " [16877097 rows x 4 columns],\n",
       "            event channel  code         data\n",
       " 0          67635      P7     6  4203.076923\n",
       " 1          67635      P7     6  4192.820512\n",
       " 2          67635      P7     6  4194.871794\n",
       " 3          67635      P7     6  4204.615384\n",
       " 4          67635      P7     6  4208.205128\n",
       " ...          ...     ...   ...          ...\n",
       " 16877092  132668      P7    -1  4233.846153\n",
       " 16877093  132668      P7    -1  4237.435897\n",
       " 16877094  132668      P7    -1  4230.769230\n",
       " 16877095  132668      P7    -1  4231.282051\n",
       " 16877096  132668      P7    -1  4239.487179\n",
       " \n",
       " [16877097 rows x 4 columns],\n",
       "            event channel  code         data\n",
       " 0          67635      P8     6  4245.641025\n",
       " 1          67635      P8     6  4236.410256\n",
       " 2          67635      P8     6  4218.461538\n",
       " 3          67635      P8     6  4220.000000\n",
       " 4          67635      P8     6  4239.487179\n",
       " ...          ...     ...   ...          ...\n",
       " 16877092  132668      P8    -1  4261.025641\n",
       " 16877093  132668      P8    -1  4262.564102\n",
       " 16877094  132668      P8    -1  4249.230769\n",
       " 16877095  132668      P8    -1  4251.282051\n",
       " 16877096  132668      P8    -1  4267.179487\n",
       " \n",
       " [16877097 rows x 4 columns]]"
      ]
     },
     "execution_count": 15,
     "metadata": {},
     "output_type": "execute_result"
    }
   ],
   "source": []
  },
  {
   "cell_type": "code",
   "execution_count": 18,
   "metadata": {},
   "outputs": [],
   "source": [
    "# putting the var names in a loop that grabs whole dfs is harder than it seems\n",
    "\n",
    "# for i in dfs:\n",
    "#     i.rename(columns={'data': f'{i}Data'}, inplace=True)\n",
    "#     i.rename(columns={'code': f'{i}Code'}, inplace=True)\n",
    "#     i.rename(columns={'event': f'{i}Event'}, inplace=True)\n",
    "#     print(i.columns)\n",
    "\n",
    "occ0.rename(columns={'data': 'occ0Data'}, inplace=True)\n",
    "occ1.rename(columns={'data': 'occ1Data'}, inplace=True)\n",
    "fefF3.rename(columns={'data': 'fefF3Data'}, inplace=True)\n",
    "fefF4.rename(columns={'data': 'fefF4Data'}, inplace=True)\n",
    "fefF7.rename(columns={'data': 'fefF7Data'}, inplace=True)\n",
    "fefF8.rename(columns={'data': 'fefF8Data'}, inplace=True)\n",
    "temT7.rename(columns={'data': 'temT7Data'}, inplace=True)\n",
    "temT8.rename(columns={'data': 'temT8Data'}, inplace=True)\n",
    "pfcAF3.rename(columns={'data': 'pfcAF3Data'}, inplace=True)\n",
    "pfcAF4.rename(columns={'data': 'pfcAF4Data'}, inplace=True)\n",
    "motFC5.rename(columns={'data': 'motFC5Data'}, inplace=True)\n",
    "motFC6.rename(columns={'data': 'motFC6Data'}, inplace=True)\n",
    "parP7.rename(columns={'data': 'parP7Data'}, inplace=True)\n",
    "parP8.rename(columns={'data': 'parP8Data'}, inplace=True)\n",
    "\n",
    "\n",
    "# occ0.rename(columns={'code': 'occ0Code'}, inplace=True)\n",
    "# occ1.rename(columns={'code': 'occ1Code'}, inplace=True)\n",
    "# fefF7.rename(columns={'code': 'fefF7Code'}, inplace=True)\n",
    "# fefF8.rename(columns={'code': 'fefF8Code'}, inplace=True)\n",
    "\n",
    "# occ0.rename(columns={'event': 'occ0Event'}, inplace=True)\n",
    "# occ1.rename(columns={'event': 'occ1Event'}, inplace=True)\n",
    "# fefF7.rename(columns={'event': 'fefF7Event'}, inplace=True)\n",
    "# fefF8.rename(columns={'event': 'fefF8Event'}, inplace=True)\n"
   ]
  },
  {
   "cell_type": "code",
   "execution_count": 19,
   "metadata": {},
   "outputs": [
    {
     "data": {
      "text/plain": [
       "[        code     occ0Data\n",
       " event                    \n",
       " 67635      6  4315.408284\n",
       " 67636      7  4428.481262\n",
       " 67637      9  4440.943509\n",
       " 67638      9  4437.092074\n",
       " 67639      0  4442.564102\n",
       " ...      ...          ...\n",
       " 132664    -1  4440.378605\n",
       " 132665    -1  4456.748798\n",
       " 132666    -1  4496.766826\n",
       " 132667    -1  4476.975160\n",
       " 132668    -1  4474.194711\n",
       " \n",
       " [65034 rows x 2 columns],\n",
       "         code     occ1Data\n",
       " event                    \n",
       " 67635      6  4214.524654\n",
       " 67636      7  4221.477317\n",
       " 67637      9  4221.193910\n",
       " 67638      9  4220.273892\n",
       " 67639      0  4219.587771\n",
       " ...      ...          ...\n",
       " 132664    -1  4214.014423\n",
       " 132665    -1  4210.893429\n",
       " 132666    -1  4252.604166\n",
       " 132667    -1  4226.858974\n",
       " 132668    -1  4227.483974\n",
       " \n",
       " [65034 rows x 2 columns],\n",
       "         code    fefF3Data\n",
       " event                    \n",
       " 67635      6  4524.260355\n",
       " 67636      7  4541.274161\n",
       " 67637      9  4544.931891\n",
       " 67638      9  4543.512043\n",
       " 67639      0  4533.571992\n",
       " ...      ...          ...\n",
       " 132664    -1  4576.844951\n",
       " 132665    -1  4616.971153\n",
       " 132666    -1  4619.989983\n",
       " 132667    -1  4595.905448\n",
       " 132668    -1  4602.461939\n",
       " \n",
       " [65034 rows x 2 columns],\n",
       "         code    fefF4Data\n",
       " event                    \n",
       " 67635      6  4635.313609\n",
       " 67636      7  4638.408284\n",
       " 67637      9  4652.423878\n",
       " 67638      9  4653.931623\n",
       " 67639      0  4648.289940\n",
       " ...      ...          ...\n",
       " 132664    -1  4551.911057\n",
       " 132665    -1  4584.789663\n",
       " 132666    -1  4642.453926\n",
       " 132667    -1  4597.786458\n",
       " 132668    -1  4606.410256\n",
       " \n",
       " [65034 rows x 2 columns],\n",
       "         code    fefF7Data\n",
       " event                    \n",
       " 67635      6  4496.575936\n",
       " 67636      7  4494.256410\n",
       " 67637      9  4461.668669\n",
       " 67638      9  4494.180264\n",
       " 67639      0  4459.374753\n",
       " ...      ...          ...\n",
       " 132664    -1  4366.262019\n",
       " 132665    -1  4444.270833\n",
       " 132666    -1  4490.667067\n",
       " 132667    -1  4499.769631\n",
       " 132668    -1  4397.572115\n",
       " \n",
       " [65034 rows x 2 columns],\n",
       "         code    fefF8Data\n",
       " event                    \n",
       " 67635      6  3988.708087\n",
       " 67636      7  4005.897436\n",
       " 67637      9  3994.072516\n",
       " 67638      9  3991.991065\n",
       " 67639      0  3991.954635\n",
       " ...      ...          ...\n",
       " 132664    -1  3997.776442\n",
       " 132665    -1  3957.584135\n",
       " 132666    -1  4032.510016\n",
       " 132667    -1  3957.451923\n",
       " 132668    -1  4001.340144\n",
       " \n",
       " [65034 rows x 2 columns],\n",
       "         code    temT7Data\n",
       " event                    \n",
       " 67635      6  4499.570019\n",
       " 67636      7  4508.309664\n",
       " 67637      9  4501.354166\n",
       " 67638      9  4484.450271\n",
       " 67639      0  4487.650887\n",
       " ...      ...          ...\n",
       " 132664    -1  4470.166266\n",
       " 132665    -1  4495.088141\n",
       " 132666    -1  4490.558894\n",
       " 132667    -1  4489.278846\n",
       " 132668    -1  4509.294871\n",
       " \n",
       " [65034 rows x 2 columns],\n",
       "         code    temT8Data\n",
       " event                    \n",
       " 67635      6  4505.775147\n",
       " 67636      7  4501.548323\n",
       " 67637      9  4495.120192\n",
       " 67638      9  4493.428515\n",
       " 67639      0  4490.045364\n",
       " ...      ...          ...\n",
       " 132664    -1  4517.089342\n",
       " 132665    -1  4514.366987\n",
       " 132666    -1  4557.834535\n",
       " 132667    -1  4535.452724\n",
       " 132668    -1  4547.888621\n",
       " \n",
       " [65034 rows x 2 columns],\n",
       "         code   pfcAF3Data\n",
       " event                    \n",
       " 67635      6  4382.761341\n",
       " 67636      7  4391.437869\n",
       " 67637      9  4389.853766\n",
       " 67638      9  4393.531468\n",
       " 67639      0  4383.011834\n",
       " ...      ...          ...\n",
       " 132664    -1  4379.931891\n",
       " 132665    -1  4406.292067\n",
       " 132666    -1  4451.217948\n",
       " 132667    -1  4406.145833\n",
       " 132668    -1  4425.703124\n",
       " \n",
       " [65034 rows x 2 columns],\n",
       "         code   pfcAF4Data\n",
       " event                    \n",
       " 67635      6  4058.491124\n",
       " 67636      7  4066.686390\n",
       " 67637      9  4068.056891\n",
       " 67638      9  4068.580031\n",
       " 67639      0  4062.779092\n",
       " ...      ...          ...\n",
       " 132664    -1  3905.224359\n",
       " 132665    -1  3927.640225\n",
       " 132666    -1  3988.868189\n",
       " 132667    -1  3919.869792\n",
       " 132668    -1  3975.336539\n",
       " \n",
       " [65034 rows x 2 columns],\n",
       "         code   motFC5Data\n",
       " event                    \n",
       " 67635      6  4212.601577\n",
       " 67636      7  4246.232741\n",
       " 67637      9  4253.307291\n",
       " 67638      9  4252.515540\n",
       " 67639      0  4246.315581\n",
       " ...      ...          ...\n",
       " 132664    -1  4266.390224\n",
       " 132665    -1  4284.709535\n",
       " 132666    -1  4310.114182\n",
       " 132667    -1  4301.588541\n",
       " 132668    -1  4290.278445\n",
       " \n",
       " [65034 rows x 2 columns],\n",
       "         code   motFC6Data\n",
       " event                    \n",
       " 67635      6  4211.530572\n",
       " 67636      7  4211.852071\n",
       " 67637      9  4220.348557\n",
       " 67638      9  4209.702797\n",
       " 67639      0  4202.767258\n",
       " ...      ...          ...\n",
       " 132664    -1  4272.974759\n",
       " 132665    -1  4268.960336\n",
       " 132666    -1  4327.914663\n",
       " 132667    -1  4266.292067\n",
       " 132668    -1  4281.648637\n",
       " \n",
       " [65034 rows x 2 columns],\n",
       "         code    parP7Data\n",
       " event                    \n",
       " 67635      6  4194.642998\n",
       " 67636      7  4203.944773\n",
       " 67637      9  4203.133012\n",
       " 67638      9  4200.652680\n",
       " 67639      0  4206.593688\n",
       " ...      ...          ...\n",
       " 132664    -1  4204.116586\n",
       " 132665    -1  4217.077323\n",
       " 132666    -1  4246.895032\n",
       " 132667    -1  4234.997996\n",
       " 132668    -1  4224.114583\n",
       " \n",
       " [65034 rows x 2 columns],\n",
       "         code    parP8Data\n",
       " event                    \n",
       " 67635      6  4227.084812\n",
       " 67636      7  4234.327416\n",
       " 67637      9  4237.431891\n",
       " 67638      9  4232.148407\n",
       " 67639      0  4228.664694\n",
       " ...      ...          ...\n",
       " 132664    -1  4257.497996\n",
       " 132665    -1  4250.114182\n",
       " 132666    -1  4294.162660\n",
       " 132667    -1  4284.759615\n",
       " 132668    -1  4267.612179\n",
       " \n",
       " [65034 rows x 2 columns]]"
      ]
     },
     "execution_count": 19,
     "metadata": {},
     "output_type": "execute_result"
    }
   ],
   "source": [
    "occ0.columns, occ1.columns, fefF7.columns, fefF8.columns\n",
    "# dfs[0] #this wasn't changed with the above functions, it's only used for calling the original datasets as they were read in\n",
    "dfsProcessed = [occ0, occ1, fefF3, fefF4, fefF7, fefF8, \n",
    "       temT7, temT8, pfcAF3, pfcAF4, motFC5, motFC6, parP7, parP8]\n",
    "dfsProcessed"
   ]
  },
  {
   "cell_type": "code",
   "execution_count": 20,
   "metadata": {},
   "outputs": [],
   "source": [
    "full = pd.concat(dfsProcessed, axis=1, join='inner')"
   ]
  },
  {
   "cell_type": "code",
   "execution_count": 21,
   "metadata": {},
   "outputs": [
    {
     "name": "stdout",
     "output_type": "stream",
     "text": [
      "               total        used        free      shared  buff/cache   available\r\n",
      "Mem:            15Gi        10Gi       3.2Gi       255Mi       2.3Gi       4.9Gi\r\n",
      "Swap:          976Mi       840Mi       136Mi\r\n"
     ]
    }
   ],
   "source": [
    "!free -h"
   ]
  },
  {
   "cell_type": "code",
   "execution_count": 22,
   "metadata": {},
   "outputs": [],
   "source": [
    "full.columns.duplicated()\n",
    "# since the concat created duplicate code columns, using this trick to delete them:\n",
    "#https://stackoverflow.com/questions/14984119/python-pandas-remove-duplicate-columns\n",
    "full = full.loc[:,~full.columns.duplicated()].copy()"
   ]
  },
  {
   "cell_type": "code",
   "execution_count": 23,
   "metadata": {
    "scrolled": true
   },
   "outputs": [
    {
     "data": {
      "text/html": [
       "<div>\n",
       "<style scoped>\n",
       "    .dataframe tbody tr th:only-of-type {\n",
       "        vertical-align: middle;\n",
       "    }\n",
       "\n",
       "    .dataframe tbody tr th {\n",
       "        vertical-align: top;\n",
       "    }\n",
       "\n",
       "    .dataframe thead th {\n",
       "        text-align: right;\n",
       "    }\n",
       "</style>\n",
       "<table border=\"1\" class=\"dataframe\">\n",
       "  <thead>\n",
       "    <tr style=\"text-align: right;\">\n",
       "      <th></th>\n",
       "      <th>code</th>\n",
       "      <th>occ0Data</th>\n",
       "      <th>occ1Data</th>\n",
       "      <th>fefF3Data</th>\n",
       "      <th>fefF4Data</th>\n",
       "      <th>fefF7Data</th>\n",
       "      <th>fefF8Data</th>\n",
       "      <th>temT7Data</th>\n",
       "      <th>temT8Data</th>\n",
       "      <th>pfcAF3Data</th>\n",
       "      <th>pfcAF4Data</th>\n",
       "      <th>motFC5Data</th>\n",
       "      <th>motFC6Data</th>\n",
       "      <th>parP7Data</th>\n",
       "      <th>parP8Data</th>\n",
       "    </tr>\n",
       "    <tr>\n",
       "      <th>event</th>\n",
       "      <th></th>\n",
       "      <th></th>\n",
       "      <th></th>\n",
       "      <th></th>\n",
       "      <th></th>\n",
       "      <th></th>\n",
       "      <th></th>\n",
       "      <th></th>\n",
       "      <th></th>\n",
       "      <th></th>\n",
       "      <th></th>\n",
       "      <th></th>\n",
       "      <th></th>\n",
       "      <th></th>\n",
       "      <th></th>\n",
       "    </tr>\n",
       "  </thead>\n",
       "  <tbody>\n",
       "    <tr>\n",
       "      <th>67635</th>\n",
       "      <td>6</td>\n",
       "      <td>4315.408284</td>\n",
       "      <td>4214.524654</td>\n",
       "      <td>4524.260355</td>\n",
       "      <td>4635.313609</td>\n",
       "      <td>4496.575936</td>\n",
       "      <td>3988.708087</td>\n",
       "      <td>4499.570019</td>\n",
       "      <td>4505.775147</td>\n",
       "      <td>4382.761341</td>\n",
       "      <td>4058.491124</td>\n",
       "      <td>4212.601577</td>\n",
       "      <td>4211.530572</td>\n",
       "      <td>4194.642998</td>\n",
       "      <td>4227.084812</td>\n",
       "    </tr>\n",
       "    <tr>\n",
       "      <th>67636</th>\n",
       "      <td>7</td>\n",
       "      <td>4428.481262</td>\n",
       "      <td>4221.477317</td>\n",
       "      <td>4541.274161</td>\n",
       "      <td>4638.408284</td>\n",
       "      <td>4494.256410</td>\n",
       "      <td>4005.897436</td>\n",
       "      <td>4508.309664</td>\n",
       "      <td>4501.548323</td>\n",
       "      <td>4391.437869</td>\n",
       "      <td>4066.686390</td>\n",
       "      <td>4246.232741</td>\n",
       "      <td>4211.852071</td>\n",
       "      <td>4203.944773</td>\n",
       "      <td>4234.327416</td>\n",
       "    </tr>\n",
       "    <tr>\n",
       "      <th>67637</th>\n",
       "      <td>9</td>\n",
       "      <td>4440.943509</td>\n",
       "      <td>4221.193910</td>\n",
       "      <td>4544.931891</td>\n",
       "      <td>4652.423878</td>\n",
       "      <td>4461.668669</td>\n",
       "      <td>3994.072516</td>\n",
       "      <td>4501.354166</td>\n",
       "      <td>4495.120192</td>\n",
       "      <td>4389.853766</td>\n",
       "      <td>4068.056891</td>\n",
       "      <td>4253.307291</td>\n",
       "      <td>4220.348557</td>\n",
       "      <td>4203.133012</td>\n",
       "      <td>4237.431891</td>\n",
       "    </tr>\n",
       "    <tr>\n",
       "      <th>67638</th>\n",
       "      <td>9</td>\n",
       "      <td>4437.092074</td>\n",
       "      <td>4220.273892</td>\n",
       "      <td>4543.512043</td>\n",
       "      <td>4653.931623</td>\n",
       "      <td>4494.180264</td>\n",
       "      <td>3991.991065</td>\n",
       "      <td>4484.450271</td>\n",
       "      <td>4493.428515</td>\n",
       "      <td>4393.531468</td>\n",
       "      <td>4068.580031</td>\n",
       "      <td>4252.515540</td>\n",
       "      <td>4209.702797</td>\n",
       "      <td>4200.652680</td>\n",
       "      <td>4232.148407</td>\n",
       "    </tr>\n",
       "    <tr>\n",
       "      <th>67639</th>\n",
       "      <td>0</td>\n",
       "      <td>4442.564102</td>\n",
       "      <td>4219.587771</td>\n",
       "      <td>4533.571992</td>\n",
       "      <td>4648.289940</td>\n",
       "      <td>4459.374753</td>\n",
       "      <td>3991.954635</td>\n",
       "      <td>4487.650887</td>\n",
       "      <td>4490.045364</td>\n",
       "      <td>4383.011834</td>\n",
       "      <td>4062.779092</td>\n",
       "      <td>4246.315581</td>\n",
       "      <td>4202.767258</td>\n",
       "      <td>4206.593688</td>\n",
       "      <td>4228.664694</td>\n",
       "    </tr>\n",
       "  </tbody>\n",
       "</table>\n",
       "</div>"
      ],
      "text/plain": [
       "       code     occ0Data     occ1Data    fefF3Data    fefF4Data    fefF7Data  \\\n",
       "event                                                                          \n",
       "67635     6  4315.408284  4214.524654  4524.260355  4635.313609  4496.575936   \n",
       "67636     7  4428.481262  4221.477317  4541.274161  4638.408284  4494.256410   \n",
       "67637     9  4440.943509  4221.193910  4544.931891  4652.423878  4461.668669   \n",
       "67638     9  4437.092074  4220.273892  4543.512043  4653.931623  4494.180264   \n",
       "67639     0  4442.564102  4219.587771  4533.571992  4648.289940  4459.374753   \n",
       "\n",
       "         fefF8Data    temT7Data    temT8Data   pfcAF3Data   pfcAF4Data  \\\n",
       "event                                                                    \n",
       "67635  3988.708087  4499.570019  4505.775147  4382.761341  4058.491124   \n",
       "67636  4005.897436  4508.309664  4501.548323  4391.437869  4066.686390   \n",
       "67637  3994.072516  4501.354166  4495.120192  4389.853766  4068.056891   \n",
       "67638  3991.991065  4484.450271  4493.428515  4393.531468  4068.580031   \n",
       "67639  3991.954635  4487.650887  4490.045364  4383.011834  4062.779092   \n",
       "\n",
       "        motFC5Data   motFC6Data    parP7Data    parP8Data  \n",
       "event                                                      \n",
       "67635  4212.601577  4211.530572  4194.642998  4227.084812  \n",
       "67636  4246.232741  4211.852071  4203.944773  4234.327416  \n",
       "67637  4253.307291  4220.348557  4203.133012  4237.431891  \n",
       "67638  4252.515540  4209.702797  4200.652680  4232.148407  \n",
       "67639  4246.315581  4202.767258  4206.593688  4228.664694  "
      ]
     },
     "execution_count": 23,
     "metadata": {},
     "output_type": "execute_result"
    }
   ],
   "source": [
    "full.head()"
   ]
  },
  {
   "cell_type": "code",
   "execution_count": 28,
   "metadata": {},
   "outputs": [
    {
     "data": {
      "text/plain": [
       "code          1.000000\n",
       "occ0Data     -0.000385\n",
       "occ1Data      0.001626\n",
       "fefF3Data    -0.005483\n",
       "fefF4Data     0.008288\n",
       "fefF7Data    -0.004799\n",
       "fefF8Data     0.006907\n",
       "temT7Data    -0.002657\n",
       "temT8Data    -0.001037\n",
       "pfcAF3Data   -0.007512\n",
       "pfcAF4Data    0.007591\n",
       "motFC5Data    0.003757\n",
       "motFC6Data    0.001372\n",
       "parP7Data    -0.003000\n",
       "parP8Data     0.002366\n",
       "Name: code, dtype: float64"
      ]
     },
     "execution_count": 28,
     "metadata": {},
     "output_type": "execute_result"
    }
   ],
   "source": [
    "corrMatFull = full.corr()\n",
    "corrMatFull['code']\n",
    "# check = pd.read_csv('../data/occ1Exp.csv', delimiter=',')\n",
    "# print(check.corr()) # code correlates to data in this channel by 0.001562 \n",
    "# del check \n",
    "\n",
    "# check = pd.read_csv('../data/fefF7Exp.csv', delimiter=',')\n",
    "# print(check.corr()) # code correlates to data in this channel by -0.004390.\n",
    "# del check \n",
    "\n",
    "# check = pd.read_csv('../data/occ0Exp.csv', delimiter=',')\n",
    "# print(check.corr()) # code correlates to data in this channel by -0.000308 \n",
    "# del check \n",
    "\n",
    "# check = pd.read_csv('../data/fefF8Exp.csv', delimiter=',')\n",
    "# print(check.corr()) # code correlates to data in this channel by 0.006184\n",
    "# del check "
   ]
  },
  {
   "cell_type": "code",
   "execution_count": 20,
   "metadata": {
    "scrolled": true
   },
   "outputs": [],
   "source": [
    "# full.plot(y=['occ0Data', 'occ1Data', 'fefF7Data', 'fefF8Data'], alpha=.7 ); "
   ]
  },
  {
   "cell_type": "code",
   "execution_count": 29,
   "metadata": {},
   "outputs": [
    {
     "name": "stdout",
     "output_type": "stream",
     "text": [
      "               total        used        free      shared  buff/cache   available\r\n",
      "Mem:            15Gi        10Gi       3.1Gi       241Mi       2.3Gi       4.9Gi\r\n",
      "Swap:          976Mi       839Mi       137Mi\r\n"
     ]
    }
   ],
   "source": [
    "!free -h"
   ]
  },
  {
   "cell_type": "markdown",
   "metadata": {},
   "source": [
    "--------------\n",
    "## Baseline Model: Only O1, O2, F7, F8; No Preprocessing\n",
    "## Baseline+ : Basline+Preprocessing\n",
    "\n",
    "--------------\n",
    "\n",
    "&nbsp;\n"
   ]
  },
  {
   "cell_type": "code",
   "execution_count": 30,
   "metadata": {},
   "outputs": [
    {
     "name": "stdout",
     "output_type": "stream",
     "text": [
      "Index(['occ0Data', 'occ1Data', 'fefF3Data', 'fefF4Data', 'fefF7Data',\n",
      "       'fefF8Data', 'temT7Data', 'temT8Data', 'pfcAF3Data', 'pfcAF4Data',\n",
      "       'motFC5Data', 'motFC6Data', 'parP7Data', 'parP8Data'],\n",
      "      dtype='object') occ0Data      4315.408284\n",
      "occ1Data      4214.524654\n",
      "fefF3Data     4524.260355\n",
      "fefF4Data     4635.313609\n",
      "fefF7Data     4496.575936\n",
      "fefF8Data     3988.708087\n",
      "temT7Data     4499.570019\n",
      "temT8Data     4505.775147\n",
      "pfcAF3Data    4382.761341\n",
      "pfcAF4Data    4058.491124\n",
      "motFC5Data    4212.601577\n",
      "motFC6Data    4211.530572\n",
      "parP7Data     4194.642998\n",
      "parP8Data     4227.084812\n",
      "Name: 67635, dtype: float64 6 (65034, 14) (65034,)\n"
     ]
    }
   ],
   "source": [
    "X = full.drop('code', axis=1)\n",
    "y = full['code']\n",
    "print(X.columns, X.iloc[0], y.iloc[0], X.shape, y.shape)"
   ]
  },
  {
   "cell_type": "code",
   "execution_count": 31,
   "metadata": {},
   "outputs": [],
   "source": [
    "XTrain, XTest, yTrain, yTest = train_test_split(X, y)"
   ]
  },
  {
   "cell_type": "code",
   "execution_count": 24,
   "metadata": {},
   "outputs": [
    {
     "name": "stdout",
     "output_type": "stream",
     "text": [
      " _____________________________________\r\n",
      "< brains & NN algorithms are complex! >\r\n",
      " -------------------------------------\r\n",
      "        \\   ^__^\r\n",
      "         \\  (oo)\\_______\r\n",
      "            (__)\\       )\\/\\\r\n",
      "                ||----w |\r\n",
      "                ||     ||\r\n"
     ]
    }
   ],
   "source": [
    "!cowsay brains \\& NN algorithms are complex!"
   ]
  },
  {
   "cell_type": "code",
   "execution_count": 71,
   "metadata": {},
   "outputs": [],
   "source": [
    "# XTrain = XTrain.to_numpy().reshape(-1,4,1)\n",
    "# XTest = XTest.to_numpy().reshape(-1,4,1)\n",
    "# yTrain = yTrain.to_numpy().reshape(-1) # do y's need to be reshaped?\n",
    "# yTest = yTest.to_numpy().reshape(-1)\n",
    "\n",
    "# XTrain = tf.expand_dims(XTrain, axis=-1)\n",
    "# XTest = tf.expand_dims(XTest, axis=-1)\n",
    "# yTrain = tf.expand_dims(yTrain, axis=-1)\n",
    "# yTest = tf.expand_dims(yTest, axis=-1)"
   ]
  },
  {
   "cell_type": "code",
   "execution_count": 40,
   "metadata": {},
   "outputs": [
    {
     "name": "stdout",
     "output_type": "stream",
     "text": [
      "               total        used        free      shared  buff/cache   available\r\n",
      "Mem:            15Gi       5.8Gi       1.2Gi       621Mi       8.5Gi       8.8Gi\r\n",
      "Swap:          976Mi       453Mi       523Mi\r\n"
     ]
    }
   ],
   "source": [
    "!free -h"
   ]
  },
  {
   "cell_type": "code",
   "execution_count": 34,
   "metadata": {},
   "outputs": [
    {
     "data": {
      "text/plain": [
       "(TensorShape([48775, 1, 14, 1]), (16259, 14), (48775,), (16259,))"
      ]
     },
     "execution_count": 34,
     "metadata": {},
     "output_type": "execute_result"
    }
   ],
   "source": [
    "XTrain.shape, XTest.shape, yTrain.shape, yTest.shape"
   ]
  },
  {
   "cell_type": "code",
   "execution_count": 33,
   "metadata": {},
   "outputs": [],
   "source": [
    "XTrain = tf.reshape(XTrain, (48775, 1, XTrain.shape[1], 1))\n",
    "ohe = OneHotEncoder(sparse=False)\n",
    "yTrainOHE = ohe.fit_transform(yTrain.to_numpy().reshape(-1,1))\n",
    "\n",
    "# ohe0 = OneHotEncoder(sparse=False)\n",
    "# yTestOHE = ohe0.fit(yTrain.to_numpy().reshape(-1,1)) # Daniel said to do this but I can't remember why"
   ]
  },
  {
   "cell_type": "code",
   "execution_count": 73,
   "metadata": {},
   "outputs": [],
   "source": [
    "model = Sequential()"
   ]
  },
  {
   "cell_type": "code",
   "execution_count": 74,
   "metadata": {},
   "outputs": [
    {
     "ename": "ValueError",
     "evalue": "Input 0 of layer \"lstm_4\" is incompatible with the layer: expected ndim=3, found ndim=2. Full shape received: (None, 448)",
     "output_type": "error",
     "traceback": [
      "\u001b[0;31m--------------------------------------------------------------------\u001b[0m",
      "\u001b[0;31mValueError\u001b[0m                         Traceback (most recent call last)",
      "\u001b[0;32m<ipython-input-74-14a0e4bd7c17>\u001b[0m in \u001b[0;36m<module>\u001b[0;34m\u001b[0m\n\u001b[1;32m      6\u001b[0m \u001b[0mmodel\u001b[0m\u001b[0;34m.\u001b[0m\u001b[0madd\u001b[0m\u001b[0;34m(\u001b[0m\u001b[0mMaxPooling2D\u001b[0m\u001b[0;34m(\u001b[0m\u001b[0mpool_size\u001b[0m\u001b[0;34m=\u001b[0m\u001b[0;34m(\u001b[0m\u001b[0;36m1\u001b[0m\u001b[0;34m,\u001b[0m\u001b[0;36m1\u001b[0m\u001b[0;34m)\u001b[0m\u001b[0;34m)\u001b[0m\u001b[0;34m)\u001b[0m\u001b[0;34m\u001b[0m\u001b[0;34m\u001b[0m\u001b[0m\n\u001b[1;32m      7\u001b[0m \u001b[0mmodel\u001b[0m\u001b[0;34m.\u001b[0m\u001b[0madd\u001b[0m\u001b[0;34m(\u001b[0m\u001b[0mFlatten\u001b[0m\u001b[0;34m(\u001b[0m\u001b[0;34m)\u001b[0m\u001b[0;34m)\u001b[0m\u001b[0;34m\u001b[0m\u001b[0;34m\u001b[0m\u001b[0m\n\u001b[0;32m----> 8\u001b[0;31m model.add(LSTM(7, input_shape=(1,14,1), activation='tanh', \n\u001b[0m\u001b[1;32m      9\u001b[0m                 recurrent_activation='sigmoid'))\n\u001b[1;32m     10\u001b[0m \u001b[0mmodel\u001b[0m\u001b[0;34m.\u001b[0m\u001b[0madd\u001b[0m\u001b[0;34m(\u001b[0m\u001b[0mDense\u001b[0m\u001b[0;34m(\u001b[0m\u001b[0;36m32\u001b[0m\u001b[0;34m,\u001b[0m \u001b[0mactivation\u001b[0m\u001b[0;34m=\u001b[0m\u001b[0;34m'relu'\u001b[0m\u001b[0;34m)\u001b[0m\u001b[0;34m)\u001b[0m\u001b[0;34m\u001b[0m\u001b[0;34m\u001b[0m\u001b[0m\n",
      "\u001b[0;32m~/anaconda3/envs/learn-env/lib/python3.8/site-packages/tensorflow/python/trackable/base.py\u001b[0m in \u001b[0;36m_method_wrapper\u001b[0;34m(self, *args, **kwargs)\u001b[0m\n\u001b[1;32m    203\u001b[0m     \u001b[0mself\u001b[0m\u001b[0;34m.\u001b[0m\u001b[0m_self_setattr_tracking\u001b[0m \u001b[0;34m=\u001b[0m \u001b[0;32mFalse\u001b[0m  \u001b[0;31m# pylint: disable=protected-access\u001b[0m\u001b[0;34m\u001b[0m\u001b[0;34m\u001b[0m\u001b[0m\n\u001b[1;32m    204\u001b[0m     \u001b[0;32mtry\u001b[0m\u001b[0;34m:\u001b[0m\u001b[0;34m\u001b[0m\u001b[0;34m\u001b[0m\u001b[0m\n\u001b[0;32m--> 205\u001b[0;31m       \u001b[0mresult\u001b[0m \u001b[0;34m=\u001b[0m \u001b[0mmethod\u001b[0m\u001b[0;34m(\u001b[0m\u001b[0mself\u001b[0m\u001b[0;34m,\u001b[0m \u001b[0;34m*\u001b[0m\u001b[0margs\u001b[0m\u001b[0;34m,\u001b[0m \u001b[0;34m**\u001b[0m\u001b[0mkwargs\u001b[0m\u001b[0;34m)\u001b[0m\u001b[0;34m\u001b[0m\u001b[0;34m\u001b[0m\u001b[0m\n\u001b[0m\u001b[1;32m    206\u001b[0m     \u001b[0;32mfinally\u001b[0m\u001b[0;34m:\u001b[0m\u001b[0;34m\u001b[0m\u001b[0;34m\u001b[0m\u001b[0m\n\u001b[1;32m    207\u001b[0m       \u001b[0mself\u001b[0m\u001b[0;34m.\u001b[0m\u001b[0m_self_setattr_tracking\u001b[0m \u001b[0;34m=\u001b[0m \u001b[0mprevious_value\u001b[0m  \u001b[0;31m# pylint: disable=protected-access\u001b[0m\u001b[0;34m\u001b[0m\u001b[0;34m\u001b[0m\u001b[0m\n",
      "\u001b[0;32m~/anaconda3/envs/learn-env/lib/python3.8/site-packages/keras/utils/traceback_utils.py\u001b[0m in \u001b[0;36merror_handler\u001b[0;34m(*args, **kwargs)\u001b[0m\n\u001b[1;32m     68\u001b[0m             \u001b[0;31m# To get the full stack trace, call:\u001b[0m\u001b[0;34m\u001b[0m\u001b[0;34m\u001b[0m\u001b[0;34m\u001b[0m\u001b[0m\n\u001b[1;32m     69\u001b[0m             \u001b[0;31m# `tf.debugging.disable_traceback_filtering()`\u001b[0m\u001b[0;34m\u001b[0m\u001b[0;34m\u001b[0m\u001b[0;34m\u001b[0m\u001b[0m\n\u001b[0;32m---> 70\u001b[0;31m             \u001b[0;32mraise\u001b[0m \u001b[0me\u001b[0m\u001b[0;34m.\u001b[0m\u001b[0mwith_traceback\u001b[0m\u001b[0;34m(\u001b[0m\u001b[0mfiltered_tb\u001b[0m\u001b[0;34m)\u001b[0m \u001b[0;32mfrom\u001b[0m \u001b[0;32mNone\u001b[0m\u001b[0;34m\u001b[0m\u001b[0;34m\u001b[0m\u001b[0m\n\u001b[0m\u001b[1;32m     71\u001b[0m         \u001b[0;32mfinally\u001b[0m\u001b[0;34m:\u001b[0m\u001b[0;34m\u001b[0m\u001b[0;34m\u001b[0m\u001b[0m\n\u001b[1;32m     72\u001b[0m             \u001b[0;32mdel\u001b[0m \u001b[0mfiltered_tb\u001b[0m\u001b[0;34m\u001b[0m\u001b[0;34m\u001b[0m\u001b[0m\n",
      "\u001b[0;32m~/anaconda3/envs/learn-env/lib/python3.8/site-packages/keras/engine/input_spec.py\u001b[0m in \u001b[0;36massert_input_compatibility\u001b[0;34m(input_spec, inputs, layer_name)\u001b[0m\n\u001b[1;32m    230\u001b[0m             \u001b[0mndim\u001b[0m \u001b[0;34m=\u001b[0m \u001b[0mshape\u001b[0m\u001b[0;34m.\u001b[0m\u001b[0mrank\u001b[0m\u001b[0;34m\u001b[0m\u001b[0;34m\u001b[0m\u001b[0m\n\u001b[1;32m    231\u001b[0m             \u001b[0;32mif\u001b[0m \u001b[0mndim\u001b[0m \u001b[0;34m!=\u001b[0m \u001b[0mspec\u001b[0m\u001b[0;34m.\u001b[0m\u001b[0mndim\u001b[0m\u001b[0;34m:\u001b[0m\u001b[0;34m\u001b[0m\u001b[0;34m\u001b[0m\u001b[0m\n\u001b[0;32m--> 232\u001b[0;31m                 raise ValueError(\n\u001b[0m\u001b[1;32m    233\u001b[0m                     \u001b[0;34mf'Input {input_index} of layer \"{layer_name}\" '\u001b[0m\u001b[0;34m\u001b[0m\u001b[0;34m\u001b[0m\u001b[0m\n\u001b[1;32m    234\u001b[0m                     \u001b[0;34m\"is incompatible with the layer: \"\u001b[0m\u001b[0;34m\u001b[0m\u001b[0;34m\u001b[0m\u001b[0m\n",
      "\u001b[0;31mValueError\u001b[0m: Input 0 of layer \"lstm_4\" is incompatible with the layer: expected ndim=3, found ndim=2. Full shape received: (None, 448)"
     ]
    }
   ],
   "source": [
    "model.add(Conv2D(filters=32, kernel_size=1, activation='relu', input_shape=(1,14,1)))\n",
    "model.add(MaxPooling2D(pool_size=(1,1)))\n",
    "model.add(Conv2D(filters=32, kernel_size=1, activation='relu'))\n",
    "model.add(MaxPooling2D(pool_size=(1,1)))\n",
    "model.add(Conv2D(filters=32, kernel_size=1, activation='relu'))\n",
    "model.add(MaxPooling2D(pool_size=(1,1)))\n",
    "model.add(Flatten())\n",
    "model.add(Dense(32, activation='relu'))\n",
    "model.add(Dense(32, activation='relu'))\n",
    "model.add(Dense(11, activation='softmax'))\n",
    "\n",
    "# model.add(LSTM(7, input_shape=(1,14,1), activation='tanh', \n",
    "#                recurrent_activation='sigmoid'))"
   ]
  },
  {
   "cell_type": "code",
   "execution_count": 65,
   "metadata": {},
   "outputs": [
    {
     "name": "stdout",
     "output_type": "stream",
     "text": [
      "Model: \"sequential_7\"\n",
      "_________________________________________________________________\n",
      " Layer (type)                Output Shape              Param #   \n",
      "=================================================================\n",
      " conv2d_16 (Conv2D)          (None, 1, 14, 32)         64        \n",
      "                                                                 \n",
      " max_pooling2d_15 (MaxPoolin  (None, 1, 14, 32)        0         \n",
      " g2D)                                                            \n",
      "                                                                 \n",
      " conv2d_17 (Conv2D)          (None, 1, 14, 32)         1056      \n",
      "                                                                 \n",
      " max_pooling2d_16 (MaxPoolin  (None, 1, 14, 32)        0         \n",
      " g2D)                                                            \n",
      "                                                                 \n",
      " conv2d_18 (Conv2D)          (None, 1, 14, 32)         1056      \n",
      "                                                                 \n",
      " max_pooling2d_17 (MaxPoolin  (None, 1, 14, 32)        0         \n",
      " g2D)                                                            \n",
      "                                                                 \n",
      " flatten_5 (Flatten)         (None, 448)               0         \n",
      "                                                                 \n",
      " dense_12 (Dense)            (None, 32)                14368     \n",
      "                                                                 \n",
      " dense_13 (Dense)            (None, 32)                1056      \n",
      "                                                                 \n",
      " dense_14 (Dense)            (None, 11)                363       \n",
      "                                                                 \n",
      "=================================================================\n",
      "Total params: 17,963\n",
      "Trainable params: 17,963\n",
      "Non-trainable params: 0\n",
      "_________________________________________________________________\n"
     ]
    }
   ],
   "source": [
    "model.summary()"
   ]
  },
  {
   "cell_type": "code",
   "execution_count": 72,
   "metadata": {
    "scrolled": false
   },
   "outputs": [
    {
     "name": "stdout",
     "output_type": "stream",
     "text": [
      "Epoch 1/10\n",
      "1525/1525 [==============================] - 6s 3ms/step - loss: 2.5461 - accuracy: 0.1014\n",
      "Epoch 2/10\n",
      "1525/1525 [==============================] - 5s 3ms/step - loss: 2.3354 - accuracy: 0.1014\n",
      "Epoch 3/10\n",
      "1525/1525 [==============================] - 5s 3ms/step - loss: 2.3265 - accuracy: 0.1015\n",
      "Epoch 4/10\n",
      "1525/1525 [==============================] - 5s 3ms/step - loss: 2.3221 - accuracy: 0.1011\n",
      "Epoch 5/10\n",
      "1525/1525 [==============================] - 5s 3ms/step - loss: 2.3195 - accuracy: 0.1020\n",
      "Epoch 6/10\n",
      "1525/1525 [==============================] - 5s 3ms/step - loss: 2.3179 - accuracy: 0.1004\n",
      "Epoch 7/10\n",
      "1525/1525 [==============================] - 5s 3ms/step - loss: 2.3168 - accuracy: 0.1015\n",
      "Epoch 8/10\n",
      " 834/1525 [===============>..............] - ETA: 2s - loss: 2.3153 - accuracy: 0.1008"
     ]
    },
    {
     "ename": "KeyboardInterrupt",
     "evalue": "",
     "output_type": "error",
     "traceback": [
      "\u001b[0;31m--------------------------------------------------------------------\u001b[0m",
      "\u001b[0;31mKeyboardInterrupt\u001b[0m                  Traceback (most recent call last)",
      "\u001b[0;32m<ipython-input-72-b091cc0a2a1a>\u001b[0m in \u001b[0;36m<module>\u001b[0;34m\u001b[0m\n\u001b[1;32m      1\u001b[0m \u001b[0mmodel\u001b[0m\u001b[0;34m.\u001b[0m\u001b[0mcompile\u001b[0m\u001b[0;34m(\u001b[0m\u001b[0moptimizer\u001b[0m\u001b[0;34m=\u001b[0m\u001b[0;34m'sgd'\u001b[0m\u001b[0;34m,\u001b[0m \u001b[0mloss\u001b[0m\u001b[0;34m=\u001b[0m\u001b[0;34m'categorical_crossentropy'\u001b[0m\u001b[0;34m,\u001b[0m \u001b[0mmetrics\u001b[0m\u001b[0;34m=\u001b[0m\u001b[0;34m[\u001b[0m\u001b[0;34m'accuracy'\u001b[0m\u001b[0;34m]\u001b[0m\u001b[0;34m)\u001b[0m\u001b[0;34m\u001b[0m\u001b[0;34m\u001b[0m\u001b[0m\n\u001b[0;32m----> 2\u001b[0;31m \u001b[0mresults\u001b[0m \u001b[0;34m=\u001b[0m \u001b[0mmodel\u001b[0m\u001b[0;34m.\u001b[0m\u001b[0mfit\u001b[0m\u001b[0;34m(\u001b[0m\u001b[0mXTrain\u001b[0m\u001b[0;34m,\u001b[0m \u001b[0myTrainOHE\u001b[0m\u001b[0;34m,\u001b[0m \u001b[0mbatch_size\u001b[0m\u001b[0;34m=\u001b[0m\u001b[0;36m32\u001b[0m\u001b[0;34m,\u001b[0m \u001b[0mepochs\u001b[0m\u001b[0;34m=\u001b[0m\u001b[0;36m10\u001b[0m\u001b[0;34m,\u001b[0m \u001b[0mverbose\u001b[0m\u001b[0;34m=\u001b[0m\u001b[0;36m1\u001b[0m\u001b[0;34m)\u001b[0m\u001b[0;34m\u001b[0m\u001b[0;34m\u001b[0m\u001b[0m\n\u001b[0m",
      "\u001b[0;32m~/anaconda3/envs/learn-env/lib/python3.8/site-packages/keras/utils/traceback_utils.py\u001b[0m in \u001b[0;36merror_handler\u001b[0;34m(*args, **kwargs)\u001b[0m\n\u001b[1;32m     63\u001b[0m         \u001b[0mfiltered_tb\u001b[0m \u001b[0;34m=\u001b[0m \u001b[0;32mNone\u001b[0m\u001b[0;34m\u001b[0m\u001b[0;34m\u001b[0m\u001b[0m\n\u001b[1;32m     64\u001b[0m         \u001b[0;32mtry\u001b[0m\u001b[0;34m:\u001b[0m\u001b[0;34m\u001b[0m\u001b[0;34m\u001b[0m\u001b[0m\n\u001b[0;32m---> 65\u001b[0;31m             \u001b[0;32mreturn\u001b[0m \u001b[0mfn\u001b[0m\u001b[0;34m(\u001b[0m\u001b[0;34m*\u001b[0m\u001b[0margs\u001b[0m\u001b[0;34m,\u001b[0m \u001b[0;34m**\u001b[0m\u001b[0mkwargs\u001b[0m\u001b[0;34m)\u001b[0m\u001b[0;34m\u001b[0m\u001b[0;34m\u001b[0m\u001b[0m\n\u001b[0m\u001b[1;32m     66\u001b[0m         \u001b[0;32mexcept\u001b[0m \u001b[0mException\u001b[0m \u001b[0;32mas\u001b[0m \u001b[0me\u001b[0m\u001b[0;34m:\u001b[0m\u001b[0;34m\u001b[0m\u001b[0;34m\u001b[0m\u001b[0m\n\u001b[1;32m     67\u001b[0m             \u001b[0mfiltered_tb\u001b[0m \u001b[0;34m=\u001b[0m \u001b[0m_process_traceback_frames\u001b[0m\u001b[0;34m(\u001b[0m\u001b[0me\u001b[0m\u001b[0;34m.\u001b[0m\u001b[0m__traceback__\u001b[0m\u001b[0;34m)\u001b[0m\u001b[0;34m\u001b[0m\u001b[0;34m\u001b[0m\u001b[0m\n",
      "\u001b[0;32m~/anaconda3/envs/learn-env/lib/python3.8/site-packages/keras/engine/training.py\u001b[0m in \u001b[0;36mfit\u001b[0;34m(self, x, y, batch_size, epochs, verbose, callbacks, validation_split, validation_data, shuffle, class_weight, sample_weight, initial_epoch, steps_per_epoch, validation_steps, validation_batch_size, validation_freq, max_queue_size, workers, use_multiprocessing)\u001b[0m\n\u001b[1;32m   1648\u001b[0m                         ):\n\u001b[1;32m   1649\u001b[0m                             \u001b[0mcallbacks\u001b[0m\u001b[0;34m.\u001b[0m\u001b[0mon_train_batch_begin\u001b[0m\u001b[0;34m(\u001b[0m\u001b[0mstep\u001b[0m\u001b[0;34m)\u001b[0m\u001b[0;34m\u001b[0m\u001b[0;34m\u001b[0m\u001b[0m\n\u001b[0;32m-> 1650\u001b[0;31m                             \u001b[0mtmp_logs\u001b[0m \u001b[0;34m=\u001b[0m \u001b[0mself\u001b[0m\u001b[0;34m.\u001b[0m\u001b[0mtrain_function\u001b[0m\u001b[0;34m(\u001b[0m\u001b[0miterator\u001b[0m\u001b[0;34m)\u001b[0m\u001b[0;34m\u001b[0m\u001b[0;34m\u001b[0m\u001b[0m\n\u001b[0m\u001b[1;32m   1651\u001b[0m                             \u001b[0;32mif\u001b[0m \u001b[0mdata_handler\u001b[0m\u001b[0;34m.\u001b[0m\u001b[0mshould_sync\u001b[0m\u001b[0;34m:\u001b[0m\u001b[0;34m\u001b[0m\u001b[0;34m\u001b[0m\u001b[0m\n\u001b[1;32m   1652\u001b[0m                                 \u001b[0mcontext\u001b[0m\u001b[0;34m.\u001b[0m\u001b[0masync_wait\u001b[0m\u001b[0;34m(\u001b[0m\u001b[0;34m)\u001b[0m\u001b[0;34m\u001b[0m\u001b[0;34m\u001b[0m\u001b[0m\n",
      "\u001b[0;32m~/anaconda3/envs/learn-env/lib/python3.8/site-packages/tensorflow/python/util/traceback_utils.py\u001b[0m in \u001b[0;36merror_handler\u001b[0;34m(*args, **kwargs)\u001b[0m\n\u001b[1;32m    148\u001b[0m     \u001b[0mfiltered_tb\u001b[0m \u001b[0;34m=\u001b[0m \u001b[0;32mNone\u001b[0m\u001b[0;34m\u001b[0m\u001b[0;34m\u001b[0m\u001b[0m\n\u001b[1;32m    149\u001b[0m     \u001b[0;32mtry\u001b[0m\u001b[0;34m:\u001b[0m\u001b[0;34m\u001b[0m\u001b[0;34m\u001b[0m\u001b[0m\n\u001b[0;32m--> 150\u001b[0;31m       \u001b[0;32mreturn\u001b[0m \u001b[0mfn\u001b[0m\u001b[0;34m(\u001b[0m\u001b[0;34m*\u001b[0m\u001b[0margs\u001b[0m\u001b[0;34m,\u001b[0m \u001b[0;34m**\u001b[0m\u001b[0mkwargs\u001b[0m\u001b[0;34m)\u001b[0m\u001b[0;34m\u001b[0m\u001b[0;34m\u001b[0m\u001b[0m\n\u001b[0m\u001b[1;32m    151\u001b[0m     \u001b[0;32mexcept\u001b[0m \u001b[0mException\u001b[0m \u001b[0;32mas\u001b[0m \u001b[0me\u001b[0m\u001b[0;34m:\u001b[0m\u001b[0;34m\u001b[0m\u001b[0;34m\u001b[0m\u001b[0m\n\u001b[1;32m    152\u001b[0m       \u001b[0mfiltered_tb\u001b[0m \u001b[0;34m=\u001b[0m \u001b[0m_process_traceback_frames\u001b[0m\u001b[0;34m(\u001b[0m\u001b[0me\u001b[0m\u001b[0;34m.\u001b[0m\u001b[0m__traceback__\u001b[0m\u001b[0;34m)\u001b[0m\u001b[0;34m\u001b[0m\u001b[0;34m\u001b[0m\u001b[0m\n",
      "\u001b[0;32m~/anaconda3/envs/learn-env/lib/python3.8/site-packages/tensorflow/python/eager/polymorphic_function/polymorphic_function.py\u001b[0m in \u001b[0;36m__call__\u001b[0;34m(self, *args, **kwds)\u001b[0m\n\u001b[1;32m    886\u001b[0m                       tracing_count=new_tracing_count)\n\u001b[1;32m    887\u001b[0m \u001b[0;34m\u001b[0m\u001b[0m\n\u001b[0;32m--> 888\u001b[0;31m     \u001b[0;32mif\u001b[0m \u001b[0mcontext\u001b[0m\u001b[0;34m.\u001b[0m\u001b[0mexecuting_eagerly\u001b[0m\u001b[0;34m(\u001b[0m\u001b[0;34m)\u001b[0m\u001b[0;34m:\u001b[0m\u001b[0;34m\u001b[0m\u001b[0;34m\u001b[0m\u001b[0m\n\u001b[0m\u001b[1;32m    889\u001b[0m       \u001b[0;32mif\u001b[0m \u001b[0mwithout_tracing\u001b[0m\u001b[0;34m:\u001b[0m\u001b[0;34m\u001b[0m\u001b[0;34m\u001b[0m\u001b[0m\n\u001b[1;32m    890\u001b[0m         _frequent_tracing_detector_manager.called_without_tracing(\n",
      "\u001b[0;32m~/anaconda3/envs/learn-env/lib/python3.8/site-packages/tensorflow/python/eager/context.py\u001b[0m in \u001b[0;36mexecuting_eagerly\u001b[0;34m()\u001b[0m\n\u001b[1;32m   2205\u001b[0m     \u001b[0;32mreturn\u001b[0m \u001b[0mdefault_execution_mode\u001b[0m \u001b[0;34m==\u001b[0m \u001b[0mEAGER_MODE\u001b[0m\u001b[0;34m\u001b[0m\u001b[0;34m\u001b[0m\u001b[0m\n\u001b[1;32m   2206\u001b[0m \u001b[0;34m\u001b[0m\u001b[0m\n\u001b[0;32m-> 2207\u001b[0;31m   \u001b[0;32mreturn\u001b[0m \u001b[0mctx\u001b[0m\u001b[0;34m.\u001b[0m\u001b[0mexecuting_eagerly\u001b[0m\u001b[0;34m(\u001b[0m\u001b[0;34m)\u001b[0m\u001b[0;34m\u001b[0m\u001b[0;34m\u001b[0m\u001b[0m\n\u001b[0m\u001b[1;32m   2208\u001b[0m \u001b[0;34m\u001b[0m\u001b[0m\n\u001b[1;32m   2209\u001b[0m \u001b[0;34m\u001b[0m\u001b[0m\n",
      "\u001b[0;32m~/anaconda3/envs/learn-env/lib/python3.8/site-packages/tensorflow/python/eager/context.py\u001b[0m in \u001b[0;36mexecuting_eagerly\u001b[0;34m(self)\u001b[0m\n\u001b[1;32m    950\u001b[0m   \u001b[0;32mdef\u001b[0m \u001b[0mexecuting_eagerly\u001b[0m\u001b[0;34m(\u001b[0m\u001b[0mself\u001b[0m\u001b[0;34m)\u001b[0m\u001b[0;34m:\u001b[0m\u001b[0;34m\u001b[0m\u001b[0;34m\u001b[0m\u001b[0m\n\u001b[1;32m    951\u001b[0m     \u001b[0;34m\"\"\"Returns True if current thread has eager executing enabled.\"\"\"\u001b[0m\u001b[0;34m\u001b[0m\u001b[0;34m\u001b[0m\u001b[0m\n\u001b[0;32m--> 952\u001b[0;31m     \u001b[0;32mreturn\u001b[0m \u001b[0mself\u001b[0m\u001b[0;34m.\u001b[0m\u001b[0m_thread_local_data\u001b[0m\u001b[0;34m.\u001b[0m\u001b[0mis_eager\u001b[0m\u001b[0;34m\u001b[0m\u001b[0;34m\u001b[0m\u001b[0m\n\u001b[0m\u001b[1;32m    953\u001b[0m \u001b[0;34m\u001b[0m\u001b[0m\n\u001b[1;32m    954\u001b[0m   \u001b[0;32mdef\u001b[0m \u001b[0mones_rank_cache\u001b[0m\u001b[0;34m(\u001b[0m\u001b[0mself\u001b[0m\u001b[0;34m)\u001b[0m\u001b[0;34m:\u001b[0m\u001b[0;34m\u001b[0m\u001b[0;34m\u001b[0m\u001b[0m\n",
      "\u001b[0;31mKeyboardInterrupt\u001b[0m: "
     ]
    }
   ],
   "source": [
    "model.compile(optimizer='sgd', loss='categorical_crossentropy', metrics=['accuracy'])\n",
    "results = model.fit(XTrain, yTrainOHE, batch_size=32, epochs=10, verbose=1)"
   ]
  },
  {
   "cell_type": "code",
   "execution_count": null,
   "metadata": {},
   "outputs": [],
   "source": [
    "model.\n",
    "XTrainExperiment"
   ]
  },
  {
   "cell_type": "markdown",
   "metadata": {},
   "source": [
    "So, I'm getting the same shape error here as I got before I reshaped the training and test sets and changed from Conv1D to Conv2D, but not getting the error when I add the layers like I was, so at least I got one cell farther ^^;"
   ]
  },
  {
   "cell_type": "markdown",
   "metadata": {},
   "source": [
    "-[] TODO: OHE test, validation set, make more complicated models"
   ]
  }
 ],
 "metadata": {
  "kernelspec": {
   "display_name": "Python (learn-env)",
   "language": "python",
   "name": "learn-env"
  },
  "language_info": {
   "codemirror_mode": {
    "name": "ipython",
    "version": 3
   },
   "file_extension": ".py",
   "mimetype": "text/x-python",
   "name": "python",
   "nbconvert_exporter": "python",
   "pygments_lexer": "ipython3",
   "version": "3.8.5"
  }
 },
 "nbformat": 4,
 "nbformat_minor": 4
}
