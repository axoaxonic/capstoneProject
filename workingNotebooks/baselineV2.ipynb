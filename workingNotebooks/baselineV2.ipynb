{
 "cells": [
  {
   "cell_type": "code",
   "execution_count": 110,
   "metadata": {},
   "outputs": [],
   "source": [
    "import pandas as pd\n",
    "import numpy as np\n",
    "import time\n",
    "import gc\n",
    "import tensorflow as tf\n",
    "from tensorflow.keras.models import Sequential\n",
    "from tensorflow.keras.layers import Dense, Conv2D, GlobalMaxPooling2D, LSTM, MaxPooling2D, Flatten\n",
    "from sklearn.model_selection import train_test_split\n",
    "from sklearn.preprocessing import OneHotEncoder\n",
    "from sklearn.svm import SVC"
   ]
  },
  {
   "cell_type": "code",
   "execution_count": 2,
   "metadata": {},
   "outputs": [
    {
     "name": "stdout",
     "output_type": "stream",
     "text": [
      "               total        used        free      shared  buff/cache   available\r\n",
      "Mem:            15Gi       1.7Gi        11Gi       260Mi       2.3Gi        13Gi\r\n",
      "Swap:          976Mi          0B       976Mi\r\n"
     ]
    }
   ],
   "source": [
    "!free -h"
   ]
  },
  {
   "cell_type": "code",
   "execution_count": 3,
   "metadata": {
    "scrolled": true
   },
   "outputs": [],
   "source": [
    "# This df will be a row-concatenated version of the same channels\n",
    "# baseline = pd.read_csv('../../baseline.csv', delimiter=',')\n",
    "# baseline.drop('Unnamed: 0', inplace=True, axis=1)"
   ]
  },
  {
   "cell_type": "code",
   "execution_count": 3,
   "metadata": {},
   "outputs": [
    {
     "data": {
      "text/plain": [
       "217"
      ]
     },
     "execution_count": 3,
     "metadata": {},
     "output_type": "execute_result"
    }
   ],
   "source": [
    "# del occ0\n",
    "# del occ1\n",
    "# del fefF3\n",
    "# del fefF4\n",
    "# del fefF7\n",
    "# del fefF8\n",
    "# del temT7\n",
    "# del temT8\n",
    "# del pfcAF3\n",
    "# del pfcAF4\n",
    "# del motFC5\n",
    "# del motFC6\n",
    "# del parP7\n",
    "# del parP8\n",
    "\n",
    "gc.collect()"
   ]
  },
  {
   "cell_type": "code",
   "execution_count": 3,
   "metadata": {},
   "outputs": [],
   "source": [
    "# loading dataframes for each channel\n",
    "\n",
    "# occ0 = pd.read_csv('../data/occ0Exp.csv', delimiter=',')\n",
    "# occ1 = pd.read_csv('../data/occ1Exp.csv', delimiter=',')\n",
    "# fefF3 = pd.read_csv('../data/fefF3Exp.csv', delimiter=',')\n",
    "# fefF4 = pd.read_csv('../data/fefF4Exp.csv', delimiter=',')\n",
    "# fefF7 = pd.read_csv('../data/fefF7Exp.csv', delimiter=',')\n",
    "# fefF8 = pd.read_csv('../data/fefF8Exp.csv', delimiter=',')\n",
    "# temT7 = pd.read_csv('../data/temT7Exp.csv', delimiter=',')\n",
    "# temT8 = pd.read_csv('../data/temT8Exp.csv', delimiter=',')\n",
    "# pfcAF3 = pd.read_csv('../data/pfcAF3Exp.csv', delimiter=',')\n",
    "# pfcAF4 = pd.read_csv('../data/pfcAF4Exp.csv', delimiter=',')\n",
    "# motFC5 = pd.read_csv('../data/motFC5Exp.csv', delimiter=',')\n",
    "# motFC6 = pd.read_csv('../data/motFC6Exp.csv', delimiter=',')\n",
    "# parP7 = pd.read_csv('../data/parP7Exp.csv', delimiter=',')\n",
    "# parP8 = pd.read_csv('../data/parP8Exp.csv', delimiter=',')\n",
    "\n",
    "# loading same datasets expanded with filter processing\n",
    "\n",
    "# occ0 = pd.read_csv('../data/occ0Proc.csv', delimiter=',')\n",
    "occ1 = pd.read_csv('../data/occ1Proc.csv', delimiter=',') \n",
    "# fefF3 = pd.read_csv('../data/fefF3Proc.csv', delimiter=',')\n",
    "fefF4 = pd.read_csv('../data/fefF4Proc.csv', delimiter=',')\n",
    "# fefF7 = pd.read_csv('../data/fefF7Proc.csv', delimiter=',')\n",
    "fefF8 = pd.read_csv('../data/fefF8Proc.csv', delimiter=',') \n",
    "# temT7 = pd.read_csv('../data/temT7Proc.csv', delimiter=',')\n",
    "# temT8 = pd.read_csv('../data/temT8Proc.csv', delimiter=',')\n",
    "# pfcAF3 = pd.read_csv('../data/pfcAF3Proc.csv', delimiter=',')\n",
    "pfcAF4 = pd.read_csv('../data/pfcAF4Proc.csv', delimiter=',')\n",
    "# motFC5 = pd.read_csv('../data/motFC5Proc.csv', delimiter=',')\n",
    "motFC6 = pd.read_csv('../data/motFC6Proc.csv', delimiter=',')\n",
    "# parP7 = pd.read_csv('../data/parP7Proc.csv', delimiter=',')\n",
    "parP8 = pd.read_csv('../data/parP8Proc.csv', delimiter=',')\n"
   ]
  },
  {
   "cell_type": "code",
   "execution_count": 5,
   "metadata": {},
   "outputs": [],
   "source": [
    "# loading only the dataframes from channels positively correlated with code, to save RAM\n",
    "corrcols = [occ1, fefF4, fefF8, pfcAF4, motFC6, parP8] #removed motFC5 for being a diff shape"
   ]
  },
  {
   "cell_type": "markdown",
   "metadata": {},
   "source": [
    "code          1.000000\n",
    "\n",
    "occ0Data     -0.000385\n",
    "\n",
    "occ1Data      0.001626\n",
    "\n",
    "fefF3Data    -0.005483\n",
    "\n",
    "fefF4Data     0.008288\n",
    "\n",
    "fefF7Data    -0.004799\n",
    "\n",
    "fefF8Data     0.006907\n",
    "\n",
    "temT7Data    -0.002657\n",
    "\n",
    "temT8Data    -0.001037\n",
    "\n",
    "pfcAF3Data   -0.007512\n",
    "\n",
    "pfcAF4Data    0.007591\n",
    "\n",
    "motFC5Data    0.003757\n",
    "\n",
    "motFC6Data    0.001372\n",
    "\n",
    "parP7Data    -0.003000\n",
    "\n",
    "parP8Data     0.002366\n"
   ]
  },
  {
   "cell_type": "code",
   "execution_count": 6,
   "metadata": {},
   "outputs": [
    {
     "name": "stdout",
     "output_type": "stream",
     "text": [
      "               total        used        free      shared  buff/cache   available\r\n",
      "Mem:            15Gi       8.1Gi       1.1Gi       229Mi       6.4Gi       6.9Gi\r\n",
      "Swap:          976Mi          0B       976Mi\r\n"
     ]
    }
   ],
   "source": [
    "!free -h"
   ]
  },
  {
   "cell_type": "code",
   "execution_count": 9,
   "metadata": {},
   "outputs": [
    {
     "name": "stdout",
     "output_type": "stream",
     "text": [
      "Index(['event', 'channel', 'code', 'data', 'ICAdata', 'SGFdata'], dtype='object')\n",
      "Index(['id', 'event', 'device', 'channel', 'code', 'size', 'data', 'ICAdata',\n",
      "       'SGFdata'],\n",
      "      dtype='object')\n",
      "Index(['event', 'channel', 'code', 'data', 'ICAdata', 'SGFdata'], dtype='object')\n",
      "Index(['event', 'channel', 'code', 'data', 'ICAdata', 'SGFdata'], dtype='object')\n",
      "Index(['event', 'channel', 'code', 'data', 'ICAdata', 'SGFdata'], dtype='object')\n",
      "Index(['event', 'channel', 'code', 'data', 'ICAdata', 'SGFdata'], dtype='object')\n"
     ]
    }
   ],
   "source": [
    "# dfs = [occ0, occ1, fefF3, fefF4, fefF7, fefF8, \n",
    "#        temT7, temT8, pfcAF3, pfcAF4, motFC5, motFC6, parP7, parP8]\n",
    "for i in corrcols: #dfs:\n",
    "#     i.drop('Unnamed: 0.1', inplace=True, axis=1)\n",
    "    i.drop(['Unnamed: 0', 'id', 'size'], inplace=True, axis=1)\n",
    "    i['data'].astype(float, copy=False)\n",
    "    print(i.columns)\n",
    "#     i = i.groupby('event').mean()\n",
    "#     print(i.columns)"
   ]
  },
  {
   "cell_type": "code",
   "execution_count": 10,
   "metadata": {},
   "outputs": [],
   "source": [
    "# non loop version of above's last line\n",
    "# occ1, fefF4, fefF8, pfcAF4, motFC5, motFC6, parP8 for corrcols\n",
    "\n",
    "# occ0 = occ0.groupby('event').mean()\n",
    "occ1 = occ1.groupby('event').mean()\n",
    "# fefF3 = fefF3.groupby('event').mean()\n",
    "fefF4 = fefF4.groupby('event').mean()\n",
    "# fefF7 = fefF7.groupby('event').mean()\n",
    "fefF8 = fefF8.groupby('event').mean()\n",
    "# temT7 = temT7.groupby('event').mean()\n",
    "# temT8 = temT8.groupby('event').mean()\n",
    "# pfcAF3 = pfcAF3.groupby('event').mean()\n",
    "pfcAF4 = pfcAF4.groupby('event').mean()\n",
    "# motFC5 = motFC5.groupby('event').mean() #this one has less rows than the rest, why?\n",
    "motFC6 = motFC6.groupby('event').mean()\n",
    "# parP7 = parP7.groupby('event').mean()\n",
    "parP8 = parP8.groupby('event').mean()\n"
   ]
  },
  {
   "cell_type": "code",
   "execution_count": 11,
   "metadata": {},
   "outputs": [
    {
     "data": {
      "text/html": [
       "<div>\n",
       "<style scoped>\n",
       "    .dataframe tbody tr th:only-of-type {\n",
       "        vertical-align: middle;\n",
       "    }\n",
       "\n",
       "    .dataframe tbody tr th {\n",
       "        vertical-align: top;\n",
       "    }\n",
       "\n",
       "    .dataframe thead th {\n",
       "        text-align: right;\n",
       "    }\n",
       "</style>\n",
       "<table border=\"1\" class=\"dataframe\">\n",
       "  <thead>\n",
       "    <tr style=\"text-align: right;\">\n",
       "      <th></th>\n",
       "      <th>code</th>\n",
       "      <th>data</th>\n",
       "      <th>ICAdata</th>\n",
       "      <th>SGFdata</th>\n",
       "    </tr>\n",
       "    <tr>\n",
       "      <th>event</th>\n",
       "      <th></th>\n",
       "      <th></th>\n",
       "      <th></th>\n",
       "      <th></th>\n",
       "    </tr>\n",
       "  </thead>\n",
       "  <tbody>\n",
       "    <tr>\n",
       "      <th>67635</th>\n",
       "      <td>6</td>\n",
       "      <td>4211.530572</td>\n",
       "      <td>0.000043</td>\n",
       "      <td>4201.209935</td>\n",
       "    </tr>\n",
       "    <tr>\n",
       "      <th>67636</th>\n",
       "      <td>7</td>\n",
       "      <td>4211.852071</td>\n",
       "      <td>0.000044</td>\n",
       "      <td>4200.805726</td>\n",
       "    </tr>\n",
       "    <tr>\n",
       "      <th>67637</th>\n",
       "      <td>9</td>\n",
       "      <td>4220.348557</td>\n",
       "      <td>0.000084</td>\n",
       "      <td>4200.404627</td>\n",
       "    </tr>\n",
       "    <tr>\n",
       "      <th>67638</th>\n",
       "      <td>9</td>\n",
       "      <td>4209.702797</td>\n",
       "      <td>0.000034</td>\n",
       "      <td>4200.000418</td>\n",
       "    </tr>\n",
       "    <tr>\n",
       "      <th>67639</th>\n",
       "      <td>0</td>\n",
       "      <td>4202.767258</td>\n",
       "      <td>0.000001</td>\n",
       "      <td>4199.593100</td>\n",
       "    </tr>\n",
       "    <tr>\n",
       "      <th>...</th>\n",
       "      <td>...</td>\n",
       "      <td>...</td>\n",
       "      <td>...</td>\n",
       "      <td>...</td>\n",
       "    </tr>\n",
       "    <tr>\n",
       "      <th>132664</th>\n",
       "      <td>-1</td>\n",
       "      <td>4272.974759</td>\n",
       "      <td>0.000333</td>\n",
       "      <td>4268.930860</td>\n",
       "    </tr>\n",
       "    <tr>\n",
       "      <th>132665</th>\n",
       "      <td>-1</td>\n",
       "      <td>4268.960336</td>\n",
       "      <td>0.000314</td>\n",
       "      <td>4269.141727</td>\n",
       "    </tr>\n",
       "    <tr>\n",
       "      <th>132666</th>\n",
       "      <td>-1</td>\n",
       "      <td>4327.914663</td>\n",
       "      <td>0.000593</td>\n",
       "      <td>4269.352593</td>\n",
       "    </tr>\n",
       "    <tr>\n",
       "      <th>132667</th>\n",
       "      <td>-1</td>\n",
       "      <td>4266.292067</td>\n",
       "      <td>0.000302</td>\n",
       "      <td>4269.563460</td>\n",
       "    </tr>\n",
       "    <tr>\n",
       "      <th>132668</th>\n",
       "      <td>-1</td>\n",
       "      <td>4281.648637</td>\n",
       "      <td>0.000374</td>\n",
       "      <td>4269.774326</td>\n",
       "    </tr>\n",
       "  </tbody>\n",
       "</table>\n",
       "<p>65034 rows × 4 columns</p>\n",
       "</div>"
      ],
      "text/plain": [
       "        code         data   ICAdata      SGFdata\n",
       "event                                           \n",
       "67635      6  4211.530572  0.000043  4201.209935\n",
       "67636      7  4211.852071  0.000044  4200.805726\n",
       "67637      9  4220.348557  0.000084  4200.404627\n",
       "67638      9  4209.702797  0.000034  4200.000418\n",
       "67639      0  4202.767258  0.000001  4199.593100\n",
       "...      ...          ...       ...          ...\n",
       "132664    -1  4272.974759  0.000333  4268.930860\n",
       "132665    -1  4268.960336  0.000314  4269.141727\n",
       "132666    -1  4327.914663  0.000593  4269.352593\n",
       "132667    -1  4266.292067  0.000302  4269.563460\n",
       "132668    -1  4281.648637  0.000374  4269.774326\n",
       "\n",
       "[65034 rows x 4 columns]"
      ]
     },
     "execution_count": 11,
     "metadata": {},
     "output_type": "execute_result"
    }
   ],
   "source": [
    "# for i in range(0, len(corrcols)): # len(dfs)):\n",
    "#     print(len(corrcols[i]))#(len(dfs[i]))\n",
    "    \n",
    "# print(len(motFC5), len(motFC6))\n",
    "motFC6"
   ]
  },
  {
   "cell_type": "code",
   "execution_count": 12,
   "metadata": {
    "scrolled": true
   },
   "outputs": [
    {
     "name": "stdout",
     "output_type": "stream",
     "text": [
      "0\n",
      "0\n",
      "0\n",
      "0\n",
      "0\n",
      "0\n"
     ]
    }
   ],
   "source": [
    "for i in corrcols:\n",
    "    print(max(i.isna().sum()))"
   ]
  },
  {
   "cell_type": "code",
   "execution_count": 27,
   "metadata": {
    "scrolled": true
   },
   "outputs": [
    {
     "name": "stdout",
     "output_type": "stream",
     "text": [
      "               total        used        free      shared  buff/cache   available\r\n",
      "Mem:            15Gi       8.5Gi       2.8Gi       188Mi       4.3Gi       6.6Gi\r\n",
      "Swap:          976Mi       528Mi       448Mi\r\n"
     ]
    }
   ],
   "source": [
    "!free -h "
   ]
  },
  {
   "cell_type": "code",
   "execution_count": 58,
   "metadata": {},
   "outputs": [],
   "source": [
    "# putting the var names in a loop that grabs whole dfs is harder than it seems\n",
    "# occ1, fefF4, fefF8, pfcAF4, motFC6, parP8 for corrcols\n",
    "\n",
    "# occ0.rename(columns={'data': 'occ0data'}, inplace=True)\n",
    "occ1.rename(columns={'data':'occ1data', 'ICAdata':'occ1ICAdata', 'SGFdata':'occ1SGFdata'}, inplace=True)\n",
    "# fefF3.rename(columns={'data': 'fefF3data'}, inplace=True)\n",
    "fefF4.rename(columns={'data':'fefF4data', 'ICAdata':'fefF4ICAdata', 'SGFdata':'fefF4SGFdata'}, inplace=True)\n",
    "# fefF7.rename(columns={'data': 'fefF7data'}, inplace=True)\n",
    "fefF8.rename(columns={'data':'fefF8data', 'ICAdata':'fefF8ICAdata', 'SGFdata':'fefF8SGFdata'}, inplace=True)\n",
    "# temT7.rename(columns={'data': 'temT7data'}, inplace=True)\n",
    "# temT8.rename(columns={'data': 'temT8data'}, inplace=True)\n",
    "# pfcAF3.rename(columns={'data': 'pfcAF3data'}, inplace=True)\n",
    "pfcAF4.rename(columns={'data':'pfcAF4data', 'ICAdata':'pfcAF4ICAdata', 'SGFdata':'pfcAF4SGFdata'}, inplace=True)\n",
    "# motFC5.rename(columns={'data': 'motFC5data'}, inplace=True)\n",
    "motFC6.rename(columns={'data':'motFC6data', 'ICAdata':'motFC6ICAdata', 'SGFdata':'motFC6SGFdata'}, inplace=True)\n",
    "# parP7.rename(columns={'data': 'parP7data'}, inplace=True)\n",
    "parP8.rename(columns={'data':'parP8data', 'ICAdata':'parP8ICAdata', 'SGFdata':'parP8SGFdata'}, inplace=True)\n"
   ]
  },
  {
   "cell_type": "code",
   "execution_count": 14,
   "metadata": {},
   "outputs": [],
   "source": [
    "# occ0.columns, occ1.columns, fefF7.columns, fefF8.columns\n",
    "# # dfs[0] #this wasn't changed with the above functions, it's only used for calling the original datasets as they were read in\n",
    "# dfsProcessed = [occ0, occ1, fefF3, fefF4, fefF7, fefF8, \n",
    "#        temT7, temT8, pfcAF3, pfcAF4, motFC5, motFC6, parP7, parP8]\n",
    "\n",
    "corrcolsProcessed = [occ1, fefF4, fefF8, pfcAF4, motFC6, parP8] #new vars because the original list has the unprocessed dataframes in memory it seems"
   ]
  },
  {
   "cell_type": "code",
   "execution_count": 15,
   "metadata": {},
   "outputs": [],
   "source": [
    "full = pd.concat(corrcolsProcessed, axis=1, join='inner')"
   ]
  },
  {
   "cell_type": "code",
   "execution_count": 17,
   "metadata": {},
   "outputs": [
    {
     "name": "stdout",
     "output_type": "stream",
     "text": [
      "               total        used        free      shared  buff/cache   available\r\n",
      "Mem:            15Gi       6.6Gi       2.9Gi       216Mi       6.0Gi       8.4Gi\r\n",
      "Swap:          976Mi       0.0Ki       976Mi\r\n"
     ]
    }
   ],
   "source": [
    "!free -h # why does the RAM go down a bunch after the above two cells? (at least in corrcols round 12/20)"
   ]
  },
  {
   "cell_type": "code",
   "execution_count": 18,
   "metadata": {},
   "outputs": [],
   "source": [
    "full.columns.duplicated()\n",
    "# since the concat created duplicate code columns, using this trick to delete them:\n",
    "#https://stackoverflow.com/questions/14984119/python-pandas-remove-duplicate-columns\n",
    "full = full.loc[:,~full.columns.duplicated()].copy()"
   ]
  },
  {
   "cell_type": "code",
   "execution_count": 19,
   "metadata": {
    "scrolled": true
   },
   "outputs": [
    {
     "data": {
      "text/plain": [
       "code               int64\n",
       "occ1data         float64\n",
       "occ1ICAdata      float64\n",
       "occ1SGFdata      float64\n",
       "id                 int64\n",
       "size               int64\n",
       "fefF4data        float64\n",
       "fefF4ICAdata     float64\n",
       "fefF4SGFdata     float64\n",
       "fefF8data        float64\n",
       "fefF8ICAdata     float64\n",
       "fefF8SGFdata     float64\n",
       "pfcAF4data       float64\n",
       "pcaAF4ICAdata    float64\n",
       "pfcAF4SGFdata    float64\n",
       "motFC6data       float64\n",
       "motFC6ICAdata    float64\n",
       "motFC6SGFdata    float64\n",
       "parP8data        float64\n",
       "parP8ICAdata     float64\n",
       "parP8SGFdata     float64\n",
       "dtype: object"
      ]
     },
     "execution_count": 19,
     "metadata": {},
     "output_type": "execute_result"
    }
   ],
   "source": [
    "full.dtypes"
   ]
  },
  {
   "cell_type": "code",
   "execution_count": 20,
   "metadata": {},
   "outputs": [],
   "source": [
    "full = full.drop(['size', 'id' ], axis=1) # try to make this work in the earlier cell, missed something"
   ]
  },
  {
   "cell_type": "code",
   "execution_count": 21,
   "metadata": {},
   "outputs": [
    {
     "data": {
      "text/html": [
       "<div>\n",
       "<style scoped>\n",
       "    .dataframe tbody tr th:only-of-type {\n",
       "        vertical-align: middle;\n",
       "    }\n",
       "\n",
       "    .dataframe tbody tr th {\n",
       "        vertical-align: top;\n",
       "    }\n",
       "\n",
       "    .dataframe thead th {\n",
       "        text-align: right;\n",
       "    }\n",
       "</style>\n",
       "<table border=\"1\" class=\"dataframe\">\n",
       "  <thead>\n",
       "    <tr style=\"text-align: right;\">\n",
       "      <th></th>\n",
       "      <th>code</th>\n",
       "      <th>occ1data</th>\n",
       "      <th>occ1ICAdata</th>\n",
       "      <th>occ1SGFdata</th>\n",
       "      <th>fefF4data</th>\n",
       "      <th>fefF4ICAdata</th>\n",
       "      <th>fefF4SGFdata</th>\n",
       "      <th>fefF8data</th>\n",
       "      <th>fefF8ICAdata</th>\n",
       "      <th>fefF8SGFdata</th>\n",
       "      <th>pfcAF4data</th>\n",
       "      <th>pcaAF4ICAdata</th>\n",
       "      <th>pfcAF4SGFdata</th>\n",
       "      <th>motFC6data</th>\n",
       "      <th>motFC6ICAdata</th>\n",
       "      <th>motFC6SGFdata</th>\n",
       "      <th>parP8data</th>\n",
       "      <th>parP8ICAdata</th>\n",
       "      <th>parP8SGFdata</th>\n",
       "    </tr>\n",
       "    <tr>\n",
       "      <th>event</th>\n",
       "      <th></th>\n",
       "      <th></th>\n",
       "      <th></th>\n",
       "      <th></th>\n",
       "      <th></th>\n",
       "      <th></th>\n",
       "      <th></th>\n",
       "      <th></th>\n",
       "      <th></th>\n",
       "      <th></th>\n",
       "      <th></th>\n",
       "      <th></th>\n",
       "      <th></th>\n",
       "      <th></th>\n",
       "      <th></th>\n",
       "      <th></th>\n",
       "      <th></th>\n",
       "      <th></th>\n",
       "      <th></th>\n",
       "    </tr>\n",
       "  </thead>\n",
       "  <tbody>\n",
       "    <tr>\n",
       "      <th>67635</th>\n",
       "      <td>6</td>\n",
       "      <td>4214.524654</td>\n",
       "      <td>-0.000023</td>\n",
       "      <td>4224.184902</td>\n",
       "      <td>4635.313609</td>\n",
       "      <td>-0.000005</td>\n",
       "      <td>4648.100047</td>\n",
       "      <td>3988.708087</td>\n",
       "      <td>-0.000018</td>\n",
       "      <td>4002.607056</td>\n",
       "      <td>4058.491124</td>\n",
       "      <td>0.000056</td>\n",
       "      <td>4064.567262</td>\n",
       "      <td>4211.530572</td>\n",
       "      <td>0.000043</td>\n",
       "      <td>4201.209935</td>\n",
       "      <td>4227.084812</td>\n",
       "      <td>0.000030</td>\n",
       "      <td>4235.984111</td>\n",
       "    </tr>\n",
       "    <tr>\n",
       "      <th>67636</th>\n",
       "      <td>7</td>\n",
       "      <td>4221.477317</td>\n",
       "      <td>-0.000049</td>\n",
       "      <td>4223.634952</td>\n",
       "      <td>4638.408284</td>\n",
       "      <td>0.000006</td>\n",
       "      <td>4647.593850</td>\n",
       "      <td>4005.897436</td>\n",
       "      <td>-0.000065</td>\n",
       "      <td>4001.908551</td>\n",
       "      <td>4066.686390</td>\n",
       "      <td>0.000092</td>\n",
       "      <td>4063.927970</td>\n",
       "      <td>4211.852071</td>\n",
       "      <td>0.000044</td>\n",
       "      <td>4200.805726</td>\n",
       "      <td>4234.327416</td>\n",
       "      <td>-0.000020</td>\n",
       "      <td>4235.375812</td>\n",
       "    </tr>\n",
       "    <tr>\n",
       "      <th>67637</th>\n",
       "      <td>9</td>\n",
       "      <td>4221.193910</td>\n",
       "      <td>-0.000048</td>\n",
       "      <td>4223.089233</td>\n",
       "      <td>4652.423878</td>\n",
       "      <td>0.000056</td>\n",
       "      <td>4647.091548</td>\n",
       "      <td>3994.072516</td>\n",
       "      <td>-0.000033</td>\n",
       "      <td>4001.215419</td>\n",
       "      <td>4068.056891</td>\n",
       "      <td>0.000098</td>\n",
       "      <td>4063.293597</td>\n",
       "      <td>4220.348557</td>\n",
       "      <td>0.000084</td>\n",
       "      <td>4200.404627</td>\n",
       "      <td>4237.431891</td>\n",
       "      <td>-0.000041</td>\n",
       "      <td>4234.772192</td>\n",
       "    </tr>\n",
       "    <tr>\n",
       "      <th>67638</th>\n",
       "      <td>9</td>\n",
       "      <td>4220.273892</td>\n",
       "      <td>-0.000044</td>\n",
       "      <td>4222.539284</td>\n",
       "      <td>4653.931623</td>\n",
       "      <td>0.000061</td>\n",
       "      <td>4646.585351</td>\n",
       "      <td>3991.991065</td>\n",
       "      <td>-0.000027</td>\n",
       "      <td>4000.516914</td>\n",
       "      <td>4068.580031</td>\n",
       "      <td>0.000100</td>\n",
       "      <td>4062.654305</td>\n",
       "      <td>4209.702797</td>\n",
       "      <td>0.000034</td>\n",
       "      <td>4200.000418</td>\n",
       "      <td>4232.148407</td>\n",
       "      <td>-0.000005</td>\n",
       "      <td>4234.163892</td>\n",
       "    </tr>\n",
       "    <tr>\n",
       "      <th>67639</th>\n",
       "      <td>0</td>\n",
       "      <td>4219.587771</td>\n",
       "      <td>-0.000042</td>\n",
       "      <td>4221.985104</td>\n",
       "      <td>4648.289940</td>\n",
       "      <td>0.000041</td>\n",
       "      <td>4646.075261</td>\n",
       "      <td>3991.954635</td>\n",
       "      <td>-0.000027</td>\n",
       "      <td>3999.813036</td>\n",
       "      <td>4062.779092</td>\n",
       "      <td>0.000075</td>\n",
       "      <td>4062.010096</td>\n",
       "      <td>4202.767258</td>\n",
       "      <td>0.000001</td>\n",
       "      <td>4199.593100</td>\n",
       "      <td>4228.664694</td>\n",
       "      <td>0.000019</td>\n",
       "      <td>4233.550914</td>\n",
       "    </tr>\n",
       "    <tr>\n",
       "      <th>...</th>\n",
       "      <td>...</td>\n",
       "      <td>...</td>\n",
       "      <td>...</td>\n",
       "      <td>...</td>\n",
       "      <td>...</td>\n",
       "      <td>...</td>\n",
       "      <td>...</td>\n",
       "      <td>...</td>\n",
       "      <td>...</td>\n",
       "      <td>...</td>\n",
       "      <td>...</td>\n",
       "      <td>...</td>\n",
       "      <td>...</td>\n",
       "      <td>...</td>\n",
       "      <td>...</td>\n",
       "      <td>...</td>\n",
       "      <td>...</td>\n",
       "      <td>...</td>\n",
       "      <td>...</td>\n",
       "    </tr>\n",
       "    <tr>\n",
       "      <th>132664</th>\n",
       "      <td>-1</td>\n",
       "      <td>4214.014423</td>\n",
       "      <td>-0.000021</td>\n",
       "      <td>4220.554161</td>\n",
       "      <td>4551.911057</td>\n",
       "      <td>-0.000302</td>\n",
       "      <td>4585.537579</td>\n",
       "      <td>3997.776442</td>\n",
       "      <td>-0.000043</td>\n",
       "      <td>3972.581650</td>\n",
       "      <td>3905.224359</td>\n",
       "      <td>-0.000614</td>\n",
       "      <td>3939.122349</td>\n",
       "      <td>4272.974759</td>\n",
       "      <td>0.000333</td>\n",
       "      <td>4268.930860</td>\n",
       "      <td>4257.497996</td>\n",
       "      <td>-0.000181</td>\n",
       "      <td>4252.699773</td>\n",
       "    </tr>\n",
       "    <tr>\n",
       "      <th>132665</th>\n",
       "      <td>-1</td>\n",
       "      <td>4210.893429</td>\n",
       "      <td>-0.000009</td>\n",
       "      <td>4221.533056</td>\n",
       "      <td>4584.789663</td>\n",
       "      <td>-0.000185</td>\n",
       "      <td>4585.773027</td>\n",
       "      <td>3957.584135</td>\n",
       "      <td>0.000065</td>\n",
       "      <td>3972.782644</td>\n",
       "      <td>3927.640225</td>\n",
       "      <td>-0.000516</td>\n",
       "      <td>3940.105698</td>\n",
       "      <td>4268.960336</td>\n",
       "      <td>0.000314</td>\n",
       "      <td>4269.141727</td>\n",
       "      <td>4250.114182</td>\n",
       "      <td>-0.000129</td>\n",
       "      <td>4253.046906</td>\n",
       "    </tr>\n",
       "    <tr>\n",
       "      <th>132666</th>\n",
       "      <td>-1</td>\n",
       "      <td>4252.604166</td>\n",
       "      <td>-0.000164</td>\n",
       "      <td>4222.511951</td>\n",
       "      <td>4642.453926</td>\n",
       "      <td>0.000020</td>\n",
       "      <td>4586.008474</td>\n",
       "      <td>4032.510016</td>\n",
       "      <td>-0.000136</td>\n",
       "      <td>3972.983637</td>\n",
       "      <td>3988.868189</td>\n",
       "      <td>-0.000248</td>\n",
       "      <td>3941.089047</td>\n",
       "      <td>4327.914663</td>\n",
       "      <td>0.000593</td>\n",
       "      <td>4269.352593</td>\n",
       "      <td>4294.162660</td>\n",
       "      <td>-0.000435</td>\n",
       "      <td>4253.394039</td>\n",
       "    </tr>\n",
       "    <tr>\n",
       "      <th>132667</th>\n",
       "      <td>-1</td>\n",
       "      <td>4226.858974</td>\n",
       "      <td>-0.000069</td>\n",
       "      <td>4223.490846</td>\n",
       "      <td>4597.786458</td>\n",
       "      <td>-0.000139</td>\n",
       "      <td>4586.243921</td>\n",
       "      <td>3957.451923</td>\n",
       "      <td>0.000066</td>\n",
       "      <td>3973.184631</td>\n",
       "      <td>3919.869792</td>\n",
       "      <td>-0.000550</td>\n",
       "      <td>3942.072396</td>\n",
       "      <td>4266.292067</td>\n",
       "      <td>0.000302</td>\n",
       "      <td>4269.563460</td>\n",
       "      <td>4284.759615</td>\n",
       "      <td>-0.000370</td>\n",
       "      <td>4253.741172</td>\n",
       "    </tr>\n",
       "    <tr>\n",
       "      <th>132668</th>\n",
       "      <td>-1</td>\n",
       "      <td>4227.483974</td>\n",
       "      <td>-0.000071</td>\n",
       "      <td>4224.469740</td>\n",
       "      <td>4606.410256</td>\n",
       "      <td>-0.000108</td>\n",
       "      <td>4586.479368</td>\n",
       "      <td>4001.340144</td>\n",
       "      <td>-0.000052</td>\n",
       "      <td>3973.385625</td>\n",
       "      <td>3975.336539</td>\n",
       "      <td>-0.000307</td>\n",
       "      <td>3943.055745</td>\n",
       "      <td>4281.648637</td>\n",
       "      <td>0.000374</td>\n",
       "      <td>4269.774326</td>\n",
       "      <td>4267.612179</td>\n",
       "      <td>-0.000251</td>\n",
       "      <td>4254.088305</td>\n",
       "    </tr>\n",
       "  </tbody>\n",
       "</table>\n",
       "<p>65034 rows × 19 columns</p>\n",
       "</div>"
      ],
      "text/plain": [
       "        code     occ1data  occ1ICAdata  occ1SGFdata    fefF4data  \\\n",
       "event                                                              \n",
       "67635      6  4214.524654    -0.000023  4224.184902  4635.313609   \n",
       "67636      7  4221.477317    -0.000049  4223.634952  4638.408284   \n",
       "67637      9  4221.193910    -0.000048  4223.089233  4652.423878   \n",
       "67638      9  4220.273892    -0.000044  4222.539284  4653.931623   \n",
       "67639      0  4219.587771    -0.000042  4221.985104  4648.289940   \n",
       "...      ...          ...          ...          ...          ...   \n",
       "132664    -1  4214.014423    -0.000021  4220.554161  4551.911057   \n",
       "132665    -1  4210.893429    -0.000009  4221.533056  4584.789663   \n",
       "132666    -1  4252.604166    -0.000164  4222.511951  4642.453926   \n",
       "132667    -1  4226.858974    -0.000069  4223.490846  4597.786458   \n",
       "132668    -1  4227.483974    -0.000071  4224.469740  4606.410256   \n",
       "\n",
       "        fefF4ICAdata  fefF4SGFdata    fefF8data  fefF8ICAdata  fefF8SGFdata  \\\n",
       "event                                                                         \n",
       "67635      -0.000005   4648.100047  3988.708087     -0.000018   4002.607056   \n",
       "67636       0.000006   4647.593850  4005.897436     -0.000065   4001.908551   \n",
       "67637       0.000056   4647.091548  3994.072516     -0.000033   4001.215419   \n",
       "67638       0.000061   4646.585351  3991.991065     -0.000027   4000.516914   \n",
       "67639       0.000041   4646.075261  3991.954635     -0.000027   3999.813036   \n",
       "...              ...           ...          ...           ...           ...   \n",
       "132664     -0.000302   4585.537579  3997.776442     -0.000043   3972.581650   \n",
       "132665     -0.000185   4585.773027  3957.584135      0.000065   3972.782644   \n",
       "132666      0.000020   4586.008474  4032.510016     -0.000136   3972.983637   \n",
       "132667     -0.000139   4586.243921  3957.451923      0.000066   3973.184631   \n",
       "132668     -0.000108   4586.479368  4001.340144     -0.000052   3973.385625   \n",
       "\n",
       "         pfcAF4data  pcaAF4ICAdata  pfcAF4SGFdata   motFC6data  motFC6ICAdata  \\\n",
       "event                                                                           \n",
       "67635   4058.491124       0.000056    4064.567262  4211.530572       0.000043   \n",
       "67636   4066.686390       0.000092    4063.927970  4211.852071       0.000044   \n",
       "67637   4068.056891       0.000098    4063.293597  4220.348557       0.000084   \n",
       "67638   4068.580031       0.000100    4062.654305  4209.702797       0.000034   \n",
       "67639   4062.779092       0.000075    4062.010096  4202.767258       0.000001   \n",
       "...             ...            ...            ...          ...            ...   \n",
       "132664  3905.224359      -0.000614    3939.122349  4272.974759       0.000333   \n",
       "132665  3927.640225      -0.000516    3940.105698  4268.960336       0.000314   \n",
       "132666  3988.868189      -0.000248    3941.089047  4327.914663       0.000593   \n",
       "132667  3919.869792      -0.000550    3942.072396  4266.292067       0.000302   \n",
       "132668  3975.336539      -0.000307    3943.055745  4281.648637       0.000374   \n",
       "\n",
       "        motFC6SGFdata    parP8data  parP8ICAdata  parP8SGFdata  \n",
       "event                                                           \n",
       "67635     4201.209935  4227.084812      0.000030   4235.984111  \n",
       "67636     4200.805726  4234.327416     -0.000020   4235.375812  \n",
       "67637     4200.404627  4237.431891     -0.000041   4234.772192  \n",
       "67638     4200.000418  4232.148407     -0.000005   4234.163892  \n",
       "67639     4199.593100  4228.664694      0.000019   4233.550914  \n",
       "...               ...          ...           ...           ...  \n",
       "132664    4268.930860  4257.497996     -0.000181   4252.699773  \n",
       "132665    4269.141727  4250.114182     -0.000129   4253.046906  \n",
       "132666    4269.352593  4294.162660     -0.000435   4253.394039  \n",
       "132667    4269.563460  4284.759615     -0.000370   4253.741172  \n",
       "132668    4269.774326  4267.612179     -0.000251   4254.088305  \n",
       "\n",
       "[65034 rows x 19 columns]"
      ]
     },
     "execution_count": 21,
     "metadata": {},
     "output_type": "execute_result"
    }
   ],
   "source": [
    "full"
   ]
  },
  {
   "cell_type": "code",
   "execution_count": 22,
   "metadata": {},
   "outputs": [
    {
     "data": {
      "text/plain": [
       "code             1.000000\n",
       "occ1data         0.001626\n",
       "occ1ICAdata     -0.001626\n",
       "occ1SGFdata      0.000756\n",
       "fefF4data        0.008288\n",
       "fefF4ICAdata     0.008288\n",
       "fefF4SGFdata     0.009824\n",
       "fefF8data        0.006907\n",
       "fefF8ICAdata    -0.006907\n",
       "fefF8SGFdata     0.003993\n",
       "pfcAF4data       0.007591\n",
       "pcaAF4ICAdata    0.007591\n",
       "pfcAF4SGFdata    0.020014\n",
       "motFC6data       0.001372\n",
       "motFC6ICAdata    0.001372\n",
       "motFC6SGFdata   -0.010552\n",
       "parP8data        0.002366\n",
       "parP8ICAdata    -0.002366\n",
       "parP8SGFdata    -0.008179\n",
       "Name: code, dtype: float64"
      ]
     },
     "execution_count": 22,
     "metadata": {},
     "output_type": "execute_result"
    }
   ],
   "source": [
    "corrMatFull = full.corr()\n",
    "corrMatFull['code']\n",
    "# check = pd.read_csv('../data/occ1Exp.csv', delimiter=',')\n",
    "# print(check.corr()) # code correlates to data in this channel by 0.001562 \n",
    "# del check \n",
    "\n",
    "# check = pd.read_csv('../data/fefF7Exp.csv', delimiter=',')\n",
    "# print(check.corr()) # code correlates to data in this channel by -0.004390.\n",
    "# del check \n",
    "\n",
    "# check = pd.read_csv('../data/occ0Exp.csv', delimiter=',')\n",
    "# print(check.corr()) # code correlates to data in this channel by -0.000308 \n",
    "# del check \n",
    "\n",
    "# check = pd.read_csv('../data/fefF8Exp.csv', delimiter=',')\n",
    "# print(check.corr()) # code correlates to data in this channel by 0.006184\n",
    "# del check "
   ]
  },
  {
   "cell_type": "code",
   "execution_count": 20,
   "metadata": {
    "scrolled": true
   },
   "outputs": [],
   "source": [
    "# full.plot(y=['occ0Data', 'occ1Data', 'fefF7Data', 'fefF8Data'], alpha=.7 ); "
   ]
  },
  {
   "cell_type": "code",
   "execution_count": 55,
   "metadata": {},
   "outputs": [
    {
     "name": "stdout",
     "output_type": "stream",
     "text": [
      "               total        used        free      shared  buff/cache   available\r\n",
      "Mem:            15Gi       8.6Gi       2.7Gi       172Mi       4.3Gi       6.5Gi\r\n",
      "Swap:          976Mi       524Mi       452Mi\r\n"
     ]
    }
   ],
   "source": [
    "!free -h"
   ]
  },
  {
   "cell_type": "markdown",
   "metadata": {},
   "source": [
    "--------------\n",
    "## Baseline Model: Only O1, O2, F7, F8; No Preprocessing\n",
    "## Baseline+ : Basline+Preprocessing\n",
    "\n",
    "--------------\n",
    "\n",
    "&nbsp;\n"
   ]
  },
  {
   "cell_type": "code",
   "execution_count": 60,
   "metadata": {},
   "outputs": [
    {
     "data": {
      "text/plain": [
       "Index(['code', 'occ1data', 'occ1ICAdata', 'occ1SGFdata', 'fefF4data',\n",
       "       'fefF4ICAdata', 'fefF4SGFdata', 'fefF8data', 'fefF8ICAdata',\n",
       "       'fefF8SGFdata', 'pfcAF4data', 'pcaAF4ICAdata', 'pfcAF4SGFdata',\n",
       "       'motFC6data', 'motFC6ICAdata', 'motFC6SGFdata', 'parP8data',\n",
       "       'parP8ICAdata', 'parP8SGFdata'],\n",
       "      dtype='object')"
      ]
     },
     "execution_count": 60,
     "metadata": {},
     "output_type": "execute_result"
    }
   ],
   "source": [
    "full.columns"
   ]
  },
  {
   "cell_type": "code",
   "execution_count": 183,
   "metadata": {},
   "outputs": [],
   "source": [
    "X = full.drop('code', axis=1)\n",
    "XExperiment = full.drop(['code', 'occ1data', 'fefF4data',\n",
    "                         'fefF8data', 'pfcAF4data', 'motFC6data', 'parP8data',\n",
    "                         'occ1SGFdata', 'fefF4SGFdata','fefF8SGFdata', 'pfcAF4SGFdata', #TODO change to pfc\n",
    "                         'motFC6SGFdata', 'parP8SGFdata'], axis=1) \n",
    "y = full['code']\n",
    "# print(X.columns, X.iloc[0], y.iloc[0], X.shape, y.shape)"
   ]
  },
  {
   "cell_type": "code",
   "execution_count": 184,
   "metadata": {},
   "outputs": [],
   "source": [
    "XTrain, XTest, yTrain, yTest = train_test_split(XExperiment, y)"
   ]
  },
  {
   "cell_type": "code",
   "execution_count": 136,
   "metadata": {},
   "outputs": [
    {
     "name": "stdout",
     "output_type": "stream",
     "text": [
      " _____________________________________\r\n",
      "< brains & NN algorithms are complex! >\r\n",
      " -------------------------------------\r\n",
      "        \\   ^__^\r\n",
      "         \\  (oo)\\_______\r\n",
      "            (__)\\       )\\/\\\r\n",
      "                ||----w |\r\n",
      "                ||     ||\r\n"
     ]
    }
   ],
   "source": [
    "!cowsay brains \\& NN algorithms are complex!"
   ]
  },
  {
   "cell_type": "code",
   "execution_count": 145,
   "metadata": {},
   "outputs": [
    {
     "data": {
      "text/plain": [
       "(TensorShape([48775, 1, 6, 1]), (16259, 6), (48775,), (16259,))"
      ]
     },
     "execution_count": 145,
     "metadata": {},
     "output_type": "execute_result"
    }
   ],
   "source": [
    "XTrain.shape, XTest.shape, yTrain.shape, yTest.shape"
   ]
  },
  {
   "cell_type": "code",
   "execution_count": 138,
   "metadata": {},
   "outputs": [
    {
     "data": {
      "text/plain": [
       "event\n",
       "67635     12.786438\n",
       "67636      9.185567\n",
       "67637     -5.332330\n",
       "67638     -7.346272\n",
       "67639     -2.214679\n",
       "            ...    \n",
       "132664    33.626522\n",
       "132665     0.983364\n",
       "132666   -56.445452\n",
       "132667   -11.542537\n",
       "132668   -19.930888\n",
       "Length: 65034, dtype: float64"
      ]
     },
     "execution_count": 138,
     "metadata": {},
     "output_type": "execute_result"
    }
   ],
   "source": [
    "# for col in X.columns:\n",
    "#     print(len(X[col]))\n",
    "\n",
    "# the error is happening only with the Savitsky-Golay filtered data\n",
    "\n",
    "X['fefF4SGFdata'] - X['fefF4data'] "
   ]
  },
  {
   "cell_type": "code",
   "execution_count": 139,
   "metadata": {},
   "outputs": [],
   "source": [
    "XTrain = tf.reshape(XTrain, (48775, 1, XTrain.shape[1], 1))\n",
    "ohe = OneHotEncoder(sparse=False)\n",
    "yTrainOHE = ohe.fit_transform(yTrain.to_numpy().reshape(-1,1))\n",
    "\n",
    "# ohe0 = OneHotEncoder(sparse=False)\n",
    "# yTestOHE = ohe0.fit(yTrain.to_numpy().reshape(-1,1)) # Daniel said to do this but I can't remember why"
   ]
  },
  {
   "cell_type": "code",
   "execution_count": 140,
   "metadata": {},
   "outputs": [],
   "source": [
    "# del model\n",
    "# gc.collect()"
   ]
  },
  {
   "cell_type": "code",
   "execution_count": 141,
   "metadata": {},
   "outputs": [],
   "source": [
    "model = Sequential()"
   ]
  },
  {
   "cell_type": "code",
   "execution_count": 142,
   "metadata": {},
   "outputs": [],
   "source": [
    "model.add(Conv2D(filters=64, kernel_size=1, activation='relu', input_shape=(1,6,1)))\n",
    "model.add(MaxPooling2D(pool_size=(1,1)))\n",
    "model.add(Conv2D(filters=64, kernel_size=1, activation='relu'))\n",
    "model.add(MaxPooling2D(pool_size=(1,1)))\n",
    "model.add(Conv2D(filters=64, kernel_size=1, activation='relu'))\n",
    "model.add(MaxPooling2D(pool_size=(1,1)))\n",
    "model.add(Flatten())\n",
    "model.add(Dense(32, activation='relu'))\n",
    "model.add(Dense(32, activation='relu'))\n",
    "model.add(Dense(32, activation='relu'))\n",
    "model.add(Dense(32, activation='relu'))\n",
    "model.add(Dense(11, activation='softmax'))\n",
    "\n",
    "# model.add(LSTM(7, input_shape=(1,14,1), activation='tanh', \n",
    "#                recurrent_activation='sigmoid'))"
   ]
  },
  {
   "cell_type": "code",
   "execution_count": 143,
   "metadata": {},
   "outputs": [
    {
     "name": "stdout",
     "output_type": "stream",
     "text": [
      "Model: \"sequential_5\"\n",
      "_________________________________________________________________\n",
      " Layer (type)                Output Shape              Param #   \n",
      "=================================================================\n",
      " conv2d_15 (Conv2D)          (None, 1, 6, 64)          128       \n",
      "                                                                 \n",
      " max_pooling2d_15 (MaxPoolin  (None, 1, 6, 64)         0         \n",
      " g2D)                                                            \n",
      "                                                                 \n",
      " conv2d_16 (Conv2D)          (None, 1, 6, 64)          4160      \n",
      "                                                                 \n",
      " max_pooling2d_16 (MaxPoolin  (None, 1, 6, 64)         0         \n",
      " g2D)                                                            \n",
      "                                                                 \n",
      " conv2d_17 (Conv2D)          (None, 1, 6, 64)          4160      \n",
      "                                                                 \n",
      " max_pooling2d_17 (MaxPoolin  (None, 1, 6, 64)         0         \n",
      " g2D)                                                            \n",
      "                                                                 \n",
      " flatten_5 (Flatten)         (None, 384)               0         \n",
      "                                                                 \n",
      " dense_17 (Dense)            (None, 32)                12320     \n",
      "                                                                 \n",
      " dense_18 (Dense)            (None, 32)                1056      \n",
      "                                                                 \n",
      " dense_19 (Dense)            (None, 32)                1056      \n",
      "                                                                 \n",
      " dense_20 (Dense)            (None, 32)                1056      \n",
      "                                                                 \n",
      " dense_21 (Dense)            (None, 11)                363       \n",
      "                                                                 \n",
      "=================================================================\n",
      "Total params: 24,299\n",
      "Trainable params: 24,299\n",
      "Non-trainable params: 0\n",
      "_________________________________________________________________\n"
     ]
    }
   ],
   "source": [
    "model.summary()"
   ]
  },
  {
   "cell_type": "code",
   "execution_count": 149,
   "metadata": {
    "scrolled": false
   },
   "outputs": [
    {
     "name": "stdout",
     "output_type": "stream",
     "text": [
      "Epoch 1/30\n",
      "2439/2439 [==============================] - 7s 2ms/step - loss: 2.3146 - accuracy: 0.1004\n",
      "Epoch 2/30\n",
      "2439/2439 [==============================] - 6s 3ms/step - loss: 2.3143 - accuracy: 0.1001\n",
      "Epoch 3/30\n",
      "2439/2439 [==============================] - 6s 2ms/step - loss: 2.3143 - accuracy: 0.1008\n",
      "Epoch 4/30\n",
      "2439/2439 [==============================] - 6s 2ms/step - loss: 2.3143 - accuracy: 0.1002\n",
      "Epoch 5/30\n",
      "2439/2439 [==============================] - 6s 2ms/step - loss: 2.3143 - accuracy: 0.0989\n",
      "Epoch 6/30\n",
      "2439/2439 [==============================] - 6s 2ms/step - loss: 2.3143 - accuracy: 0.1016\n",
      "Epoch 7/30\n",
      "2439/2439 [==============================] - 6s 2ms/step - loss: 2.3143 - accuracy: 0.1021\n",
      "Epoch 8/30\n",
      "2439/2439 [==============================] - 6s 2ms/step - loss: 2.3143 - accuracy: 0.0996\n",
      "Epoch 9/30\n",
      "2439/2439 [==============================] - 6s 2ms/step - loss: 2.3143 - accuracy: 0.1007\n",
      "Epoch 10/30\n",
      "2439/2439 [==============================] - 6s 2ms/step - loss: 2.3143 - accuracy: 0.1008\n",
      "Epoch 11/30\n",
      "2439/2439 [==============================] - 6s 2ms/step - loss: 2.3142 - accuracy: 0.0998\n",
      "Epoch 12/30\n",
      "2439/2439 [==============================] - 6s 2ms/step - loss: 2.3143 - accuracy: 0.1005\n",
      "Epoch 13/30\n",
      "2439/2439 [==============================] - 6s 2ms/step - loss: 2.3143 - accuracy: 0.0996\n",
      "Epoch 14/30\n",
      "2439/2439 [==============================] - 6s 2ms/step - loss: 2.3143 - accuracy: 0.1016\n",
      "Epoch 15/30\n",
      "2439/2439 [==============================] - 6s 2ms/step - loss: 2.3142 - accuracy: 0.1019\n",
      "Epoch 16/30\n",
      "2439/2439 [==============================] - 6s 2ms/step - loss: 2.3143 - accuracy: 0.1005\n",
      "Epoch 17/30\n",
      "2439/2439 [==============================] - 6s 2ms/step - loss: 2.3143 - accuracy: 0.0996\n",
      "Epoch 18/30\n",
      "2439/2439 [==============================] - 6s 2ms/step - loss: 2.3143 - accuracy: 0.1004\n",
      "Epoch 19/30\n",
      "2439/2439 [==============================] - 6s 2ms/step - loss: 2.3143 - accuracy: 0.1001\n",
      "Epoch 20/30\n",
      "2439/2439 [==============================] - 6s 2ms/step - loss: 2.3143 - accuracy: 0.0994\n",
      "Epoch 21/30\n",
      "2439/2439 [==============================] - 6s 2ms/step - loss: 2.3143 - accuracy: 0.1005\n",
      "Epoch 22/30\n",
      "2439/2439 [==============================] - 6s 2ms/step - loss: 2.3143 - accuracy: 0.0998\n",
      "Epoch 23/30\n",
      "2439/2439 [==============================] - 6s 2ms/step - loss: 2.3143 - accuracy: 0.0991\n",
      "Epoch 24/30\n",
      "2439/2439 [==============================] - 6s 2ms/step - loss: 2.3143 - accuracy: 0.1001\n",
      "Epoch 25/30\n",
      "2439/2439 [==============================] - 6s 2ms/step - loss: 2.3143 - accuracy: 0.1007\n",
      "Epoch 26/30\n",
      "2439/2439 [==============================] - 6s 2ms/step - loss: 2.3142 - accuracy: 0.1007\n",
      "Epoch 27/30\n",
      "2439/2439 [==============================] - 6s 2ms/step - loss: 2.3143 - accuracy: 0.1019\n",
      "Epoch 28/30\n",
      "2439/2439 [==============================] - 6s 2ms/step - loss: 2.3143 - accuracy: 0.1007\n",
      "Epoch 29/30\n",
      "2439/2439 [==============================] - 6s 2ms/step - loss: 2.3143 - accuracy: 0.0990\n",
      "Epoch 30/30\n",
      "2439/2439 [==============================] - 6s 2ms/step - loss: 2.3143 - accuracy: 0.1011\n"
     ]
    }
   ],
   "source": [
    "model.compile(optimizer='sgd', loss='categorical_crossentropy', metrics=['accuracy'])\n",
    "results = model.fit(XTrain, yTrainOHE, batch_size=20,epochs=30, verbose=1)"
   ]
  },
  {
   "cell_type": "markdown",
   "metadata": {},
   "source": [
    "Best accuracy for the unprocessed signal with all channels was about .1020\n",
    "\n",
    "In 6/14 channels, adding SGF data was about the same\n",
    "\n",
    "In 6/14 channels, adding SGF and dropping raw data resulted in really low accuracy and NaN loss\n",
    "\n",
    "In 6/14 channels, ICA only had a accuracy of about .1000\n",
    "\n",
    "6/14 channels, unproccessed+SGF+ICA, 22,059 params: NaN loss again, what's wrong with the data? woe be the futility of mine ways\n",
    "\n",
    "6/14 channels, SGF only, 9,771 params, accuracy still around .1000\n",
    "\n",
    "6/14 channels, raw, 9,771 params, accuracy about .1000, so the .0020 increase was only from the extra channels. Processing doesn't seem to change the accuracy at all."
   ]
  },
  {
   "cell_type": "markdown",
   "metadata": {},
   "source": [
    "-[] TODO: OHE test, validation set, make more complicated models"
   ]
  },
  {
   "cell_type": "markdown",
   "metadata": {},
   "source": [
    "### Support Vector Machine Attempt"
   ]
  },
  {
   "cell_type": "code",
   "execution_count": 109,
   "metadata": {},
   "outputs": [
    {
     "data": {
      "text/plain": [
       "SVC()"
      ]
     },
     "execution_count": 109,
     "metadata": {},
     "output_type": "execute_result"
    }
   ],
   "source": [
    "svc = SVC()\n",
    "svc.fit(XTrain, yTrain)"
   ]
  },
  {
   "cell_type": "code",
   "execution_count": 116,
   "metadata": {},
   "outputs": [
    {
     "data": {
      "text/plain": [
       "0.10234331754720463"
      ]
     },
     "execution_count": 116,
     "metadata": {},
     "output_type": "execute_result"
    }
   ],
   "source": [
    "svc.score(XTest, yTest)"
   ]
  },
  {
   "cell_type": "markdown",
   "metadata": {},
   "source": [
    "A quick support vector classifier ended up getting the same accuracy, 0.10234331754720463"
   ]
  },
  {
   "cell_type": "code",
   "execution_count": 197,
   "metadata": {},
   "outputs": [
    {
     "data": {
      "text/plain": [
       "(array([ 1.51991153e-05, -1.64019496e-04,  6.11943053e-05, ...,\n",
       "         4.13683698e-05,  1.26545442e-04,  1.39856091e-05]),\n",
       " array([[2],\n",
       "        [3],\n",
       "        [0],\n",
       "        ...,\n",
       "        [8],\n",
       "        [2],\n",
       "        [0]]))"
      ]
     },
     "execution_count": 197,
     "metadata": {},
     "output_type": "execute_result"
    }
   ],
   "source": [
    "XTrain.to_numpy().reshape(-1, 1).flatten(), yTrain.to_numpy().reshape(-1, 1)"
   ]
  },
  {
   "cell_type": "markdown",
   "metadata": {},
   "source": [
    "### Echo State Network Attempt"
   ]
  },
  {
   "cell_type": "code",
   "execution_count": 190,
   "metadata": {},
   "outputs": [
    {
     "ename": "ValueError",
     "evalue": "cannot reshape array of size 292650 into shape (48775,1)",
     "output_type": "error",
     "traceback": [
      "\u001b[0;31m---------------------------------------------------------------------------\u001b[0m",
      "\u001b[0;31mValueError\u001b[0m                                Traceback (most recent call last)",
      "\u001b[0;32m<ipython-input-190-a01ff2f5544e>\u001b[0m in \u001b[0;36m<module>\u001b[0;34m\u001b[0m\n\u001b[1;32m      3\u001b[0m \u001b[0;34m\u001b[0m\u001b[0m\n\u001b[1;32m      4\u001b[0m \u001b[0mreadout\u001b[0m \u001b[0;34m=\u001b[0m \u001b[0mRidge\u001b[0m\u001b[0;34m(\u001b[0m\u001b[0mridge\u001b[0m\u001b[0;34m=\u001b[0m\u001b[0;36m1e-7\u001b[0m\u001b[0;34m)\u001b[0m\u001b[0;34m\u001b[0m\u001b[0;34m\u001b[0m\u001b[0m\n\u001b[0;32m----> 5\u001b[0;31m \u001b[0mtrain_states\u001b[0m \u001b[0;34m=\u001b[0m \u001b[0mreservoir\u001b[0m\u001b[0;34m.\u001b[0m\u001b[0mrun\u001b[0m\u001b[0;34m(\u001b[0m\u001b[0mXTrain\u001b[0m\u001b[0;34m.\u001b[0m\u001b[0mto_numpy\u001b[0m\u001b[0;34m(\u001b[0m\u001b[0;34m)\u001b[0m\u001b[0;34m.\u001b[0m\u001b[0mreshape\u001b[0m\u001b[0;34m(\u001b[0m\u001b[0;36m48775\u001b[0m\u001b[0;34m,\u001b[0m \u001b[0;36m1\u001b[0m\u001b[0;34m)\u001b[0m\u001b[0;34m,\u001b[0m \u001b[0mreset\u001b[0m\u001b[0;34m=\u001b[0m\u001b[0;32mTrue\u001b[0m\u001b[0;34m)\u001b[0m\u001b[0;34m\u001b[0m\u001b[0;34m\u001b[0m\u001b[0m\n\u001b[0m\u001b[1;32m      6\u001b[0m \u001b[0;31m# train_statesy = reservoir.run(yTrain.to_numpy().reshape(-1, 1), reset=True)\u001b[0m\u001b[0;34m\u001b[0m\u001b[0;34m\u001b[0m\u001b[0;34m\u001b[0m\u001b[0m\n\u001b[1;32m      7\u001b[0m \u001b[0mreadout\u001b[0m \u001b[0;34m=\u001b[0m \u001b[0mreadout\u001b[0m\u001b[0;34m.\u001b[0m\u001b[0mfit\u001b[0m\u001b[0;34m(\u001b[0m\u001b[0mtrain_states\u001b[0m\u001b[0;34m,\u001b[0m \u001b[0myTrain\u001b[0m\u001b[0;34m.\u001b[0m\u001b[0mto_numpy\u001b[0m\u001b[0;34m(\u001b[0m\u001b[0;34m)\u001b[0m\u001b[0;34m.\u001b[0m\u001b[0mreshape\u001b[0m\u001b[0;34m(\u001b[0m\u001b[0;34m-\u001b[0m\u001b[0;36m1\u001b[0m\u001b[0;34m,\u001b[0m \u001b[0;36m1\u001b[0m\u001b[0;34m)\u001b[0m\u001b[0;34m,\u001b[0m \u001b[0mwarmup\u001b[0m\u001b[0;34m=\u001b[0m\u001b[0;36m10\u001b[0m\u001b[0;34m)\u001b[0m\u001b[0;34m\u001b[0m\u001b[0;34m\u001b[0m\u001b[0m\n",
      "\u001b[0;31mValueError\u001b[0m: cannot reshape array of size 292650 into shape (48775,1)"
     ]
    }
   ],
   "source": [
    "import reservoirpy as rpy\n",
    "from reservoirpy.nodes import Reservoir, Ridge, FORCE, ESN\n",
    "\n",
    "readout = Ridge(ridge=1e-7)\n",
    "train_states = reservoir.run(XTrain.to_numpy().reshape(-1, 1), reset=True)\n",
    "# train_statesy = reservoir.run(yTrain.to_numpy().reshape(-1, 1), reset=True)\n",
    "readout = readout.fit(train_states, yTrain.to_numpy().reshape(-1, 1), warmup=10)\n",
    "test_states = reservoir.run(XTest.to_numpy().reshape(-1, 1))\n",
    "yPred = readout.run(test_states)\n",
    "\n",
    "reservoir = Reservoir(100, lr=0.5, sr=0.9)\n",
    "ridge = Ridge(ridge=1e-7)\n",
    "\n",
    "esn_model = reservoir >> ridge\n",
    "\n",
    "esn_model = esn_model.fit(XTrain.to_numpy().reshape(-1, 1), yTrain.to_numpy().reshape(-1, 1).to_numpy().reshape(-1, 1), warmup=10)\n",
    "print(reservoir.is_initialized, readout.is_initialized, readout.fitted)\n",
    "\n",
    "yPred = esn_model.run(XTest.to_numpy().reshape(-1, 1))\n"
   ]
  },
  {
   "cell_type": "markdown",
   "metadata": {},
   "source": [
    "While it was nice to learn how to set one of these up, I realized after a lot of tuning the reservoirpy library doesn't seem to have good interop with pandas. Might have interesting results with 1D timestamp and 1D value arrays, but not a multidimensional dataframe"
   ]
  },
  {
   "cell_type": "code",
   "execution_count": 209,
   "metadata": {
    "scrolled": true
   },
   "outputs": [
    {
     "name": "stderr",
     "output_type": "stream",
     "text": [
      "Running Reservoir-6: 100%|██████████| 65034/65034 [00:06<00:00, 10457.73it/s]\n",
      "Running Reservoir-6: 100%|██████████| 65034/65034 [00:06<00:00, 10306.03it/s]\n",
      "Running Model-7:   0%|          | 0/1 [00:00<?, ?it/s]\n",
      "Running Model-7:   0%|          | 0/1 [00:00<?, ?it/s]\u001b[A\n",
      "Running Model-7: 608it [00:00, 6077.69it/s]           \u001b[A\n",
      "Running Model-7: 1184it [00:00, 5977.77it/s]\u001b[A\n",
      "Running Model-7: 1774it [00:00, 5953.20it/s]\u001b[A\n",
      "Running Model-7: 2340it [00:00, 5861.04it/s]\u001b[A\n",
      "Running Model-7: 2958it [00:00, 5950.73it/s]\u001b[A\n",
      "Running Model-7: 3509it [00:00, 5809.06it/s]\u001b[A\n",
      "Running Model-7: 4114it [00:00, 5877.67it/s]\u001b[A\n",
      "Running Model-7: 4698it [00:00, 5864.64it/s]\u001b[A\n",
      "Running Model-7: 5266it [00:00, 5805.29it/s]\u001b[A\n",
      "Running Model-7: 5856it [00:01, 5832.72it/s]\u001b[A\n",
      "Running Model-7: 6438it [00:01, 5827.26it/s]\u001b[A\n",
      "Running Model-7: 7041it [00:01, 5886.27it/s]\u001b[A\n",
      "Running Model-7: 7640it [00:01, 5915.91it/s]\u001b[A\n",
      "Running Model-7: 8228it [00:01, 5904.99it/s]\u001b[A\n",
      "Running Model-7: 8820it [00:01, 5909.08it/s]\u001b[A\n",
      "Running Model-7: 9416it [00:01, 5922.98it/s]\u001b[A\n",
      "Running Model-7: 10023it [00:01, 5964.50it/s]\u001b[A\n",
      "Running Model-7: 10635it [00:01, 6009.18it/s]\u001b[A\n",
      "Running Model-7: 11236it [00:01, 5912.81it/s]\u001b[A\n",
      "Running Model-7: 11828it [00:02, 5818.73it/s]\u001b[A\n",
      "Running Model-7: 12411it [00:02, 5803.54it/s]\u001b[A\n",
      "Running Model-7: 12992it [00:02, 5790.53it/s]\u001b[A\n",
      "Running Model-7: 13572it [00:02, 5738.91it/s]\u001b[A\n",
      "Running Model-7: 14147it [00:02, 5703.06it/s]\u001b[A\n",
      "Running Model-7: 14731it [00:02, 5742.01it/s]\u001b[A\n",
      "Running Model-7: 15306it [00:02, 5728.33it/s]\u001b[A\n",
      "Running Model-7: 15890it [00:02, 5761.14it/s]\u001b[A\n",
      "Running Model-7: 16482it [00:02, 5805.01it/s]\u001b[A\n",
      "Running Model-7: 17063it [00:02, 5804.17it/s]\u001b[A\n",
      "Running Model-7: 17657it [00:03, 5843.72it/s]\u001b[A\n",
      "Running Model-7: 18258it [00:03, 5891.12it/s]\u001b[A\n",
      "Running Model-7: 18866it [00:03, 5944.25it/s]\u001b[A\n",
      "Running Model-7: 19461it [00:03, 5888.21it/s]\u001b[A\n",
      "Running Model-7: 20051it [00:03, 5788.12it/s]\u001b[A\n",
      "Running Model-7: 20644it [00:03, 5828.84it/s]\u001b[A\n",
      "Running Model-7: 21243it [00:03, 5873.62it/s]\u001b[A\n",
      "Running Model-7: 21831it [00:03, 5788.88it/s]\u001b[A\n",
      "Running Model-7: 22413it [00:03, 5795.93it/s]\u001b[A\n",
      "Running Model-7: 22999it [00:03, 5812.25it/s]\u001b[A\n",
      "Running Model-7: 23581it [00:04, 5633.60it/s]\u001b[A\n",
      "Running Model-7: 24158it [00:04, 5672.19it/s]\u001b[A\n",
      "Running Model-7: 24757it [00:04, 5762.30it/s]\u001b[A\n",
      "Running Model-7: 25335it [00:04, 5744.69it/s]\u001b[A\n",
      "Running Model-7: 25938it [00:04, 5825.64it/s]\u001b[A\n",
      "Running Model-7: 26541it [00:04, 5882.96it/s]\u001b[A\n",
      "Running Model-7: 27130it [00:04, 5822.68it/s]\u001b[A\n",
      "Running Model-7: 27713it [00:04, 5728.89it/s]\u001b[A\n",
      "Running Model-7: 28287it [00:04, 5676.58it/s]\u001b[A\n",
      "Running Model-7: 28866it [00:04, 5709.39it/s]\u001b[A\n",
      "Running Model-7: 29438it [00:05, 5634.17it/s]\u001b[A\n",
      "Running Model-7: 30002it [00:05, 5633.38it/s]\u001b[A\n",
      "Running Model-7: 30569it [00:05, 5643.93it/s]\u001b[A\n",
      "Running Model-7: 31137it [00:05, 5654.46it/s]\u001b[A\n",
      "Running Model-7: 31734it [00:05, 5743.76it/s]\u001b[A\n",
      "Running Model-7: 32327it [00:05, 5796.45it/s]\u001b[A\n",
      "Running Model-7: 32921it [00:05, 5836.26it/s]\u001b[A\n",
      "Running Model-7: 33511it [00:05, 5854.66it/s]\u001b[A\n",
      "Running Model-7: 34097it [00:05, 5827.35it/s]\u001b[A\n",
      "Running Model-7: 34680it [00:05, 5748.60it/s]\u001b[A\n",
      "Running Model-7: 35256it [00:06, 5632.46it/s]\u001b[A\n",
      "Running Model-7: 35821it [00:06, 5600.28it/s]\u001b[A\n",
      "Running Model-7: 36382it [00:06, 5593.31it/s]\u001b[A\n",
      "Running Model-7: 36969it [00:06, 5671.34it/s]\u001b[A\n",
      "Running Model-7: 37570it [00:06, 5768.24it/s]\u001b[A\n",
      "Running Model-7: 38164it [00:06, 5817.23it/s]\u001b[A\n",
      "Running Model-7: 38756it [00:06, 5845.81it/s]\u001b[A\n",
      "Running Model-7: 39342it [00:06, 5832.56it/s]\u001b[A\n",
      "Running Model-7: 39926it [00:06, 5831.38it/s]\u001b[A\n",
      "Running Model-7: 40519it [00:06, 5860.52it/s]\u001b[A\n",
      "Running Model-7: 41115it [00:07, 5887.87it/s]\u001b[A\n",
      "Running Model-7: 41711it [00:07, 5907.63it/s]\u001b[A\n",
      "Running Model-7: 42302it [00:07, 5756.75it/s]\u001b[A\n",
      "Running Model-7: 42879it [00:07, 5663.57it/s]\u001b[A\n",
      "Running Model-7: 43447it [00:07, 5589.41it/s]\u001b[A\n",
      "Running Model-7: 44007it [00:07, 5552.98it/s]\u001b[A\n",
      "Running Model-7: 44609it [00:07, 5684.41it/s]\u001b[A\n",
      "Running Model-7: 45214it [00:07, 5789.02it/s]\u001b[A\n",
      "Running Model-7: 45795it [00:07, 5662.03it/s]\u001b[A\n",
      "Running Model-7: 46363it [00:08, 5663.80it/s]\u001b[A\n",
      "Running Model-7: 46938it [00:08, 5688.58it/s]\u001b[A\n",
      "Running Model-7: 47533it [00:08, 5762.66it/s]\u001b[A\n",
      "Running Model-7: 48111it [00:08, 5678.11it/s]\u001b[A\n",
      "Running Model-7: 48680it [00:08, 5381.61it/s]\u001b[A\n",
      "Running Model-7: 49222it [00:08, 5390.64it/s]\u001b[A\n",
      "Running Model-7: 49811it [00:08, 5530.06it/s]\u001b[A\n",
      "Running Model-7: 50408it [00:08, 5654.45it/s]\u001b[A\n",
      "Running Model-7: 50979it [00:08, 5670.07it/s]\u001b[A\n",
      "Running Model-7: 51548it [00:08, 5660.56it/s]\u001b[A\n",
      "Running Model-7: 52116it [00:09, 5641.65it/s]\u001b[A\n",
      "Running Model-7: 52700it [00:09, 5694.78it/s]\u001b[A\n",
      "Running Model-7: 53271it [00:09, 5667.71it/s]\u001b[A\n",
      "Running Model-7: 53839it [00:09, 5644.05it/s]\u001b[A\n",
      "Running Model-7: 54416it [00:09, 5679.46it/s]\u001b[A\n",
      "Running Model-7: 55013it [00:09, 5760.96it/s]\u001b[A\n",
      "Running Model-7: 55619it [00:09, 5847.09it/s]\u001b[A\n",
      "Running Model-7: 56205it [00:09, 5736.22it/s]\u001b[A\n",
      "Running Model-7: 56780it [00:09, 5397.52it/s]\u001b[A\n",
      "Running Model-7: 57355it [00:09, 5496.57it/s]\u001b[A\n",
      "Running Model-7: 57940it [00:10, 5596.85it/s]\u001b[A\n",
      "Running Model-7: 58546it [00:10, 5726.75it/s]\u001b[A\n",
      "Running Model-7: 59122it [00:10, 5631.44it/s]\u001b[A\n",
      "Running Model-7: 59688it [00:10, 5584.71it/s]\u001b[A\n",
      "Running Model-7: 60274it [00:10, 5664.12it/s]\u001b[A\n",
      "Running Model-7: 60858it [00:10, 5714.58it/s]\u001b[A\n",
      "Running Model-7: 61450it [00:10, 5773.24it/s]\u001b[A\n",
      "Running Model-7: 62042it [00:10, 5813.29it/s]\u001b[A\n",
      "Running Model-7: 62625it [00:10, 5774.60it/s]\u001b[A\n",
      "Running Model-7: 63226it [00:10, 5841.09it/s]\u001b[A\n",
      "Running Model-7: 63832it [00:11, 5903.87it/s]\u001b[A\n",
      "Running Model-7: 64431it [00:11, 5928.65it/s]\u001b[A\n",
      "Running Model-7: 65034it [00:11, 5755.14it/s]\u001b[A\n",
      "Running Model-7: 100%|██████████| 1/1 [00:11<00:00, 11.36s/it]\n"
     ]
    },
    {
     "name": "stdout",
     "output_type": "stream",
     "text": [
      "Fitting node Ridge-19...\n"
     ]
    },
    {
     "name": "stderr",
     "output_type": "stream",
     "text": [
      "Running Model-6: 1195it [00:00, 5902.90it/s]          "
     ]
    },
    {
     "name": "stdout",
     "output_type": "stream",
     "text": [
      "True False False\n"
     ]
    },
    {
     "name": "stderr",
     "output_type": "stream",
     "text": [
      "Running Model-6: 65034it [00:10, 6031.98it/s]\n"
     ]
    }
   ],
   "source": [
    "readout1 = Ridge(ridge=1e-7)\n",
    "train_states1 = reservoir.run(full['pfcAF4SGFdata'].to_numpy().reshape(-1, 1), reset=True)\n",
    "# train_statesy = reservoir.run(yTrain.to_numpy().reshape(-1, 1), reset=True)\n",
    "readout1 = readout1.fit(train_states1, full['code'].to_numpy().reshape(-1, 1), warmup=10)\n",
    "test_states1 = reservoir.run((full['pfcAF4SGFdata'].to_numpy().reshape(-1, 1)))\n",
    "# yPred1 = readout.run(test_states1)\n",
    "\n",
    "reservoir1 = Reservoir(100, lr=0.5, sr=0.9)\n",
    "ridge1 = Ridge(ridge=1e-7)\n",
    "\n",
    "esn_model1 = reservoir >> ridge\n",
    "\n",
    "esn_model1 = esn_model1.fit(full['pfcAF4SGFdata'].to_numpy().reshape(-1, 1), \n",
    "                             full['code'].to_numpy().reshape(-1, 1) ,warmup=10)\n",
    "print(reservoir.is_initialized, readout.is_initialized, readout.fitted)\n",
    "\n",
    "yPred1 = esn_model.run((full['pfcAF4SGFdata'].to_numpy().reshape(-1, 1)))"
   ]
  },
  {
   "cell_type": "code",
   "execution_count": 220,
   "metadata": {},
   "outputs": [
    {
     "data": {
      "text/plain": [
       "{4.494217014863551}"
      ]
     },
     "execution_count": 220,
     "metadata": {},
     "output_type": "execute_result"
    }
   ],
   "source": [
    "set(yPred1.flatten()), (mean())"
   ]
  }
 ],
 "metadata": {
  "kernelspec": {
   "display_name": "Python (learn-env)",
   "language": "python",
   "name": "learn-env"
  },
  "language_info": {
   "codemirror_mode": {
    "name": "ipython",
    "version": 3
   },
   "file_extension": ".py",
   "mimetype": "text/x-python",
   "name": "python",
   "nbconvert_exporter": "python",
   "pygments_lexer": "ipython3",
   "version": "3.8.5"
  }
 },
 "nbformat": 4,
 "nbformat_minor": 4
}
