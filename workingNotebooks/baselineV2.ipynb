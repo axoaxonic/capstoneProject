{
 "cells": [
  {
   "cell_type": "code",
   "execution_count": 15,
   "metadata": {},
   "outputs": [],
   "source": [
    "# import pandas as pd\n",
    "# import numpy as np\n",
    "# import time\n",
    "# import seaborn as sns\n",
    "# import matplotlib.pyplot as plt\n",
    "# import pywt\n",
    "# import nolds\n",
    "# import scipy\n",
    "# import meegkit\n",
    "# import tensorflow as tf\n",
    "from tensorflow.keras.models import Sequential # do these need to be tf.keras? review why\n",
    "from tensorflow.keras.layers import Dense, Conv1D, LSTM, MaxPooling1D, SimpleRNN\n",
    "from sklearn.cross_decomposition import CCA \n",
    "from sklearn.model_selection import train_test_split"
   ]
  },
  {
   "cell_type": "code",
   "execution_count": 2,
   "metadata": {},
   "outputs": [
    {
     "name": "stdout",
     "output_type": "stream",
     "text": [
      "               total        used        free      shared  buff/cache   available\r\n",
      "Mem:            15Gi       1.6Gi        12Gi       238Mi       1.1Gi        13Gi\r\n",
      "Swap:          976Mi       764Mi       212Mi\r\n"
     ]
    }
   ],
   "source": [
    "!free -h"
   ]
  },
  {
   "cell_type": "code",
   "execution_count": 3,
   "metadata": {
    "scrolled": true
   },
   "outputs": [],
   "source": [
    "baseline = pd.read_csv('baseline.csv', delimiter=',')\n",
    "baseline.drop('Unnamed: 0', inplace=True, axis=1)"
   ]
  },
  {
   "cell_type": "code",
   "execution_count": 4,
   "metadata": {},
   "outputs": [
    {
     "name": "stdout",
     "output_type": "stream",
     "text": [
      "               total        used        free      shared  buff/cache   available\r\n",
      "Mem:            15Gi       6.1Gi       6.5Gi       233Mi       3.0Gi       8.9Gi\r\n",
      "Swap:          976Mi       764Mi       212Mi\r\n"
     ]
    }
   ],
   "source": [
    "!free -h"
   ]
  },
  {
   "cell_type": "code",
   "execution_count": 14,
   "metadata": {},
   "outputs": [
    {
     "data": {
      "text/plain": [
       "(67508388, 4)"
      ]
     },
     "execution_count": 14,
     "metadata": {},
     "output_type": "execute_result"
    }
   ],
   "source": [
    "baseline.shape"
   ]
  },
  {
   "cell_type": "markdown",
   "metadata": {},
   "source": [
    "--------------\n",
    "## Baseline Model: Only O1, O2, F7, F8; No Preprocessing\n",
    "## Baseline+ : Basline+Preprocessing\n",
    "\n",
    "--------------\n",
    "\n",
    "&nbsp;\n"
   ]
  },
  {
   "cell_type": "code",
   "execution_count": 8,
   "metadata": {},
   "outputs": [],
   "source": [
    "XTrain, XTest, yTrain, yTest = train_test_split(baseline['data'], baseline['code'] ) # do I need to set index to eventid?"
   ]
  },
  {
   "cell_type": "code",
   "execution_count": 16,
   "metadata": {},
   "outputs": [
    {
     "name": "stdout",
     "output_type": "stream",
     "text": [
      "               total        used        free      shared  buff/cache   available\r\n",
      "Mem:            15Gi       7.5Gi       4.4Gi       305Mi       3.7Gi       7.5Gi\r\n",
      "Swap:          976Mi       536Mi       440Mi\r\n"
     ]
    }
   ],
   "source": [
    "!free -h"
   ]
  },
  {
   "cell_type": "code",
   "execution_count": null,
   "metadata": {},
   "outputs": [],
   "source": [
    "model = Sequential()"
   ]
  },
  {
   "cell_type": "code",
   "execution_count": 10,
   "metadata": {},
   "outputs": [],
   "source": [
    "# model.add(Conv1D(activation='relu', input_shape=(-1,-1))) # or selu\n",
    "# modl.add(MaxPooling1D(pool_size=1)\n",
    "# model.add(Conv1D(n, activation='relu'), input_dim=m, )\n",
    "# model.add(Conv1D(n, activation='relu'), input_dim=m, )\n",
    "# model.add(Dense(n, activation='softmax'), input_dim=m, )\n",
    "# model.add(Dense(n, activation='softmax'), input_dim=m, )\n",
    "\n",
    "\n",
    "model.add(LSTM(n, activation='relu') )\n",
    "model.add(LSTM(n, activation='relu'))\n",
    "model.add(Dense(n, activation='softmax'), input_dim=m, )\n",
    "model.add(Dense(n, activation='softmax'), input_dim=m, )"
   ]
  },
  {
   "cell_type": "markdown",
   "metadata": {},
   "source": [
    "--------------\n",
    "### Preprocessing\n",
    "--------------\n",
    "\n",
    "&nbsp;"
   ]
  },
  {
   "cell_type": "markdown",
   "metadata": {},
   "source": [
    "Wavelet transform is not ideal for neural data because it relies on windows of different sizes (see Mike X Cohen's youtube channel). Hilbert transform might be the better option\n",
    "provide unique analytic signal from real value data, so you can calculate instantaneous properties of your data\" -EstherExplains v=dy4OeAYqSqM \n",
    "\n",
    "\n",
    "HT gives amplitude and phase, so \"energy-frequency-time distribution\"\n",
    "> 1, Fourier Transform real valued signal\n",
    "> 2. Set Fourier coefficients of negative frequencies to zero so they cannot cancel out the imaginary part related to the positive frequencies during the inverse FT\n",
    "> 3. Double the amplitude related to positive frequencies for energy conservation\n",
    "> 4. Inverse Fourier transform to obtain the analytic (complex signal)\n",
    "\n",
    "\n",
    "```\n",
    "Returns xandarray Analytic signal of x, of each 1-D array along axis\n",
    "```"
   ]
  },
  {
   "cell_type": "code",
   "execution_count": null,
   "metadata": {},
   "outputs": [],
   "source": [
    "# testing wavelet transform and ways to parse the data column\n",
    "# pywt.cwt([row.split() for row in emotiv['data']], ) # this one returns array of coefs and an array of freqs \n",
    "# testCWT = scipy.signal.wavelets.cwt(dataColFlatFloat, wavelet=scipy.signal.ricker, widths=np.arange(1, 31) ) # this one just returns an NxM matrix, may lose info but could be easier to work with\n",
    "# type(dataColFlat[3]) # data column is all string encoded, of course, it was one giant string of numbers periods and commas\n",
    "# dataColFlatFloat = [float(i) for i in dataColFlat]\n",
    "# pd.DataFrame(testCWT).plot() #freezes comp; reduce dimensionality first"
   ]
  },
  {
   "cell_type": "markdown",
   "metadata": {},
   "source": [
    "Chaos Features"
   ]
  },
  {
   "cell_type": "code",
   "execution_count": null,
   "metadata": {},
   "outputs": [],
   "source": [
    "# nolds.corr_dim() \n",
    "# nolds.lyap_e() # just the exponents\n",
    "# nolds.lyap_r() # oh here it is"
   ]
  },
  {
   "cell_type": "markdown",
   "metadata": {},
   "source": [
    " Power Spectrum Decomposition"
   ]
  },
  {
   "cell_type": "code",
   "execution_count": null,
   "metadata": {},
   "outputs": [],
   "source": [
    "# scipy.signal.periodogram()"
   ]
  },
  {
   "cell_type": "markdown",
   "metadata": {},
   "source": [
    "Wavelet transform is not ideal for neural data because it relies on windows of different sizes (see Mike X Cohen's youtube channel). Hilbert transform might be the better option\n",
    "provide unique analytic signal from real value data, so you can calculate instantaneous properties of your data\" -EstherExplains v=dy4OeAYqSqM \n",
    "\n",
    "\n",
    "HT gives amplitude and phase, so \"energy-frequency-time distribution\"\n",
    "> 1, Fourier Transform real valued signal\n",
    "> 2. Set Fourier coefficients of negative frequencies to zero so they cannot cancel out the imaginary part related to the positive frequencies during the inverse FT\n",
    "> 3. Double the amplitude related to positive frequencies for energy conservation\n",
    "> 4. Inverse Fourier transform to obtain the analytic (complex signal)\n",
    "\n",
    "I think the phase info is in the complex domain though. \n",
    "```\n",
    "Returns xandarray Analytic signal of x, of each 1-D array along axis\n",
    "```\n"
   ]
  }
 ],
 "metadata": {
  "kernelspec": {
   "display_name": "Python (learn-env)",
   "language": "python",
   "name": "learn-env"
  },
  "language_info": {
   "codemirror_mode": {
    "name": "ipython",
    "version": 3
   },
   "file_extension": ".py",
   "mimetype": "text/x-python",
   "name": "python",
   "nbconvert_exporter": "python",
   "pygments_lexer": "ipython3",
   "version": "3.8.5"
  }
 },
 "nbformat": 4,
 "nbformat_minor": 4
}
