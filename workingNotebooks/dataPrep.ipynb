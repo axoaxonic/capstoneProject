{
 "cells": [
  {
   "cell_type": "code",
   "execution_count": 2,
   "metadata": {},
   "outputs": [],
   "source": [
    "import time\n",
    "import pandas as pd\n",
    "import numpy as np\n",
    "\n",
    "cols = ['id', 'event', 'device', 'channel', 'code', 'size', 'data']\n",
    "emotiv = pd.read_csv('../../data/EP1.txt', delimiter='\\t', names=cols)\n",
    "emotiv.drop(['device', 'id', 'size'], inplace=True, axis=1)\n",
    "\n",
    "occ0 = emotiv[(emotiv['channel'] == 'O1')]\n",
    "occ1 = emotiv[(emotiv['channel'] == 'O2')]\n",
    "fefF3 = emotiv[(emotiv['channel'] == 'F3')]\n",
    "fefF4 = emotiv[(emotiv['channel'] == 'F4')]\n",
    "fefF7 = emotiv[(emotiv['channel'] == 'F7')]\n",
    "fefF8 = emotiv[(emotiv['channel'] == 'F8')]\n",
    "\n",
    "del emotiv\n",
    "\n",
    "occ0['data'] = occ0['data'].apply(lambda x: x.split(','))\n",
    "occ0Exp = occ0.explode('data')\n",
    "occ0Exp.to_csv('../data/occ0Exp.csv', sep=',')\n",
    "\n",
    "occ1['data'] = occ1['data'].apply(lambda x: x.split(','))\n",
    "occ1Exp = occ1.explode('data')\n",
    "occ1Exp.to_csv('../data/occ1Exp.csv', sep=',')\n",
    "\n",
    "fefF3['data'] = fefF3['data'].apply(lambda x: x.split(','))\n",
    "fefF3Exp = fefF3.explode('data')\n",
    "fefF3Exp.to_csv('../data/fefF3Exp.csv', sep=',')\n",
    "\n",
    "fefF4['data'] = fefF4['data'].apply(lambda x: x.split(','))\n",
    "fefF4Exp = fefF4.explode('data')\n",
    "fefF4Exp.to_csv('../data/fefF4Exp.csv', sep=',')\n",
    "\n",
    "fefF7['data'] = fefF7['data'].apply(lambda x: x.split(','))\n",
    "fefF7Exp = fefF7.explode('data')\n",
    "fefF7Exp.to_csv('../data/fefF7Exp.csv', sep=',')\n",
    "\n",
    "fefF8['data'] = fefF8['data'].apply(lambda x: x.split(','))\n",
    "fefF8Exp = fefF8.explode('data')\n",
    "fefF8Exp.to_csv('../data/fefF8Exp.csv', sep=',')\n",
    "\n",
    "baseline = pd.concat([occ0Exp, occ1Exp, fefF7Exp, fefF8Exp])\n",
    "baselineWide = pd.concat([occ0Exp, occ1Exp, fefF7Exp, fefF8Exp], axis=1, join='inner' ) # breaks kernel\n",
    "occWide = pd.concat([occ0Exp, occ1Exp], axis=1) \n",
    "fefWide = pd.concat([fefF7Exp, fefF8Exp], axis=1, join='inner' )\n",
    "\n",
    "print(occWide.head())\n",
    "baselineWide.to_csv('../data/baselineWide.csv', sep=',')\n",
    "occWide.to_csv('../data/occWide.csv', sep=',')"
   ]
  }
 ],
 "metadata": {
  "kernelspec": {
   "display_name": "Python (learn-env)",
   "language": "python",
   "name": "learn-env"
  },
  "language_info": {
   "codemirror_mode": {
    "name": "ipython",
    "version": 3
   },
   "file_extension": ".py",
   "mimetype": "text/x-python",
   "name": "python",
   "nbconvert_exporter": "python",
   "pygments_lexer": "ipython3",
   "version": "3.8.5"
  }
 },
 "nbformat": 4,
 "nbformat_minor": 4
}
