{
 "cells": [
  {
   "cell_type": "markdown",
   "metadata": {},
   "source": [
    "# DATA PREP\n",
    "-----------------\n",
    "-----------------"
   ]
  },
  {
   "cell_type": "code",
   "execution_count": 5,
   "metadata": {},
   "outputs": [
    {
     "name": "stdout",
     "output_type": "stream",
     "text": [
      "               total        used        free      shared  buff/cache   available\r\n",
      "Mem:            15Gi       4.4Gi       4.9Gi       269Mi       6.2Gi        10Gi\r\n",
      "Swap:          976Mi          0B       976Mi\r\n"
     ]
    }
   ],
   "source": [
    "!free -h"
   ]
  },
  {
   "cell_type": "code",
   "execution_count": 3,
   "metadata": {},
   "outputs": [],
   "source": [
    "import time\n",
    "import pandas as pd\n",
    "import numpy as np\n",
    "import gc\n",
    "\n",
    "cols = ['id', 'event', 'device', 'channel', 'code', 'size', 'data']\n",
    "emotiv = pd.read_csv('../../fulldata/EP1.txt', delimiter='\\t', names=cols)\n",
    "emotiv.drop(['device', 'id'], inplace=True, axis=1)\n",
    "# print(emotiv.columns)\n",
    "# for channel in set(emotiv['channel']):\n",
    "#     print(channel)\n",
    "\n",
    "occ0 = emotiv[(emotiv['channel'] == 'O1')]\n",
    "occ1 = emotiv[(emotiv['channel'] == 'O2')]\n",
    "fefF3 = emotiv[(emotiv['channel'] == 'F3')]\n",
    "fefF4 = emotiv[(emotiv['channel'] == 'F4')]\n",
    "fefF7 = emotiv[(emotiv['channel'] == 'F7')]\n",
    "fefF8 = emotiv[(emotiv['channel'] == 'F8')]\n",
    "temT7 = emotiv[(emotiv['channel'] == 'T7')]\n",
    "temT8 = emotiv[(emotiv['channel'] == 'T8')]\n",
    "pfcAF3 = emotiv[(emotiv['channel'] == 'AF3')]\n",
    "pfcAF4 = emotiv[(emotiv['channel'] == 'AF4')]\n",
    "motFC5 = emotiv[(emotiv['channel'] == 'FC5')]\n",
    "motFC6 = emotiv[(emotiv['channel'] == 'FC6')]\n",
    "parP7 = emotiv[(emotiv['channel'] == 'P7')]\n",
    "parP8 = emotiv[(emotiv['channel'] == 'P8')]\n",
    "\n",
    "del emotiv\n",
    "gc.collect()\n",
    "\n",
    "# occ0['data'] = occ0['data'].apply(lambda x: x.split(','))\n",
    "# occ0Exp = occ0.explode('data')\n",
    "# occ0Exp.to_csv('../data/occ0Exp.csv', sep=',')\n",
    "\n",
    "# occ1['data'] = occ1['data'].apply(lambda x: x.split(','))\n",
    "# occ1Exp = occ1.explode('data')\n",
    "# occ1Exp.to_csv('../data/occ1Exp.csv', sep=',')\n",
    "\n",
    "# fefF3['data'] = fefF3['data'].apply(lambda x: x.split(','))\n",
    "# fefF3Exp = fefF3.explode('data')\n",
    "# fefF3Exp.to_csv('../data/fefF3Exp.csv', sep=',')\n",
    "\n",
    "# fefF4['data'] = fefF4['data'].apply(lambda x: x.split(','))\n",
    "# fefF4Exp = fefF4.explode('data')\n",
    "# fefF4Exp.to_csv('../data/fefF4Exp.csv', sep=',')\n",
    "\n",
    "# fefF7['data'] = fefF7['data'].apply(lambda x: x.split(','))\n",
    "# fefF7Exp = fefF7.explode('data')\n",
    "# fefF7Exp.to_csv('../data/fefF7Exp.csv', sep=',')\n",
    "\n",
    "# fefF8['data'] = fefF8['data'].apply(lambda x: x.split(','))\n",
    "# fefF8Exp = fefF8.explode('data')\n",
    "# fefF8Exp.to_csv('../data/fefF8Exp.csv', sep=',')\n",
    "\n",
    "# temT7['data'] = temT7['data'].apply(lambda x: x.split(','))\n",
    "# temT7Exp = temT7.explode('data')\n",
    "# temT7Exp.to_csv('../data/temT7Exp.csv', sep=',')\n",
    "\n",
    "# temT8['data'] = temT8['data'].apply(lambda x: x.split(','))\n",
    "# temT8Exp = temT8.explode('data')\n",
    "# temT8Exp.to_csv('../data/temT8Exp.csv', sep=',')\n",
    "\n",
    "# pfcAF3['data'] = pfcAF3['data'].apply(lambda x: x.split(','))\n",
    "# pfcAF3Exp = pfcAF3.explode('data')\n",
    "# pfcAF3Exp.to_csv('../data/pfcAF3Exp.csv', sep=',')\n",
    "\n",
    "# pfcAF4['data'] = pfcAF4['data'].apply(lambda x: x.split(','))\n",
    "# pfcAF4Exp = pfcAF4.explode('data')\n",
    "# pfcAF4Exp.to_csv('../data/pfcAF4Exp.csv', sep=',')\n",
    "\n",
    "# motFC5['data'] = motFC5['data'].apply(lambda x: x.split(','))\n",
    "# motFC5Exp = motFC5.explode('data')\n",
    "# motFC5Exp.to_csv('../data/motFC5Exp.csv', sep=',')\n",
    "\n",
    "# motFC6['data'] = motFC6['data'].apply(lambda x: x.split(','))\n",
    "# motFC6Exp = motFC6.explode('data')\n",
    "# motFC6Exp.to_csv('../data/motFC6Exp.csv', sep=',')\n",
    "\n",
    "# parP7['data'] = parP7['data'].apply(lambda x: x.split(','))\n",
    "# parP7Exp = parP7.explode('data')\n",
    "# parP7Exp.to_csv('../data/parP7Exp.csv', sep=',')\n",
    "\n",
    "# parP8['data'] = parP8['data'].apply(lambda x: x.split(','))\n",
    "# parP8Exp = parP8.explode('data')\n",
    "# parP8Exp.to_csv('../data/parP8Exp.csv', sep=',')\n",
    "\n",
    "\n",
    "# baseline = pd.concat([occ0Exp, occ1Exp, fefF7Exp, fefF8Exp])\n",
    "# baselineWide = pd.concat([occ0Exp, occ1Exp, fefF7Exp, fefF8Exp], axis=1, join='inner' ) # breaks kernel\n",
    "# occWide = pd.concat([occ0Exp, occ1Exp], axis=1) \n",
    "# fefWide = pd.concat([fefF7Exp, fefF8Exp], axis=1, join='inner' )\n",
    "\n",
    "# print(occWide.head())\n",
    "# baselineWide.to_csv('../data/baselineWide.csv', sep=',')\n",
    "# occWide.to_csv('../data/occWide.csv', sep=',')"
   ]
  },
  {
   "cell_type": "code",
   "execution_count": null,
   "metadata": {
    "scrolled": false
   },
   "outputs": [],
   "source": [
    "fefF3['data'].iloc[0]"
   ]
  },
  {
   "cell_type": "code",
   "execution_count": 47,
   "metadata": {},
   "outputs": [
    {
     "name": "stderr",
     "output_type": "stream",
     "text": [
      "<ipython-input-47-e1db2820f10f>:1: SettingWithCopyWarning: \n",
      "A value is trying to be set on a copy of a slice from a DataFrame.\n",
      "Try using .loc[row_indexer,col_indexer] = value instead\n",
      "\n",
      "See the caveats in the documentation: https://pandas.pydata.org/pandas-docs/stable/user_guide/indexing.html#returning-a-view-versus-a-copy\n",
      "  fefF3['data'] = fefF3['data'].apply(lambda x: list(map(float, x.split(','))))\n"
     ]
    }
   ],
   "source": [
    "fefF3['data'] = fefF3['data'].apply(lambda x: list(map(float, x.split(','))))"
   ]
  },
  {
   "cell_type": "code",
   "execution_count": 22,
   "metadata": {},
   "outputs": [],
   "source": [
    "# fefF3['data'] = fefF3['data'].apply(lambda x: x.split(','))"
   ]
  },
  {
   "cell_type": "code",
   "execution_count": null,
   "metadata": {},
   "outputs": [],
   "source": [
    "# fefF3['data'].iloc[0]"
   ]
  },
  {
   "cell_type": "code",
   "execution_count": 23,
   "metadata": {
    "scrolled": true
   },
   "outputs": [],
   "source": [
    "# for i in range(len(fefF4['data'])):\n",
    "#     fefF4['data'].iloc[i] = [float(i) for i in fefF4['data'].iloc[i]]"
   ]
  },
  {
   "cell_type": "code",
   "execution_count": 24,
   "metadata": {},
   "outputs": [],
   "source": [
    "# fefF4['data'].iloc[0][:3] # wow it worked"
   ]
  },
  {
   "cell_type": "code",
   "execution_count": 59,
   "metadata": {},
   "outputs": [
    {
     "name": "stdout",
     "output_type": "stream",
     "text": [
      "256\n"
     ]
    }
   ],
   "source": [
    "for i in range(len(fefF4['data'])):\n",
    "    l = []\n",
    "    l.append(len(fefF4['data'].iloc[i]))\n",
    "\n",
    "print(min(l))"
   ]
  },
  {
   "cell_type": "code",
   "execution_count": 60,
   "metadata": {
    "scrolled": true
   },
   "outputs": [
    {
     "name": "stderr",
     "output_type": "stream",
     "text": [
      "<ipython-input-60-539bf4fc3b2f>:3: SettingWithCopyWarning: \n",
      "A value is trying to be set on a copy of a slice from a DataFrame\n",
      "\n",
      "See the caveats in the documentation: https://pandas.pydata.org/pandas-docs/stable/user_guide/indexing.html#returning-a-view-versus-a-copy\n",
      "  fefF4['data'].iloc[i] = fefF4['data'].iloc[i][:257] # or 257?\n"
     ]
    }
   ],
   "source": [
    "# find the min length and clip down the data to that length\n",
    "for i in range(len(fefF4['data'])):\n",
    "    fefF4['data'].iloc[i] = fefF4['data'].iloc[i][:257] # or 257?"
   ]
  },
  {
   "cell_type": "code",
   "execution_count": 61,
   "metadata": {},
   "outputs": [
    {
     "name": "stdout",
     "output_type": "stream",
     "text": [
      "256\n"
     ]
    }
   ],
   "source": [
    "for i in range(len(fefF4['data'])):\n",
    "    l = []\n",
    "    l.append(len(fefF4['data'].iloc[i]))\n",
    "\n",
    "print(max(l)) # it worked!"
   ]
  },
  {
   "cell_type": "code",
   "execution_count": 20,
   "metadata": {
    "scrolled": true
   },
   "outputs": [
    {
     "name": "stdout",
     "output_type": "stream",
     "text": [
      "               total        used        free      shared  buff/cache   available\r\n",
      "Mem:            15Gi       8.5Gi       2.5Gi       388Mi       4.6Gi       6.4Gi\r\n",
      "Swap:          976Mi       575Mi       401Mi\r\n"
     ]
    }
   ],
   "source": [
    "!free -h"
   ]
  },
  {
   "cell_type": "code",
   "execution_count": null,
   "metadata": {
    "scrolled": true
   },
   "outputs": [
    {
     "name": "stdout",
     "output_type": "stream",
     "text": [
      "<class 'pandas.core.series.Series'>\n",
      "256\n",
      "256\n",
      "1671731219.3417106\n",
      "<class 'pandas.core.series.Series'>\n",
      "256\n",
      "256\n",
      "1671731229.692825\n",
      "<class 'pandas.core.series.Series'>\n",
      "256\n",
      "256\n",
      "1671731239.5834432\n"
     ]
    }
   ],
   "source": [
    "# find the min length and clip down the data to that length\n",
    "\n",
    "def dataProcessor(df):\n",
    "\n",
    "    col = df['data'].apply(lambda x: list(map(float, x.split(','))))\n",
    "    print(type(col))\n",
    "    \n",
    "    for i in range(len(col)):\n",
    "        l = []\n",
    "        l.append(len(col.iloc[i]))\n",
    "\n",
    "    print(min(l))\n",
    "\n",
    "    for i in range(len(col)):\n",
    "        col.iloc[i] = col.iloc[i][:257] # or 257?\n",
    "    \n",
    "    for i in range(len(col)):\n",
    "        l = []\n",
    "        l.append(len(col.iloc[i]))\n",
    "\n",
    "    print(max(l))\n",
    "    return col.reset_index(drop=True)\n",
    "    \n",
    "dfs = [occ0, occ1, fefF3,\n",
    "       fefF4, fefF7, fefF8, temT7,temT8,\n",
    "        pfcAF3, pfcAF4, motFC5, motFC6,\n",
    "        parP7, parP8]\n",
    "\n",
    "dfTensor = pd.DataFrame()\n",
    "for x in dfs:\n",
    "    name = x['channel'].iloc[0]\n",
    "    dfTensor[name] = dataProcessor(x)\n",
    "    print(time.time())\n",
    "    \n",
    "# add code column from any channel df    \n",
    "dfTensor['code'] = occ1['code']"
   ]
  },
  {
   "cell_type": "code",
   "execution_count": 19,
   "metadata": {},
   "outputs": [
    {
     "data": {
      "text/html": [
       "<div>\n",
       "<style scoped>\n",
       "    .dataframe tbody tr th:only-of-type {\n",
       "        vertical-align: middle;\n",
       "    }\n",
       "\n",
       "    .dataframe tbody tr th {\n",
       "        vertical-align: top;\n",
       "    }\n",
       "\n",
       "    .dataframe thead th {\n",
       "        text-align: right;\n",
       "    }\n",
       "</style>\n",
       "<table border=\"1\" class=\"dataframe\">\n",
       "  <thead>\n",
       "    <tr style=\"text-align: right;\">\n",
       "      <th></th>\n",
       "      <th>P7</th>\n",
       "      <th>P8</th>\n",
       "      <th>code</th>\n",
       "    </tr>\n",
       "  </thead>\n",
       "  <tbody>\n",
       "    <tr>\n",
       "      <th>0</th>\n",
       "      <td>[4203.076923, 4192.820512, 4194.871794, 4204.6...</td>\n",
       "      <td>[4245.641025, 4236.410256, 4218.461538, 4220.0...</td>\n",
       "      <td>6</td>\n",
       "    </tr>\n",
       "    <tr>\n",
       "      <th>1</th>\n",
       "      <td>[4194.358974, 4192.307692, 4191.794871, 4188.2...</td>\n",
       "      <td>[4228.205128, 4214.871794, 4211.282051, 4213.8...</td>\n",
       "      <td>7</td>\n",
       "    </tr>\n",
       "    <tr>\n",
       "      <th>2</th>\n",
       "      <td>[4195.384615, 4198.974358, 4202.051282, 4198.9...</td>\n",
       "      <td>[4228.205128, 4229.743589, 4245.128205, 4248.7...</td>\n",
       "      <td>9</td>\n",
       "    </tr>\n",
       "    <tr>\n",
       "      <th>3</th>\n",
       "      <td>[4207.692307, 4203.076923, 4203.076923, 4208.2...</td>\n",
       "      <td>[4244.102564, 4234.871794, 4238.461538, 4250.7...</td>\n",
       "      <td>9</td>\n",
       "    </tr>\n",
       "    <tr>\n",
       "      <th>4</th>\n",
       "      <td>[4207.179487, 4210.25641, 4212.307692, 4210.76...</td>\n",
       "      <td>[4247.179487, 4249.743589, 4242.051282, 4243.5...</td>\n",
       "      <td>0</td>\n",
       "    </tr>\n",
       "    <tr>\n",
       "      <th>...</th>\n",
       "      <td>...</td>\n",
       "      <td>...</td>\n",
       "      <td>...</td>\n",
       "    </tr>\n",
       "    <tr>\n",
       "      <th>65029</th>\n",
       "      <td>[4216.923076, 4214.358974, 4208.717948, 4204.6...</td>\n",
       "      <td>[4266.666666, 4266.153846, 4263.589743, 4263.0...</td>\n",
       "      <td>-1</td>\n",
       "    </tr>\n",
       "    <tr>\n",
       "      <th>65030</th>\n",
       "      <td>[4201.538461, 4195.384615, 4202.564102, 4217.4...</td>\n",
       "      <td>[4241.025641, 4237.948717, 4228.717948, 4237.9...</td>\n",
       "      <td>-1</td>\n",
       "    </tr>\n",
       "    <tr>\n",
       "      <th>65031</th>\n",
       "      <td>[4229.743589, 4216.923076, 4209.743589, 4215.8...</td>\n",
       "      <td>[4252.307692, 4237.435897, 4231.282051, 4240.5...</td>\n",
       "      <td>-1</td>\n",
       "    </tr>\n",
       "    <tr>\n",
       "      <th>65032</th>\n",
       "      <td>[4246.153846, 4244.102564, 4250.25641, 4257.94...</td>\n",
       "      <td>[4320.0, 4315.897435, 4311.794871, 4317.948717...</td>\n",
       "      <td>-1</td>\n",
       "    </tr>\n",
       "    <tr>\n",
       "      <th>65033</th>\n",
       "      <td>[4214.871794, 4213.333333, 4218.974358, 4216.4...</td>\n",
       "      <td>[4255.897435, 4258.461538, 4262.564102, 4254.8...</td>\n",
       "      <td>-1</td>\n",
       "    </tr>\n",
       "  </tbody>\n",
       "</table>\n",
       "<p>65034 rows × 3 columns</p>\n",
       "</div>"
      ],
      "text/plain": [
       "                                                      P7  \\\n",
       "0      [4203.076923, 4192.820512, 4194.871794, 4204.6...   \n",
       "1      [4194.358974, 4192.307692, 4191.794871, 4188.2...   \n",
       "2      [4195.384615, 4198.974358, 4202.051282, 4198.9...   \n",
       "3      [4207.692307, 4203.076923, 4203.076923, 4208.2...   \n",
       "4      [4207.179487, 4210.25641, 4212.307692, 4210.76...   \n",
       "...                                                  ...   \n",
       "65029  [4216.923076, 4214.358974, 4208.717948, 4204.6...   \n",
       "65030  [4201.538461, 4195.384615, 4202.564102, 4217.4...   \n",
       "65031  [4229.743589, 4216.923076, 4209.743589, 4215.8...   \n",
       "65032  [4246.153846, 4244.102564, 4250.25641, 4257.94...   \n",
       "65033  [4214.871794, 4213.333333, 4218.974358, 4216.4...   \n",
       "\n",
       "                                                      P8  code  \n",
       "0      [4245.641025, 4236.410256, 4218.461538, 4220.0...     6  \n",
       "1      [4228.205128, 4214.871794, 4211.282051, 4213.8...     7  \n",
       "2      [4228.205128, 4229.743589, 4245.128205, 4248.7...     9  \n",
       "3      [4244.102564, 4234.871794, 4238.461538, 4250.7...     9  \n",
       "4      [4247.179487, 4249.743589, 4242.051282, 4243.5...     0  \n",
       "...                                                  ...   ...  \n",
       "65029  [4266.666666, 4266.153846, 4263.589743, 4263.0...    -1  \n",
       "65030  [4241.025641, 4237.948717, 4228.717948, 4237.9...    -1  \n",
       "65031  [4252.307692, 4237.435897, 4231.282051, 4240.5...    -1  \n",
       "65032  [4320.0, 4315.897435, 4311.794871, 4317.948717...    -1  \n",
       "65033  [4255.897435, 4258.461538, 4262.564102, 4254.8...    -1  \n",
       "\n",
       "[65034 rows x 3 columns]"
      ]
     },
     "execution_count": 19,
     "metadata": {},
     "output_type": "execute_result"
    }
   ],
   "source": [
    "# seriesTest = occ1['data'].apply(lambda x: list(map(float, x.split(','))))\n",
    "# seriesTest.reset_index(drop=True)\n",
    "\n",
    "# occ1\n",
    "# occ1.reset_index(drop=True, inplace=True)\n",
    "# dftensor['code'] = occ1['code']\n",
    "dfTensor\n",
    "dfTensor.to_csv('../data/dfTensor.csv', sep=',')"
   ]
  },
  {
   "cell_type": "code",
   "execution_count": 38,
   "metadata": {
    "scrolled": false
   },
   "outputs": [
    {
     "data": {
      "text/html": [
       "<div>\n",
       "<style scoped>\n",
       "    .dataframe tbody tr th:only-of-type {\n",
       "        vertical-align: middle;\n",
       "    }\n",
       "\n",
       "    .dataframe tbody tr th {\n",
       "        vertical-align: top;\n",
       "    }\n",
       "\n",
       "    .dataframe thead th {\n",
       "        text-align: right;\n",
       "    }\n",
       "</style>\n",
       "<table border=\"1\" class=\"dataframe\">\n",
       "  <thead>\n",
       "    <tr style=\"text-align: right;\">\n",
       "      <th></th>\n",
       "      <th>occ1</th>\n",
       "    </tr>\n",
       "  </thead>\n",
       "  <tbody>\n",
       "    <tr>\n",
       "      <th>7</th>\n",
       "      <td>[4229.743589, 4216.923076, 4207.179487, 4215.3...</td>\n",
       "    </tr>\n",
       "    <tr>\n",
       "      <th>21</th>\n",
       "      <td>[4208.717948, 4197.435897, 4198.461538, 4203.0...</td>\n",
       "    </tr>\n",
       "    <tr>\n",
       "      <th>35</th>\n",
       "      <td>[4219.487179, 4224.102564, 4230.25641, 4231.28...</td>\n",
       "    </tr>\n",
       "    <tr>\n",
       "      <th>49</th>\n",
       "      <td>[4229.230769, 4222.051282, 4229.230769, 4239.4...</td>\n",
       "    </tr>\n",
       "    <tr>\n",
       "      <th>63</th>\n",
       "      <td>[4233.846153, 4232.820512, 4230.25641, 4236.41...</td>\n",
       "    </tr>\n",
       "    <tr>\n",
       "      <th>...</th>\n",
       "      <td>...</td>\n",
       "    </tr>\n",
       "    <tr>\n",
       "      <th>910413</th>\n",
       "      <td>[4218.461538, 4218.461538, 4218.974358, 4216.4...</td>\n",
       "    </tr>\n",
       "    <tr>\n",
       "      <th>910427</th>\n",
       "      <td>[4205.128205, 4203.076923, 4196.923076, 4199.4...</td>\n",
       "    </tr>\n",
       "    <tr>\n",
       "      <th>910441</th>\n",
       "      <td>[4209.230769, 4203.589743, 4201.538461, 4211.2...</td>\n",
       "    </tr>\n",
       "    <tr>\n",
       "      <th>910455</th>\n",
       "      <td>[4262.564102, 4262.051282, 4265.641025, 4272.3...</td>\n",
       "    </tr>\n",
       "    <tr>\n",
       "      <th>910469</th>\n",
       "      <td>[4202.051282, 4202.051282, 4204.102564, 4198.4...</td>\n",
       "    </tr>\n",
       "  </tbody>\n",
       "</table>\n",
       "<p>65034 rows × 1 columns</p>\n",
       "</div>"
      ],
      "text/plain": [
       "                                                     occ1\n",
       "7       [4229.743589, 4216.923076, 4207.179487, 4215.3...\n",
       "21      [4208.717948, 4197.435897, 4198.461538, 4203.0...\n",
       "35      [4219.487179, 4224.102564, 4230.25641, 4231.28...\n",
       "49      [4229.230769, 4222.051282, 4229.230769, 4239.4...\n",
       "63      [4233.846153, 4232.820512, 4230.25641, 4236.41...\n",
       "...                                                   ...\n",
       "910413  [4218.461538, 4218.461538, 4218.974358, 4216.4...\n",
       "910427  [4205.128205, 4203.076923, 4196.923076, 4199.4...\n",
       "910441  [4209.230769, 4203.589743, 4201.538461, 4211.2...\n",
       "910455  [4262.564102, 4262.051282, 4265.641025, 4272.3...\n",
       "910469  [4202.051282, 4202.051282, 4204.102564, 4198.4...\n",
       "\n",
       "[65034 rows x 1 columns]"
      ]
     },
     "execution_count": 38,
     "metadata": {},
     "output_type": "execute_result"
    }
   ],
   "source": [
    "dftensor = pd.DataFrame()\n",
    "dftensor['occ1'] = occ1['data'].apply(lambda x: list(map(float, x.split(','))))\n",
    "dftensor"
   ]
  },
  {
   "cell_type": "code",
   "execution_count": 33,
   "metadata": {},
   "outputs": [
    {
     "ename": "NameError",
     "evalue": "name 'occ0' is not defined",
     "output_type": "error",
     "traceback": [
      "\u001b[0;31m--------------------------------------------------------------------\u001b[0m",
      "\u001b[0;31mNameError\u001b[0m                          Traceback (most recent call last)",
      "\u001b[0;32m<ipython-input-33-752d326957ff>\u001b[0m in \u001b[0;36m<module>\u001b[0;34m\u001b[0m\n\u001b[0;32m----> 1\u001b[0;31m \u001b[0mocc0\u001b[0m\u001b[0;34m\u001b[0m\u001b[0;34m\u001b[0m\u001b[0m\n\u001b[0m",
      "\u001b[0;31mNameError\u001b[0m: name 'occ0' is not defined"
     ]
    }
   ],
   "source": [
    "occ0"
   ]
  },
  {
   "cell_type": "code",
   "execution_count": null,
   "metadata": {},
   "outputs": [],
   "source": [
    "occ0.to_csv('../data/occ0Wide.csv', sep=',')\n",
    "occ1.to_csv('../data/occ1Wide.csv', sep=',')\n",
    "fefF3.to_csv('../data/fefF3Wide.csv', sep=',')\n",
    "fefF4.to_csv('../data/fefF4Wide.csv', sep=',')\n",
    "fefF7.to_csv('../data/fefF7Wide.csv', sep=',')\n",
    "fefF8.to_csv('../data/fefF8Wide.csv', sep=',')\n",
    "temT7.to_csv('../data/temT7Wide.csv', sep=',')\n",
    "temT8.to_csv('../data/temT8Wide.csv', sep=',')\n",
    "pfcAF3.to_csv('../data/pfcAF3Wide.csv', sep=',')\n",
    "pfcAF4.to_csv('../data/pfcAF4Wide.csv', sep=',')\n",
    "motFC5.to_csv('../data/motFC5Wide.csv', sep=',')\n",
    "motFC6.to_csv('../data/motFC6Wide.csv', sep=',')\n",
    "parP7.to_csv('../data/parP7Wide.csv', sep=',')\n",
    "parP8.to_csv('../data/parP8Wide.csv', sep=',')\n"
   ]
  },
  {
   "cell_type": "code",
   "execution_count": 74,
   "metadata": {},
   "outputs": [
    {
     "data": {
      "text/plain": [
       "123"
      ]
     },
     "execution_count": 74,
     "metadata": {},
     "output_type": "execute_result"
    }
   ],
   "source": [
    "import gc\n",
    "\n",
    "del occ0\n",
    "del occ1\n",
    "del fefF3\n",
    "del fefF4\n",
    "del fefF7\n",
    "del fefF8\n",
    "del temT7\n",
    "del temT8\n",
    "del pfcAF3\n",
    "del pfcAF4\n",
    "del motFC5\n",
    "del motFC6\n",
    "del parP7\n",
    "del parP8\n",
    "# del emotiv\n",
    "\n",
    "gc.collect()\n"
   ]
  },
  {
   "cell_type": "markdown",
   "metadata": {},
   "source": [
    "![Brain scan 3D reconstruction with the electrode position labels written on it](http://mindbigdata.com/images/DavidVivancosBrainAreas10-20.png)"
   ]
  }
 ],
 "metadata": {
  "kernelspec": {
   "display_name": "Python (learn-env)",
   "language": "python",
   "name": "learn-env"
  },
  "language_info": {
   "codemirror_mode": {
    "name": "ipython",
    "version": 3
   },
   "file_extension": ".py",
   "mimetype": "text/x-python",
   "name": "python",
   "nbconvert_exporter": "python",
   "pygments_lexer": "ipython3",
   "version": "3.8.5"
  }
 },
 "nbformat": 4,
 "nbformat_minor": 4
}
