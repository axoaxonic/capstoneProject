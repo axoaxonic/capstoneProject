{
 "cells": [
  {
   "cell_type": "code",
   "execution_count": 1,
   "metadata": {},
   "outputs": [
    {
     "name": "stdout",
     "output_type": "stream",
     "text": [
      "               total        used        free      shared  buff/cache   available\r\n",
      "Mem:            15Gi       2.9Gi       7.0Gi       262Mi       5.6Gi        12Gi\r\n",
      "Swap:          976Mi       883Mi        93Mi\r\n"
     ]
    }
   ],
   "source": [
    "!free -h"
   ]
  },
  {
   "cell_type": "code",
   "execution_count": null,
   "metadata": {},
   "outputs": [],
   "source": [
    "import time\n",
    "import pandas as pd\n",
    "import numpy as np\n",
    "\n",
    "cols = ['id', 'event', 'device', 'channel', 'code', 'size', 'data']\n",
    "emotiv = pd.read_csv('../../fulldata/EP1.txt', delimiter='\\t', names=cols)\n",
    "emotiv.drop(['device', 'id', 'size'], inplace=True, axis=1)\n",
    "emotiv['data'].astype(float, copy=False)\n",
    "# for channel in set(emotiv['channel']):\n",
    "#     print(channel)\n",
    "\n",
    "# occ0 = emotiv[(emotiv['channel'] == 'O1')]\n",
    "# occ1 = emotiv[(emotiv['channel'] == 'O2')]\n",
    "# fefF3 = emotiv[(emotiv['channel'] == 'F3')]\n",
    "# fefF4 = emotiv[(emotiv['channel'] == 'F4')]\n",
    "# fefF7 = emotiv[(emotiv['channel'] == 'F7')]\n",
    "# fefF8 = emotiv[(emotiv['channel'] == 'F8')]\n",
    "# temT7 = emotiv[(emotiv['channel'] == 'T7')]\n",
    "# temT8 = emotiv[(emotiv['channel'] == 'T8')]\n",
    "# pfcAF3 = emotiv[(emotiv['channel'] == 'AF3')]\n",
    "# pfcAF4 = emotiv[(emotiv['channel'] == 'AF4')]\n",
    "# motFC5 = emotiv[(emotiv['channel'] == 'FC5')]\n",
    "# motFC6 = emotiv[(emotiv['channel'] == 'FC6')]\n",
    "# parP7 = emotiv[(emotiv['channel'] == 'P7')]\n",
    "# parP8 = emotiv[(emotiv['channel'] == 'P8')]\n",
    "\n",
    "\n",
    "# del emotiv\n",
    "\n",
    "\n",
    "# occ0['data'] = occ0['data'].apply(lambda x: x.split(','))\n",
    "# occ0Exp = occ0.explode('data')\n",
    "# occ0Exp.to_csv('../data/occ0Exp.csv', sep=',')\n",
    "\n",
    "# occ1['data'] = occ1['data'].apply(lambda x: x.split(','))\n",
    "# occ1Exp = occ1.explode('data')\n",
    "# occ1Exp.to_csv('../data/occ1Exp.csv', sep=',')\n",
    "\n",
    "# fefF3['data'] = fefF3['data'].apply(lambda x: x.split(','))\n",
    "# fefF3Exp = fefF3.explode('data')\n",
    "# fefF3Exp.to_csv('../data/fefF3Exp.csv', sep=',')\n",
    "\n",
    "# fefF4['data'] = fefF4['data'].apply(lambda x: x.split(','))\n",
    "# fefF4Exp = fefF4.explode('data')\n",
    "# fefF4Exp.to_csv('../data/fefF4Exp.csv', sep=',')\n",
    "\n",
    "# fefF7['data'] = fefF7['data'].apply(lambda x: x.split(','))\n",
    "# fefF7Exp = fefF7.explode('data')\n",
    "# fefF7Exp.to_csv('../data/fefF7Exp.csv', sep=',')\n",
    "\n",
    "# fefF8['data'] = fefF8['data'].apply(lambda x: x.split(','))\n",
    "# fefF8Exp = fefF8.explode('data')\n",
    "# fefF8Exp.to_csv('../data/fefF8Exp.csv', sep=',')\n",
    "\n",
    "# temT7['data'] = temT7['data'].apply(lambda x: x.split(','))\n",
    "# temT7Exp = temT7.explode('data')\n",
    "# temT7Exp.to_csv('../data/temT7Exp.csv', sep=',')\n",
    "\n",
    "# temT8['data'] = temT8['data'].apply(lambda x: x.split(','))\n",
    "# temT8Exp = temT8.explode('data')\n",
    "# temT8Exp.to_csv('../data/temT8Exp.csv', sep=',')\n",
    "\n",
    "# pfcAF3['data'] = pfcAF3['data'].apply(lambda x: x.split(','))\n",
    "# pfcAF3Exp = pfcAF3.explode('data')\n",
    "# pfcAF3Exp.to_csv('../data/pfcAF3Exp.csv', sep=',')\n",
    "\n",
    "# pfcAF4['data'] = pfcAF4['data'].apply(lambda x: x.split(','))\n",
    "# pfcAF4Exp = pfcAF4.explode('data')\n",
    "# pfcAF4Exp.to_csv('../data/pfcAF4Exp.csv', sep=',')\n",
    "\n",
    "# motFC5['data'] = motFC5['data'].apply(lambda x: x.split(','))\n",
    "# motFC5Exp = motFC5.explode('data')\n",
    "# motFC5Exp.to_csv('../data/motFC5Exp.csv', sep=',')\n",
    "\n",
    "# motFC6['data'] = motFC6['data'].apply(lambda x: x.split(','))\n",
    "# motFC6Exp = motFC6.explode('data')\n",
    "# motFC6Exp.to_csv('../data/motFC6Exp.csv', sep=',')\n",
    "\n",
    "# parP7['data'] = parP7['data'].apply(lambda x: x.split(','))\n",
    "# parP7Exp = parP7.explode('data')\n",
    "# parP7Exp.to_csv('../data/parP7Exp.csv', sep=',')\n",
    "\n",
    "# parP8['data'] = parP8['data'].apply(lambda x: x.split(','))\n",
    "# parP8Exp = parP8.explode('data')\n",
    "# parP8Exp.to_csv('../data/parP8Exp.csv', sep=',')\n",
    "\n",
    "\n",
    "# baseline = pd.concat([occ0Exp, occ1Exp, fefF7Exp, fefF8Exp])\n",
    "# baselineWide = pd.concat([occ0Exp, occ1Exp, fefF7Exp, fefF8Exp], axis=1, join='inner' ) # breaks kernel\n",
    "# occWide = pd.concat([occ0Exp, occ1Exp], axis=1) \n",
    "# fefWide = pd.concat([fefF7Exp, fefF8Exp], axis=1, join='inner' )\n",
    "\n",
    "# print(occWide.head())\n",
    "# baselineWide.to_csv('../data/baselineWide.csv', sep=',')\n",
    "# occWide.to_csv('../data/occWide.csv', sep=',')"
   ]
  },
  {
   "cell_type": "markdown",
   "metadata": {},
   "source": [
    "![Brain scan 3D reconstruction with the electrode position labels written on it](http://mindbigdata.com/images/DavidVivancosBrainAreas10-20.png)"
   ]
  }
 ],
 "metadata": {
  "kernelspec": {
   "display_name": "Python (learn-env)",
   "language": "python",
   "name": "learn-env"
  },
  "language_info": {
   "codemirror_mode": {
    "name": "ipython",
    "version": 3
   },
   "file_extension": ".py",
   "mimetype": "text/x-python",
   "name": "python",
   "nbconvert_exporter": "python",
   "pygments_lexer": "ipython3",
   "version": "3.8.5"
  }
 },
 "nbformat": 4,
 "nbformat_minor": 4
}
