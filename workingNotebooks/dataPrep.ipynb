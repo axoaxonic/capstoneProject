{
 "cells": [
  {
   "cell_type": "code",
   "execution_count": 1,
   "metadata": {},
   "outputs": [
    {
     "name": "stdout",
     "output_type": "stream",
     "text": [
      "   event channel  code         data\n",
      "6  67635      O1     6  4203.076923\n",
      "6  67635      O1     6  4193.333333\n",
      "6  67635      O1     6  4194.871794\n",
      "6  67635      O1     6  4207.179487\n",
      "6  67635      O1     6  4220.512820\n"
     ]
    }
   ],
   "source": [
    "import time\n",
    "import pandas as pd\n",
    "import numpy as np\n",
    "\n",
    "cols = ['id', 'event', 'device', 'channel', 'code', 'size', 'data']\n",
    "emotiv = pd.read_csv('data/EP1.txt', delimiter='\\t', names=cols)\n",
    "emotiv.drop(['device', 'id', 'size'], inplace=True, axis=1)\n",
    "\n",
    "occ0 = emotiv[(emotiv['channel'] == 'O1')]\n",
    "occ1 = emotiv[(emotiv['channel'] == 'O2')]\n",
    "fefF3 = emotiv[(emotiv['channel'] == 'F3')]\n",
    "fefF4 = emotiv[(emotiv['channel'] == 'F4')]\n",
    "fefF7 = emotiv[(emotiv['channel'] == 'F7')]\n",
    "fefF8 = emotiv[(emotiv['channel'] == 'F8')]\n",
    "\n",
    "del emotiv\n",
    "\n",
    "occ0['data'] = occ0['data'].apply(lambda x: x.split(','))\n",
    "occ0Exp = occ0.explode('data')\n",
    "\n",
    "occ1['data'] = occ1['data'].apply(lambda x: x.split(','))\n",
    "occ1Exp = occ1.explode('data')\n",
    "\n",
    "#fefF3['data'] = fefF3['data'].apply(lambda x: x.split(','))\n",
    "#fefF3Exp = fefF3.explode('data')\n",
    "\n",
    "#fefF4['data'] = fefF4['data'].apply(lambda x: x.split(','))\n",
    "#fefF4Exp = fefF4.explode('data')\n",
    "\n",
    "fefF7['data'] = fefF7['data'].apply(lambda x: x.split(','))\n",
    "fefF7Exp = fefF7.explode('data')\n",
    "\n",
    "fefF8['data'] = fefF8['data'].apply(lambda x: x.split(','))\n",
    "fefF8Exp = fefF8.explode('data')\n",
    "\n",
    "baseline = pd.concat([occ0Exp, occ1Exp, fefF7Exp, fefF8Exp])\n",
    "print(baseline.head())\n",
    "baseline.to_csv('baseline.csv', sep=',')"
   ]
  }
 ],
 "metadata": {
  "kernelspec": {
   "display_name": "Python (learn-env)",
   "language": "python",
   "name": "learn-env"
  },
  "language_info": {
   "codemirror_mode": {
    "name": "ipython",
    "version": 3
   },
   "file_extension": ".py",
   "mimetype": "text/x-python",
   "name": "python",
   "nbconvert_exporter": "python",
   "pygments_lexer": "ipython3",
   "version": "3.8.5"
  }
 },
 "nbformat": 4,
 "nbformat_minor": 4
}
